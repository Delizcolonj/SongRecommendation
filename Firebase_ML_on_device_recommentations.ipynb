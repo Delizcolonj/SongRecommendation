{
  "nbformat": 4,
  "nbformat_minor": 0,
  "metadata": {
    "colab": {
      "name": "Firebase ML on-device recommentations.ipynb",
      "provenance": [],
      "collapsed_sections": [],
      "toc_visible": true
    },
    "kernelspec": {
      "display_name": "Python 3",
      "language": "python",
      "name": "python3"
    },
    "language_info": {
      "codemirror_mode": {
        "name": "ipython",
        "version": 3
      },
      "file_extension": ".py",
      "mimetype": "text/x-python",
      "name": "python",
      "nbconvert_exporter": "python",
      "pygments_lexer": "ipython3",
      "version": "3.8.5"
    },
    "accelerator": "GPU"
  },
  "cells": [
    {
      "cell_type": "code",
      "metadata": {
        "cellView": "form",
        "id": "TUfAcER1oUS6",
        "scrolled": true
      },
      "source": [
        "#@title Licensed under the Apache License, Version 2.0 (the \"License\");\n",
        "# you may not use this file except in compliance with the License.\n",
        "# You may obtain a copy of the License at\n",
        "#\n",
        "# https://www.apache.org/licenses/LICENSE-2.0\n",
        "#\n",
        "# Unless required by applicable law or agreed to in writing, software\n",
        "# distributed under the License is distributed on an \"AS IS\" BASIS,\n",
        "# WITHOUT WARRANTIES OR CONDITIONS OF ANY KIND, either express or implied.\n",
        "# See the License for the specific language governing permissions and\n",
        "# limitations under the License."
      ],
      "execution_count": null,
      "outputs": []
    },
    {
      "cell_type": "markdown",
      "metadata": {
        "id": "Gb7qyhNL1yWt"
      },
      "source": [
        "# On-device recommendations with Firebase ML and TensorFlow Lite"
      ]
    },
    {
      "cell_type": "markdown",
      "metadata": {
        "id": "Fw5Y7snSuG51"
      },
      "source": [
        "<table class=\"tfo-notebook-buttons\" align=\"left\">\n",
        "  <td>\n",
        "    <a target=\"_blank\" href=\"https://colab.research.google.com/github/tensorflow/examples/blob/master/lite/examples/recommendation/ml/ondevice_recommendation.ipynb\"><img src=\"https://www.tensorflow.org/images/colab_logo_32px.png\" />Run in Google Colab</a>\n",
        "  </td>\n",
        "  <td>\n",
        "    <a target=\"_blank\" href=\"https://github.com/tensorflow/examples/blob/master/lite/examples/recommendation/ml/ondevice_recommendation.ipynb\"><img src=\"https://www.tensorflow.org/images/GitHub-Mark-32px.png\" />View source on GitHub</a>\n",
        "  </td>\n",
        "</table>"
      ]
    },
    {
      "cell_type": "markdown",
      "metadata": {
        "id": "fyYiyNxVp6mS"
      },
      "source": [
        "## Overview"
      ]
    },
    {
      "cell_type": "markdown",
      "metadata": {
        "id": "CShg7PXmqGUJ"
      },
      "source": [
        "This is the notebook for step 11 of the codelab [**Add recommendations to your app with TensorFlow Lite and Firebase**](https://codelabs.developers.google.com/codelabs/contentrecommendation-android). Before running the code in this notebook, complete steps 1-10 of the codelab to get your app and console projects set up.\n",
        "\n",
        "This code base provides a toolkit to train an on-device recommendation\n",
        "tensorflow model with user data collected in your app with Firebase Analytics. This model will then be deployed with Firebase ML to serve movie recommendations in the sample app FireFlix. \n",
        "\n",
        "This Notebook shows an end-to-end example that 1) imports Firebase Analytics data from BigQuery 2) preprocesses that data to prepare it for training 3) trains a recommendations model using the data and 4) exports the model in tflite format, ready to use in apps to run inference and serve recommendations.\n",
        "\n",
        "Since the app we use in the codelab is just a sample app, it doesn't have the usage necessary to generate a significant amount of analytics events. Since training accurate models requires a large amount of data, for the purposes of this codelab and notebook, we will be simulating a larger analytics event store by using the public [movielens](https://grouplens.org/datasets/movielens/) dataset, but you could\n",
        "adapt the data processing script for your dataset and train your own\n",
        "recommendation model."
      ]
    },
    {
      "cell_type": "markdown",
      "metadata": {
        "id": "bcLF2PKkSbV3"
      },
      "source": [
        "## Prerequisites\n",
        "\n",
        "Run the cell below to clone the tensorflow recommendations model sample from Github. This is the model we will use, with our analytics training data, to create the recommendations model.\n",
        "\n",
        "The model uses a Convolutional neural-network encoder (CNN): applying multiple layers of convolutional neural-network to generate an encoding of the user history analytics data. For more details, refer to the [documentation]() for the underlying tensorflow model."
      ]
    },
    {
      "cell_type": "code",
      "metadata": {
        "id": "6cv3K3oaksJv",
        "scrolled": true,
        "outputId": "e1cb92a1-8269-46a1-e568-1414b7bdfd84",
        "colab": {
          "base_uri": "https://localhost:8080/",
          "height": 1000
        }
      },
      "source": [
        "!git clone https://github.com/tensorflow/examples\n",
        "%cd examples/lite/examples/recommendation/ml/\n",
        "!pip install -r requirements.txt\n",
        "!pip install --upgrade google-cloud-storage google-cloud-bigquery[bqstorage]"
      ],
      "execution_count": null,
      "outputs": [
        {
          "output_type": "stream",
          "text": [
            "fatal: destination path 'examples' already exists and is not an empty directory.\n",
            "/content/examples/lite/examples/recommendation/ml\n",
            "Requirement already satisfied: pandas>=1.0.5 in /usr/local/lib/python3.6/dist-packages (from -r requirements.txt (line 1)) (1.1.2)\n",
            "Requirement already satisfied: tensorflow>=2.2.0 in /usr/local/lib/python3.6/dist-packages (from -r requirements.txt (line 2)) (2.3.0)\n",
            "Requirement already satisfied: absl-py in /usr/local/lib/python3.6/dist-packages (from -r requirements.txt (line 3)) (0.10.0)\n",
            "Requirement already satisfied: numpy>=1.15.4 in /usr/local/lib/python3.6/dist-packages (from pandas>=1.0.5->-r requirements.txt (line 1)) (1.18.5)\n",
            "Requirement already satisfied: python-dateutil>=2.7.3 in /usr/local/lib/python3.6/dist-packages (from pandas>=1.0.5->-r requirements.txt (line 1)) (2.8.1)\n",
            "Requirement already satisfied: pytz>=2017.2 in /usr/local/lib/python3.6/dist-packages (from pandas>=1.0.5->-r requirements.txt (line 1)) (2018.9)\n",
            "Requirement already satisfied: gast==0.3.3 in /usr/local/lib/python3.6/dist-packages (from tensorflow>=2.2.0->-r requirements.txt (line 2)) (0.3.3)\n",
            "Requirement already satisfied: wrapt>=1.11.1 in /usr/local/lib/python3.6/dist-packages (from tensorflow>=2.2.0->-r requirements.txt (line 2)) (1.12.1)\n",
            "Requirement already satisfied: tensorflow-estimator<2.4.0,>=2.3.0 in /usr/local/lib/python3.6/dist-packages (from tensorflow>=2.2.0->-r requirements.txt (line 2)) (2.3.0)\n",
            "Requirement already satisfied: google-pasta>=0.1.8 in /usr/local/lib/python3.6/dist-packages (from tensorflow>=2.2.0->-r requirements.txt (line 2)) (0.2.0)\n",
            "Requirement already satisfied: astunparse==1.6.3 in /usr/local/lib/python3.6/dist-packages (from tensorflow>=2.2.0->-r requirements.txt (line 2)) (1.6.3)\n",
            "Requirement already satisfied: wheel>=0.26 in /usr/local/lib/python3.6/dist-packages (from tensorflow>=2.2.0->-r requirements.txt (line 2)) (0.35.1)\n",
            "Requirement already satisfied: keras-preprocessing<1.2,>=1.1.1 in /usr/local/lib/python3.6/dist-packages (from tensorflow>=2.2.0->-r requirements.txt (line 2)) (1.1.2)\n",
            "Requirement already satisfied: h5py<2.11.0,>=2.10.0 in /usr/local/lib/python3.6/dist-packages (from tensorflow>=2.2.0->-r requirements.txt (line 2)) (2.10.0)\n",
            "Requirement already satisfied: protobuf>=3.9.2 in /usr/local/lib/python3.6/dist-packages (from tensorflow>=2.2.0->-r requirements.txt (line 2)) (3.12.4)\n",
            "Requirement already satisfied: six>=1.12.0 in /usr/local/lib/python3.6/dist-packages (from tensorflow>=2.2.0->-r requirements.txt (line 2)) (1.15.0)\n",
            "Requirement already satisfied: scipy==1.4.1 in /usr/local/lib/python3.6/dist-packages (from tensorflow>=2.2.0->-r requirements.txt (line 2)) (1.4.1)\n",
            "Requirement already satisfied: tensorboard<3,>=2.3.0 in /usr/local/lib/python3.6/dist-packages (from tensorflow>=2.2.0->-r requirements.txt (line 2)) (2.3.0)\n",
            "Requirement already satisfied: termcolor>=1.1.0 in /usr/local/lib/python3.6/dist-packages (from tensorflow>=2.2.0->-r requirements.txt (line 2)) (1.1.0)\n",
            "Requirement already satisfied: grpcio>=1.8.6 in /usr/local/lib/python3.6/dist-packages (from tensorflow>=2.2.0->-r requirements.txt (line 2)) (1.32.0)\n",
            "Requirement already satisfied: opt-einsum>=2.3.2 in /usr/local/lib/python3.6/dist-packages (from tensorflow>=2.2.0->-r requirements.txt (line 2)) (3.3.0)\n",
            "Requirement already satisfied: setuptools in /usr/local/lib/python3.6/dist-packages (from protobuf>=3.9.2->tensorflow>=2.2.0->-r requirements.txt (line 2)) (50.3.0)\n",
            "Requirement already satisfied: requests<3,>=2.21.0 in /usr/local/lib/python3.6/dist-packages (from tensorboard<3,>=2.3.0->tensorflow>=2.2.0->-r requirements.txt (line 2)) (2.23.0)\n",
            "Requirement already satisfied: werkzeug>=0.11.15 in /usr/local/lib/python3.6/dist-packages (from tensorboard<3,>=2.3.0->tensorflow>=2.2.0->-r requirements.txt (line 2)) (1.0.1)\n",
            "Requirement already satisfied: tensorboard-plugin-wit>=1.6.0 in /usr/local/lib/python3.6/dist-packages (from tensorboard<3,>=2.3.0->tensorflow>=2.2.0->-r requirements.txt (line 2)) (1.7.0)\n",
            "Requirement already satisfied: markdown>=2.6.8 in /usr/local/lib/python3.6/dist-packages (from tensorboard<3,>=2.3.0->tensorflow>=2.2.0->-r requirements.txt (line 2)) (3.2.2)\n",
            "Requirement already satisfied: google-auth<2,>=1.6.3 in /usr/local/lib/python3.6/dist-packages (from tensorboard<3,>=2.3.0->tensorflow>=2.2.0->-r requirements.txt (line 2)) (1.17.2)\n",
            "Requirement already satisfied: google-auth-oauthlib<0.5,>=0.4.1 in /usr/local/lib/python3.6/dist-packages (from tensorboard<3,>=2.3.0->tensorflow>=2.2.0->-r requirements.txt (line 2)) (0.4.1)\n",
            "Requirement already satisfied: chardet<4,>=3.0.2 in /usr/local/lib/python3.6/dist-packages (from requests<3,>=2.21.0->tensorboard<3,>=2.3.0->tensorflow>=2.2.0->-r requirements.txt (line 2)) (3.0.4)\n",
            "Requirement already satisfied: idna<3,>=2.5 in /usr/local/lib/python3.6/dist-packages (from requests<3,>=2.21.0->tensorboard<3,>=2.3.0->tensorflow>=2.2.0->-r requirements.txt (line 2)) (2.10)\n",
            "Requirement already satisfied: urllib3!=1.25.0,!=1.25.1,<1.26,>=1.21.1 in /usr/local/lib/python3.6/dist-packages (from requests<3,>=2.21.0->tensorboard<3,>=2.3.0->tensorflow>=2.2.0->-r requirements.txt (line 2)) (1.24.3)\n",
            "Requirement already satisfied: certifi>=2017.4.17 in /usr/local/lib/python3.6/dist-packages (from requests<3,>=2.21.0->tensorboard<3,>=2.3.0->tensorflow>=2.2.0->-r requirements.txt (line 2)) (2020.6.20)\n",
            "Requirement already satisfied: importlib-metadata; python_version < \"3.8\" in /usr/local/lib/python3.6/dist-packages (from markdown>=2.6.8->tensorboard<3,>=2.3.0->tensorflow>=2.2.0->-r requirements.txt (line 2)) (2.0.0)\n",
            "Requirement already satisfied: rsa<5,>=3.1.4; python_version >= \"3\" in /usr/local/lib/python3.6/dist-packages (from google-auth<2,>=1.6.3->tensorboard<3,>=2.3.0->tensorflow>=2.2.0->-r requirements.txt (line 2)) (4.6)\n",
            "Requirement already satisfied: pyasn1-modules>=0.2.1 in /usr/local/lib/python3.6/dist-packages (from google-auth<2,>=1.6.3->tensorboard<3,>=2.3.0->tensorflow>=2.2.0->-r requirements.txt (line 2)) (0.2.8)\n",
            "Requirement already satisfied: cachetools<5.0,>=2.0.0 in /usr/local/lib/python3.6/dist-packages (from google-auth<2,>=1.6.3->tensorboard<3,>=2.3.0->tensorflow>=2.2.0->-r requirements.txt (line 2)) (4.1.1)\n",
            "Requirement already satisfied: requests-oauthlib>=0.7.0 in /usr/local/lib/python3.6/dist-packages (from google-auth-oauthlib<0.5,>=0.4.1->tensorboard<3,>=2.3.0->tensorflow>=2.2.0->-r requirements.txt (line 2)) (1.3.0)\n",
            "Requirement already satisfied: zipp>=0.5 in /usr/local/lib/python3.6/dist-packages (from importlib-metadata; python_version < \"3.8\"->markdown>=2.6.8->tensorboard<3,>=2.3.0->tensorflow>=2.2.0->-r requirements.txt (line 2)) (3.2.0)\n",
            "Requirement already satisfied: pyasn1>=0.1.3 in /usr/local/lib/python3.6/dist-packages (from rsa<5,>=3.1.4; python_version >= \"3\"->google-auth<2,>=1.6.3->tensorboard<3,>=2.3.0->tensorflow>=2.2.0->-r requirements.txt (line 2)) (0.4.8)\n",
            "Requirement already satisfied: oauthlib>=3.0.0 in /usr/local/lib/python3.6/dist-packages (from requests-oauthlib>=0.7.0->google-auth-oauthlib<0.5,>=0.4.1->tensorboard<3,>=2.3.0->tensorflow>=2.2.0->-r requirements.txt (line 2)) (3.1.0)\n",
            "Requirement already up-to-date: google-cloud-storage in /usr/local/lib/python3.6/dist-packages (1.31.2)\n",
            "Requirement already up-to-date: google-cloud-bigquery[bqstorage] in /usr/local/lib/python3.6/dist-packages (2.0.0)\n",
            "Requirement already satisfied, skipping upgrade: requests<3.0.0dev,>=2.18.0 in /usr/local/lib/python3.6/dist-packages (from google-cloud-storage) (2.23.0)\n",
            "Requirement already satisfied, skipping upgrade: google-cloud-core<2.0dev,>=1.4.1 in /usr/local/lib/python3.6/dist-packages (from google-cloud-storage) (1.4.1)\n",
            "Requirement already satisfied, skipping upgrade: google-resumable-media<2.0dev,>=1.0.0 in /usr/local/lib/python3.6/dist-packages (from google-cloud-storage) (1.0.0)\n",
            "Requirement already satisfied, skipping upgrade: google-auth<2.0dev,>=1.11.0 in /usr/local/lib/python3.6/dist-packages (from google-cloud-storage) (1.17.2)\n",
            "Requirement already satisfied, skipping upgrade: proto-plus>=1.10.0 in /usr/local/lib/python3.6/dist-packages (from google-cloud-bigquery[bqstorage]) (1.10.0)\n",
            "Requirement already satisfied, skipping upgrade: six<2.0.0dev,>=1.13.0 in /usr/local/lib/python3.6/dist-packages (from google-cloud-bigquery[bqstorage]) (1.15.0)\n",
            "Requirement already satisfied, skipping upgrade: libcst>=0.2.5 in /usr/local/lib/python3.6/dist-packages (from google-cloud-bigquery[bqstorage]) (0.3.11)\n",
            "Requirement already satisfied, skipping upgrade: google-api-core[grpc]<2.0.0dev,>=1.22.2 in /usr/local/lib/python3.6/dist-packages (from google-cloud-bigquery[bqstorage]) (1.22.2)\n",
            "Requirement already satisfied, skipping upgrade: pyarrow<2.0dev,>=1.0.0; extra == \"bqstorage\" in /usr/local/lib/python3.6/dist-packages (from google-cloud-bigquery[bqstorage]) (1.0.1)\n",
            "Requirement already satisfied, skipping upgrade: google-cloud-bigquery-storage<3.0.0dev,>=2.0.0; extra == \"bqstorage\" in /usr/local/lib/python3.6/dist-packages (from google-cloud-bigquery[bqstorage]) (2.0.0)\n",
            "Requirement already satisfied, skipping upgrade: grpcio<2.0dev,>=1.32.0; extra == \"bqstorage\" in /usr/local/lib/python3.6/dist-packages (from google-cloud-bigquery[bqstorage]) (1.32.0)\n",
            "Requirement already satisfied, skipping upgrade: idna<3,>=2.5 in /usr/local/lib/python3.6/dist-packages (from requests<3.0.0dev,>=2.18.0->google-cloud-storage) (2.10)\n",
            "Requirement already satisfied, skipping upgrade: urllib3!=1.25.0,!=1.25.1,<1.26,>=1.21.1 in /usr/local/lib/python3.6/dist-packages (from requests<3.0.0dev,>=2.18.0->google-cloud-storage) (1.24.3)\n",
            "Requirement already satisfied, skipping upgrade: chardet<4,>=3.0.2 in /usr/local/lib/python3.6/dist-packages (from requests<3.0.0dev,>=2.18.0->google-cloud-storage) (3.0.4)\n",
            "Requirement already satisfied, skipping upgrade: certifi>=2017.4.17 in /usr/local/lib/python3.6/dist-packages (from requests<3.0.0dev,>=2.18.0->google-cloud-storage) (2020.6.20)\n",
            "Requirement already satisfied, skipping upgrade: google-crc32c<2.0dev,>=1.0; python_version >= \"3.5\" in /usr/local/lib/python3.6/dist-packages (from google-resumable-media<2.0dev,>=1.0.0->google-cloud-storage) (1.0.0)\n",
            "Requirement already satisfied, skipping upgrade: cachetools<5.0,>=2.0.0 in /usr/local/lib/python3.6/dist-packages (from google-auth<2.0dev,>=1.11.0->google-cloud-storage) (4.1.1)\n",
            "Requirement already satisfied, skipping upgrade: pyasn1-modules>=0.2.1 in /usr/local/lib/python3.6/dist-packages (from google-auth<2.0dev,>=1.11.0->google-cloud-storage) (0.2.8)\n",
            "Requirement already satisfied, skipping upgrade: rsa<5,>=3.1.4; python_version >= \"3\" in /usr/local/lib/python3.6/dist-packages (from google-auth<2.0dev,>=1.11.0->google-cloud-storage) (4.6)\n",
            "Requirement already satisfied, skipping upgrade: setuptools>=40.3.0 in /usr/local/lib/python3.6/dist-packages (from google-auth<2.0dev,>=1.11.0->google-cloud-storage) (50.3.0)\n",
            "Requirement already satisfied, skipping upgrade: protobuf>=3.12.0 in /usr/local/lib/python3.6/dist-packages (from proto-plus>=1.10.0->google-cloud-bigquery[bqstorage]) (3.12.4)\n",
            "Requirement already satisfied, skipping upgrade: dataclasses>=0.6.0; python_version < \"3.7\" in /usr/local/lib/python3.6/dist-packages (from libcst>=0.2.5->google-cloud-bigquery[bqstorage]) (0.7)\n",
            "Requirement already satisfied, skipping upgrade: typing-extensions>=3.7.4.2 in /usr/local/lib/python3.6/dist-packages (from libcst>=0.2.5->google-cloud-bigquery[bqstorage]) (3.7.4.3)\n",
            "Requirement already satisfied, skipping upgrade: typing-inspect>=0.4.0 in /usr/local/lib/python3.6/dist-packages (from libcst>=0.2.5->google-cloud-bigquery[bqstorage]) (0.6.0)\n",
            "Requirement already satisfied, skipping upgrade: pyyaml>=5.2 in /usr/local/lib/python3.6/dist-packages (from libcst>=0.2.5->google-cloud-bigquery[bqstorage]) (5.3.1)\n",
            "Requirement already satisfied, skipping upgrade: pytz in /usr/local/lib/python3.6/dist-packages (from google-api-core[grpc]<2.0.0dev,>=1.22.2->google-cloud-bigquery[bqstorage]) (2018.9)\n",
            "Requirement already satisfied, skipping upgrade: googleapis-common-protos<2.0dev,>=1.6.0 in /usr/local/lib/python3.6/dist-packages (from google-api-core[grpc]<2.0.0dev,>=1.22.2->google-cloud-bigquery[bqstorage]) (1.52.0)\n",
            "Requirement already satisfied, skipping upgrade: numpy>=1.14 in /usr/local/lib/python3.6/dist-packages (from pyarrow<2.0dev,>=1.0.0; extra == \"bqstorage\"->google-cloud-bigquery[bqstorage]) (1.18.5)\n",
            "Requirement already satisfied, skipping upgrade: cffi>=1.0.0 in /usr/local/lib/python3.6/dist-packages (from google-crc32c<2.0dev,>=1.0; python_version >= \"3.5\"->google-resumable-media<2.0dev,>=1.0.0->google-cloud-storage) (1.14.3)\n",
            "Requirement already satisfied, skipping upgrade: pyasn1<0.5.0,>=0.4.6 in /usr/local/lib/python3.6/dist-packages (from pyasn1-modules>=0.2.1->google-auth<2.0dev,>=1.11.0->google-cloud-storage) (0.4.8)\n",
            "Requirement already satisfied, skipping upgrade: mypy-extensions>=0.3.0 in /usr/local/lib/python3.6/dist-packages (from typing-inspect>=0.4.0->libcst>=0.2.5->google-cloud-bigquery[bqstorage]) (0.4.3)\n",
            "Requirement already satisfied, skipping upgrade: pycparser in /usr/local/lib/python3.6/dist-packages (from cffi>=1.0.0->google-crc32c<2.0dev,>=1.0; python_version >= \"3.5\"->google-resumable-media<2.0dev,>=1.0.0->google-cloud-storage) (2.20)\n"
          ],
          "name": "stdout"
        }
      ]
    },
    {
      "cell_type": "markdown",
      "metadata": {
        "id": "joSTkeEWN01m"
      },
      "source": [
        "## Set up authentication\n",
        "\n",
        "In this notebook, we use analytics data from BigQuery to generate training data for our recommendations model. To access BigQuery data from the Colab notebook, you need to upload the service account file that you downloaded in step 10 of the codelab."
      ]
    },
    {
      "cell_type": "code",
      "metadata": {
        "id": "mqN2Qro5sN5f",
        "outputId": "f9dd6b08-a919-4adc-80a6-07dedb606693",
        "colab": {
          "base_uri": "https://localhost:8080/",
          "height": 35
        }
      },
      "source": [
        "import os\n",
        "from google.colab import files\n",
        "\n",
        "uploaded = files.upload()\n",
        "\n",
        "for fn in uploaded.keys():\n",
        "  print('User uploaded file \"{name}\" with length {length} bytes'.format(\n",
        "      name=fn, length=len(uploaded[fn])))\n",
        "  os.environ[\"GOOGLE_APPLICATION_CREDENTIALS\"]='/content/' + fn\n",
        "  projectID = fn.rsplit(\"-\", 1)[0]"
      ],
      "execution_count": null,
      "outputs": [
        {
          "output_type": "stream",
          "text": [
            "UsageError: Line magic function `%echo` not found.\n"
          ],
          "name": "stderr"
        }
      ]
    },
    {
      "cell_type": "markdown",
      "metadata": {
        "id": "c4dy0D_RQK2D"
      },
      "source": [
        "# Import app analytics data from BigQuery\n",
        "\n",
        "In this step, we will load the analytics data we collected in the app with Firebase Analytics and sent to BigQuery. We will load the data into the pandas data processing library and then preprocess this data to be the appropriate format for input for the model training step."
      ]
    },
    {
      "cell_type": "markdown",
      "metadata": {
        "id": "JUc7uJXMRLNb"
      },
      "source": [
        "## Enable BigQuery IPython magics\n",
        "\n",
        "BigQuery provides several convenience IPython magics that we will use to fetch data with the %load_ext magic below."
      ]
    },
    {
      "cell_type": "code",
      "metadata": {
        "id": "5J2plSCksN5h"
      },
      "source": [
        "%reload_ext google.cloud.bigquery"
      ],
      "execution_count": null,
      "outputs": []
    },
    {
      "cell_type": "markdown",
      "metadata": {
        "id": "Pq46MEB5RlUR"
      },
      "source": [
        "## Import data\n",
        "\n",
        "We use the following SQL statement to get items from the table we created in BigQuery. Firebase Analytics exports a lot of additional information, such as device type, platform version, etc, that we don't need for the purposes of training this model. Initially, we only get a limited amount of rows to briefly explore the form of this data and select which fields are important.\n",
        "\n",
        "Notice that a row in the dataframe is created for each analytics event logged in the app. This row has many properties, but the ones that are of importance for this notebook are the fields:\n",
        "* event_name\n",
        "* event_timestamp\n",
        "* items\n",
        "* user_pseudo_id\n",
        "\n",
        "Notice that some fields, such as the **items** field is actually an object. We will extract the subfield of interest below."
      ]
    },
    {
      "cell_type": "code",
      "metadata": {
        "id": "qoAKLXkZsN5j"
      },
      "source": [
        "%%bigquery analytics_test_import\n",
        "SELECT\n",
        "    *\n",
        "FROM `firebase_recommendations_dataset.recommendations_table`\n",
        "LIMIT 10"
      ],
      "execution_count": null,
      "outputs": []
    },
    {
      "cell_type": "code",
      "metadata": {
        "id": "RLXfzEckVMZ1",
        "outputId": "20656b03-3ec9-4c92-d7d7-0be2a7ae24b0",
        "colab": {
          "base_uri": "https://localhost:8080/",
          "height": 895
        }
      },
      "source": [
        "analytics_test_import"
      ],
      "execution_count": null,
      "outputs": [
        {
          "output_type": "execute_result",
          "data": {
            "text/html": [
              "<div>\n",
              "<style scoped>\n",
              "    .dataframe tbody tr th:only-of-type {\n",
              "        vertical-align: middle;\n",
              "    }\n",
              "\n",
              "    .dataframe tbody tr th {\n",
              "        vertical-align: top;\n",
              "    }\n",
              "\n",
              "    .dataframe thead th {\n",
              "        text-align: right;\n",
              "    }\n",
              "</style>\n",
              "<table border=\"1\" class=\"dataframe\">\n",
              "  <thead>\n",
              "    <tr style=\"text-align: right;\">\n",
              "      <th></th>\n",
              "      <th>items</th>\n",
              "      <th>ecommerce</th>\n",
              "      <th>traffic_source</th>\n",
              "      <th>event_previous_timestamp</th>\n",
              "      <th>user_properties</th>\n",
              "      <th>user_pseudo_id</th>\n",
              "      <th>event_bundle_sequence_id</th>\n",
              "      <th>platform</th>\n",
              "      <th>event_server_timestamp_offset</th>\n",
              "      <th>app_info</th>\n",
              "      <th>event_date</th>\n",
              "      <th>event_name</th>\n",
              "      <th>device</th>\n",
              "      <th>geo</th>\n",
              "      <th>event_params</th>\n",
              "      <th>user_first_touch_timestamp</th>\n",
              "      <th>stream_id</th>\n",
              "      <th>event_timestamp</th>\n",
              "    </tr>\n",
              "  </thead>\n",
              "  <tbody>\n",
              "    <tr>\n",
              "      <th>0</th>\n",
              "      <td>[{'creative_name': '(not set)', 'item_list_id'...</td>\n",
              "      <td>{'unique_items': 1}</td>\n",
              "      <td>{'medium': '(none)', 'source': '(direct)', 'na...</td>\n",
              "      <td>1598506616201000</td>\n",
              "      <td>[{'value': {'set_timestamp_micros': 1598898000...</td>\n",
              "      <td>3780</td>\n",
              "      <td>41</td>\n",
              "      <td>ANDROID</td>\n",
              "      <td>-3007085</td>\n",
              "      <td>{'install_source': 'manual_install', 'firebase...</td>\n",
              "      <td>20000811</td>\n",
              "      <td>select_item</td>\n",
              "      <td>{'time_zone_offset_seconds': 7200, 'operating_...</td>\n",
              "      <td>{'metro': '(not set)', 'sub_continent': 'North...</td>\n",
              "      <td>[{'value': {'string_value': None, 'int_value':...</td>\n",
              "      <td>1597780533660000</td>\n",
              "      <td>2020049249</td>\n",
              "      <td>966032641</td>\n",
              "    </tr>\n",
              "    <tr>\n",
              "      <th>1</th>\n",
              "      <td>[{'creative_name': '(not set)', 'item_list_id'...</td>\n",
              "      <td>{'unique_items': 1}</td>\n",
              "      <td>{'medium': '(none)', 'source': '(direct)', 'na...</td>\n",
              "      <td>1598506616201000</td>\n",
              "      <td>[{'value': {'set_timestamp_micros': 1598898000...</td>\n",
              "      <td>5916</td>\n",
              "      <td>41</td>\n",
              "      <td>ANDROID</td>\n",
              "      <td>-3007085</td>\n",
              "      <td>{'install_source': 'manual_install', 'firebase...</td>\n",
              "      <td>20000504</td>\n",
              "      <td>select_item</td>\n",
              "      <td>{'time_zone_offset_seconds': 7200, 'operating_...</td>\n",
              "      <td>{'metro': '(not set)', 'sub_continent': 'North...</td>\n",
              "      <td>[{'value': {'string_value': None, 'int_value':...</td>\n",
              "      <td>1597780533660000</td>\n",
              "      <td>2020049249</td>\n",
              "      <td>957460592</td>\n",
              "    </tr>\n",
              "    <tr>\n",
              "      <th>2</th>\n",
              "      <td>[{'creative_name': '(not set)', 'item_list_id'...</td>\n",
              "      <td>{'unique_items': 1}</td>\n",
              "      <td>{'medium': '(none)', 'source': '(direct)', 'na...</td>\n",
              "      <td>1598506616201000</td>\n",
              "      <td>[{'value': {'set_timestamp_micros': 1598898000...</td>\n",
              "      <td>2303</td>\n",
              "      <td>41</td>\n",
              "      <td>ANDROID</td>\n",
              "      <td>-3007085</td>\n",
              "      <td>{'install_source': 'manual_install', 'firebase...</td>\n",
              "      <td>20001118</td>\n",
              "      <td>select_item</td>\n",
              "      <td>{'time_zone_offset_seconds': 7200, 'operating_...</td>\n",
              "      <td>{'metro': '(not set)', 'sub_continent': 'North...</td>\n",
              "      <td>[{'value': {'string_value': None, 'int_value':...</td>\n",
              "      <td>1597780533660000</td>\n",
              "      <td>2020049249</td>\n",
              "      <td>974581189</td>\n",
              "    </tr>\n",
              "    <tr>\n",
              "      <th>3</th>\n",
              "      <td>[{'creative_name': '(not set)', 'item_list_id'...</td>\n",
              "      <td>{'unique_items': 1}</td>\n",
              "      <td>{'medium': '(none)', 'source': '(direct)', 'na...</td>\n",
              "      <td>1598506616201000</td>\n",
              "      <td>[{'value': {'set_timestamp_micros': 1598898000...</td>\n",
              "      <td>4041</td>\n",
              "      <td>41</td>\n",
              "      <td>ANDROID</td>\n",
              "      <td>-3007085</td>\n",
              "      <td>{'install_source': 'manual_install', 'firebase...</td>\n",
              "      <td>20000805</td>\n",
              "      <td>select_item</td>\n",
              "      <td>{'time_zone_offset_seconds': 7200, 'operating_...</td>\n",
              "      <td>{'metro': '(not set)', 'sub_continent': 'North...</td>\n",
              "      <td>[{'value': {'string_value': None, 'int_value':...</td>\n",
              "      <td>1597780533660000</td>\n",
              "      <td>2020049249</td>\n",
              "      <td>965511362</td>\n",
              "    </tr>\n",
              "    <tr>\n",
              "      <th>4</th>\n",
              "      <td>[{'creative_name': '(not set)', 'item_list_id'...</td>\n",
              "      <td>{'unique_items': 1}</td>\n",
              "      <td>{'medium': '(none)', 'source': '(direct)', 'na...</td>\n",
              "      <td>1598506616201000</td>\n",
              "      <td>[{'value': {'set_timestamp_micros': 1598898000...</td>\n",
              "      <td>1151</td>\n",
              "      <td>41</td>\n",
              "      <td>ANDROID</td>\n",
              "      <td>-3007085</td>\n",
              "      <td>{'install_source': 'manual_install', 'firebase...</td>\n",
              "      <td>20001122</td>\n",
              "      <td>select_item</td>\n",
              "      <td>{'time_zone_offset_seconds': 7200, 'operating_...</td>\n",
              "      <td>{'metro': '(not set)', 'sub_continent': 'North...</td>\n",
              "      <td>[{'value': {'string_value': None, 'int_value':...</td>\n",
              "      <td>1597780533660000</td>\n",
              "      <td>2020049249</td>\n",
              "      <td>974870752</td>\n",
              "    </tr>\n",
              "    <tr>\n",
              "      <th>5</th>\n",
              "      <td>[{'creative_name': '(not set)', 'item_list_id'...</td>\n",
              "      <td>{'unique_items': 1}</td>\n",
              "      <td>{'medium': '(none)', 'source': '(direct)', 'na...</td>\n",
              "      <td>1598506616201000</td>\n",
              "      <td>[{'value': {'set_timestamp_micros': 1598898000...</td>\n",
              "      <td>4335</td>\n",
              "      <td>41</td>\n",
              "      <td>ANDROID</td>\n",
              "      <td>-3007085</td>\n",
              "      <td>{'install_source': 'manual_install', 'firebase...</td>\n",
              "      <td>20000804</td>\n",
              "      <td>select_item</td>\n",
              "      <td>{'time_zone_offset_seconds': 7200, 'operating_...</td>\n",
              "      <td>{'metro': '(not set)', 'sub_continent': 'North...</td>\n",
              "      <td>[{'value': {'string_value': None, 'int_value':...</td>\n",
              "      <td>1597780533660000</td>\n",
              "      <td>2020049249</td>\n",
              "      <td>965420431</td>\n",
              "    </tr>\n",
              "    <tr>\n",
              "      <th>6</th>\n",
              "      <td>[{'creative_name': '(not set)', 'item_list_id'...</td>\n",
              "      <td>{'unique_items': 1}</td>\n",
              "      <td>{'medium': '(none)', 'source': '(direct)', 'na...</td>\n",
              "      <td>1598506616201000</td>\n",
              "      <td>[{'value': {'set_timestamp_micros': 1598898000...</td>\n",
              "      <td>1004</td>\n",
              "      <td>41</td>\n",
              "      <td>ANDROID</td>\n",
              "      <td>-3007085</td>\n",
              "      <td>{'install_source': 'manual_install', 'firebase...</td>\n",
              "      <td>20001124</td>\n",
              "      <td>select_item</td>\n",
              "      <td>{'time_zone_offset_seconds': 7200, 'operating_...</td>\n",
              "      <td>{'metro': '(not set)', 'sub_continent': 'North...</td>\n",
              "      <td>[{'value': {'string_value': None, 'int_value':...</td>\n",
              "      <td>1597780533660000</td>\n",
              "      <td>2020049249</td>\n",
              "      <td>975052537</td>\n",
              "    </tr>\n",
              "    <tr>\n",
              "      <th>7</th>\n",
              "      <td>[{'creative_name': '(not set)', 'item_list_id'...</td>\n",
              "      <td>{'unique_items': 1}</td>\n",
              "      <td>{'medium': '(none)', 'source': '(direct)', 'na...</td>\n",
              "      <td>1598506616201000</td>\n",
              "      <td>[{'value': {'set_timestamp_micros': 1598898000...</td>\n",
              "      <td>4728</td>\n",
              "      <td>41</td>\n",
              "      <td>ANDROID</td>\n",
              "      <td>-3007085</td>\n",
              "      <td>{'install_source': 'manual_install', 'firebase...</td>\n",
              "      <td>20000711</td>\n",
              "      <td>select_item</td>\n",
              "      <td>{'time_zone_offset_seconds': 7200, 'operating_...</td>\n",
              "      <td>{'metro': '(not set)', 'sub_continent': 'North...</td>\n",
              "      <td>[{'value': {'string_value': None, 'int_value':...</td>\n",
              "      <td>1597780533660000</td>\n",
              "      <td>2020049249</td>\n",
              "      <td>963354665</td>\n",
              "    </tr>\n",
              "    <tr>\n",
              "      <th>8</th>\n",
              "      <td>[{'creative_name': '(not set)', 'item_list_id'...</td>\n",
              "      <td>{'unique_items': 1}</td>\n",
              "      <td>{'medium': '(none)', 'source': '(direct)', 'na...</td>\n",
              "      <td>1598506616201000</td>\n",
              "      <td>[{'value': {'set_timestamp_micros': 1598898000...</td>\n",
              "      <td>4467</td>\n",
              "      <td>41</td>\n",
              "      <td>ANDROID</td>\n",
              "      <td>-3007085</td>\n",
              "      <td>{'install_source': 'manual_install', 'firebase...</td>\n",
              "      <td>20020919</td>\n",
              "      <td>select_item</td>\n",
              "      <td>{'time_zone_offset_seconds': 7200, 'operating_...</td>\n",
              "      <td>{'metro': '(not set)', 'sub_continent': 'North...</td>\n",
              "      <td>[{'value': {'string_value': None, 'int_value':...</td>\n",
              "      <td>1597780533660000</td>\n",
              "      <td>2020049249</td>\n",
              "      <td>1032406215</td>\n",
              "    </tr>\n",
              "    <tr>\n",
              "      <th>9</th>\n",
              "      <td>[{'creative_name': '(not set)', 'item_list_id'...</td>\n",
              "      <td>{'unique_items': 1}</td>\n",
              "      <td>{'medium': '(none)', 'source': '(direct)', 'na...</td>\n",
              "      <td>1598506616201000</td>\n",
              "      <td>[{'value': {'set_timestamp_micros': 1598898000...</td>\n",
              "      <td>934</td>\n",
              "      <td>41</td>\n",
              "      <td>ANDROID</td>\n",
              "      <td>-3007085</td>\n",
              "      <td>{'install_source': 'manual_install', 'firebase...</td>\n",
              "      <td>20001125</td>\n",
              "      <td>select_item</td>\n",
              "      <td>{'time_zone_offset_seconds': 7200, 'operating_...</td>\n",
              "      <td>{'metro': '(not set)', 'sub_continent': 'North...</td>\n",
              "      <td>[{'value': {'string_value': None, 'int_value':...</td>\n",
              "      <td>1597780533660000</td>\n",
              "      <td>2020049249</td>\n",
              "      <td>975185214</td>\n",
              "    </tr>\n",
              "  </tbody>\n",
              "</table>\n",
              "</div>"
            ],
            "text/plain": [
              "                                               items  ... event_timestamp\n",
              "0  [{'creative_name': '(not set)', 'item_list_id'...  ...       966032641\n",
              "1  [{'creative_name': '(not set)', 'item_list_id'...  ...       957460592\n",
              "2  [{'creative_name': '(not set)', 'item_list_id'...  ...       974581189\n",
              "3  [{'creative_name': '(not set)', 'item_list_id'...  ...       965511362\n",
              "4  [{'creative_name': '(not set)', 'item_list_id'...  ...       974870752\n",
              "5  [{'creative_name': '(not set)', 'item_list_id'...  ...       965420431\n",
              "6  [{'creative_name': '(not set)', 'item_list_id'...  ...       975052537\n",
              "7  [{'creative_name': '(not set)', 'item_list_id'...  ...       963354665\n",
              "8  [{'creative_name': '(not set)', 'item_list_id'...  ...      1032406215\n",
              "9  [{'creative_name': '(not set)', 'item_list_id'...  ...       975185214\n",
              "\n",
              "[10 rows x 18 columns]"
            ]
          },
          "metadata": {
            "tags": []
          },
          "execution_count": 7
        }
      ]
    },
    {
      "cell_type": "markdown",
      "metadata": {
        "id": "_wysL9g8WW5U"
      },
      "source": [
        "All of the columns included in each analytics event entry."
      ]
    },
    {
      "cell_type": "code",
      "metadata": {
        "id": "V9jHxMTqU8E2",
        "outputId": "51316761-321e-4384-e708-494129c8f10b",
        "colab": {
          "base_uri": "https://localhost:8080/",
          "height": 121
        }
      },
      "source": [
        "analytics_test_import.columns"
      ],
      "execution_count": null,
      "outputs": [
        {
          "output_type": "execute_result",
          "data": {
            "text/plain": [
              "Index(['items', 'ecommerce', 'traffic_source', 'event_previous_timestamp',\n",
              "       'user_properties', 'user_pseudo_id', 'event_bundle_sequence_id',\n",
              "       'platform', 'event_server_timestamp_offset', 'app_info', 'event_date',\n",
              "       'event_name', 'device', 'geo', 'event_params',\n",
              "       'user_first_touch_timestamp', 'stream_id', 'event_timestamp'],\n",
              "      dtype='object')"
            ]
          },
          "metadata": {
            "tags": []
          },
          "execution_count": 8
        }
      ]
    },
    {
      "cell_type": "markdown",
      "metadata": {
        "id": "ImvkOzFwWQN4"
      },
      "source": [
        "Of the information logged under 'items', we are only interested in 'item_id',which corresponds to the ID of the movie the user interacted with."
      ]
    },
    {
      "cell_type": "code",
      "metadata": {
        "id": "UVazzlpLVwTN",
        "outputId": "f83efbf2-a2ed-4f05-cc49-4bd1e0034ff5",
        "colab": {
          "base_uri": "https://localhost:8080/",
          "height": 347
        }
      },
      "source": [
        "analytics_test_import['items'][0][0]"
      ],
      "execution_count": null,
      "outputs": [
        {
          "output_type": "execute_result",
          "data": {
            "text/plain": [
              "{'affiliation': '(not set)',\n",
              " 'coupon': '(not set)',\n",
              " 'creative_name': '(not set)',\n",
              " 'creative_slot': '(not set)',\n",
              " 'item_brand': '(not set)',\n",
              " 'item_category': '(not set)',\n",
              " 'item_category2': '(not set)',\n",
              " 'item_category3': '(not set)',\n",
              " 'item_category4': '(not set)',\n",
              " 'item_category5': '(not set)',\n",
              " 'item_id': 256,\n",
              " 'item_list_id': '(not set)',\n",
              " 'item_list_index': '(not set)',\n",
              " 'item_list_name': '(not set)',\n",
              " 'item_name': 'Movie',\n",
              " 'item_variant': '(not set)',\n",
              " 'location_id': '(not set)',\n",
              " 'promotion_id': '(not set)',\n",
              " 'promotion_name': '(not set)'}"
            ]
          },
          "metadata": {
            "tags": []
          },
          "execution_count": 9
        }
      ]
    },
    {
      "cell_type": "markdown",
      "metadata": {
        "id": "HF3vnWJXThab"
      },
      "source": [
        "Now we run the following command to import the whole dataset into a variable. Note how we only import the fields which we are interested in for training purposes."
      ]
    },
    {
      "cell_type": "code",
      "metadata": {
        "id": "rXK2PAK5AMpM"
      },
      "source": [
        "%%bigquery analytics_data_real\n",
        "SELECT\n",
        "    items,user_pseudo_id,event_timestamp\n",
        "FROM `firebase_recommendations_dataset.recommendations_table`"
      ],
      "execution_count": null,
      "outputs": []
    },
    {
      "cell_type": "code",
      "metadata": {
        "id": "OdM67AvOsN5p",
        "outputId": "37a0a46e-dd75-4289-fb10-c797c969d78c",
        "colab": {
          "base_uri": "https://localhost:8080/",
          "height": 202
        }
      },
      "source": [
        "analytics_data_real.head()"
      ],
      "execution_count": null,
      "outputs": [
        {
          "output_type": "execute_result",
          "data": {
            "text/html": [
              "<div>\n",
              "<style scoped>\n",
              "    .dataframe tbody tr th:only-of-type {\n",
              "        vertical-align: middle;\n",
              "    }\n",
              "\n",
              "    .dataframe tbody tr th {\n",
              "        vertical-align: top;\n",
              "    }\n",
              "\n",
              "    .dataframe thead th {\n",
              "        text-align: right;\n",
              "    }\n",
              "</style>\n",
              "<table border=\"1\" class=\"dataframe\">\n",
              "  <thead>\n",
              "    <tr style=\"text-align: right;\">\n",
              "      <th></th>\n",
              "      <th>items</th>\n",
              "      <th>user_pseudo_id</th>\n",
              "      <th>event_timestamp</th>\n",
              "    </tr>\n",
              "  </thead>\n",
              "  <tbody>\n",
              "    <tr>\n",
              "      <th>0</th>\n",
              "      <td>[{'creative_name': '(not set)', 'item_list_id'...</td>\n",
              "      <td>3780</td>\n",
              "      <td>966032641</td>\n",
              "    </tr>\n",
              "    <tr>\n",
              "      <th>1</th>\n",
              "      <td>[{'creative_name': '(not set)', 'item_list_id'...</td>\n",
              "      <td>5916</td>\n",
              "      <td>957460592</td>\n",
              "    </tr>\n",
              "    <tr>\n",
              "      <th>2</th>\n",
              "      <td>[{'creative_name': '(not set)', 'item_list_id'...</td>\n",
              "      <td>2303</td>\n",
              "      <td>974581189</td>\n",
              "    </tr>\n",
              "    <tr>\n",
              "      <th>3</th>\n",
              "      <td>[{'creative_name': '(not set)', 'item_list_id'...</td>\n",
              "      <td>4041</td>\n",
              "      <td>965511362</td>\n",
              "    </tr>\n",
              "    <tr>\n",
              "      <th>4</th>\n",
              "      <td>[{'creative_name': '(not set)', 'item_list_id'...</td>\n",
              "      <td>1151</td>\n",
              "      <td>974870752</td>\n",
              "    </tr>\n",
              "  </tbody>\n",
              "</table>\n",
              "</div>"
            ],
            "text/plain": [
              "                                               items  ...  event_timestamp\n",
              "0  [{'creative_name': '(not set)', 'item_list_id'...  ...        966032641\n",
              "1  [{'creative_name': '(not set)', 'item_list_id'...  ...        957460592\n",
              "2  [{'creative_name': '(not set)', 'item_list_id'...  ...        974581189\n",
              "3  [{'creative_name': '(not set)', 'item_list_id'...  ...        965511362\n",
              "4  [{'creative_name': '(not set)', 'item_list_id'...  ...        974870752\n",
              "\n",
              "[5 rows x 3 columns]"
            ]
          },
          "metadata": {
            "tags": []
          },
          "execution_count": 11
        }
      ]
    },
    {
      "cell_type": "markdown",
      "metadata": {
        "id": "UTdiPeVjUADI"
      },
      "source": [
        "# Preprocess the dataset\n",
        "\n",
        "In this step, we create a lambda function to extract a subfield 'item_id' from the items object. This represents the movie_id, so we also rename the columns to match."
      ]
    },
    {
      "cell_type": "code",
      "metadata": {
        "id": "BJzJb0AsDQlk",
        "outputId": "60f520b1-c1e0-4c4b-925f-97b63562b89d",
        "colab": {
          "base_uri": "https://localhost:8080/",
          "height": 415
        }
      },
      "source": [
        "analytics = analytics_data_real\n",
        "def getMovieID(row):\n",
        "  items_obj = row['items'][0]\n",
        "  return items_obj['item_id']\n",
        "analytics['movie_id'] = analytics.apply(lambda row: getMovieID(row), axis=1)\n",
        "analytics"
      ],
      "execution_count": null,
      "outputs": [
        {
          "output_type": "execute_result",
          "data": {
            "text/html": [
              "<div>\n",
              "<style scoped>\n",
              "    .dataframe tbody tr th:only-of-type {\n",
              "        vertical-align: middle;\n",
              "    }\n",
              "\n",
              "    .dataframe tbody tr th {\n",
              "        vertical-align: top;\n",
              "    }\n",
              "\n",
              "    .dataframe thead th {\n",
              "        text-align: right;\n",
              "    }\n",
              "</style>\n",
              "<table border=\"1\" class=\"dataframe\">\n",
              "  <thead>\n",
              "    <tr style=\"text-align: right;\">\n",
              "      <th></th>\n",
              "      <th>items</th>\n",
              "      <th>user_pseudo_id</th>\n",
              "      <th>event_timestamp</th>\n",
              "      <th>movie_id</th>\n",
              "    </tr>\n",
              "  </thead>\n",
              "  <tbody>\n",
              "    <tr>\n",
              "      <th>0</th>\n",
              "      <td>[{'creative_name': '(not set)', 'item_list_id'...</td>\n",
              "      <td>3780</td>\n",
              "      <td>966032641</td>\n",
              "      <td>256</td>\n",
              "    </tr>\n",
              "    <tr>\n",
              "      <th>1</th>\n",
              "      <td>[{'creative_name': '(not set)', 'item_list_id'...</td>\n",
              "      <td>5916</td>\n",
              "      <td>957460592</td>\n",
              "      <td>256</td>\n",
              "    </tr>\n",
              "    <tr>\n",
              "      <th>2</th>\n",
              "      <td>[{'creative_name': '(not set)', 'item_list_id'...</td>\n",
              "      <td>2303</td>\n",
              "      <td>974581189</td>\n",
              "      <td>256</td>\n",
              "    </tr>\n",
              "    <tr>\n",
              "      <th>3</th>\n",
              "      <td>[{'creative_name': '(not set)', 'item_list_id'...</td>\n",
              "      <td>4041</td>\n",
              "      <td>965511362</td>\n",
              "      <td>256</td>\n",
              "    </tr>\n",
              "    <tr>\n",
              "      <th>4</th>\n",
              "      <td>[{'creative_name': '(not set)', 'item_list_id'...</td>\n",
              "      <td>1151</td>\n",
              "      <td>974870752</td>\n",
              "      <td>256</td>\n",
              "    </tr>\n",
              "    <tr>\n",
              "      <th>...</th>\n",
              "      <td>...</td>\n",
              "      <td>...</td>\n",
              "      <td>...</td>\n",
              "      <td>...</td>\n",
              "    </tr>\n",
              "    <tr>\n",
              "      <th>836473</th>\n",
              "      <td>[{'creative_name': '(not set)', 'item_list_id'...</td>\n",
              "      <td>3044</td>\n",
              "      <td>970211578</td>\n",
              "      <td>3839</td>\n",
              "    </tr>\n",
              "    <tr>\n",
              "      <th>836474</th>\n",
              "      <td>[{'creative_name': '(not set)', 'item_list_id'...</td>\n",
              "      <td>2852</td>\n",
              "      <td>972507950</td>\n",
              "      <td>3839</td>\n",
              "    </tr>\n",
              "    <tr>\n",
              "      <th>836475</th>\n",
              "      <td>[{'creative_name': '(not set)', 'item_list_id'...</td>\n",
              "      <td>3446</td>\n",
              "      <td>967263885</td>\n",
              "      <td>3839</td>\n",
              "    </tr>\n",
              "    <tr>\n",
              "      <th>836476</th>\n",
              "      <td>[{'creative_name': '(not set)', 'item_list_id'...</td>\n",
              "      <td>2144</td>\n",
              "      <td>974628721</td>\n",
              "      <td>3839</td>\n",
              "    </tr>\n",
              "    <tr>\n",
              "      <th>836477</th>\n",
              "      <td>[{'creative_name': '(not set)', 'item_list_id'...</td>\n",
              "      <td>1186</td>\n",
              "      <td>977291087</td>\n",
              "      <td>3839</td>\n",
              "    </tr>\n",
              "  </tbody>\n",
              "</table>\n",
              "<p>836478 rows × 4 columns</p>\n",
              "</div>"
            ],
            "text/plain": [
              "                                                    items  ...  movie_id\n",
              "0       [{'creative_name': '(not set)', 'item_list_id'...  ...       256\n",
              "1       [{'creative_name': '(not set)', 'item_list_id'...  ...       256\n",
              "2       [{'creative_name': '(not set)', 'item_list_id'...  ...       256\n",
              "3       [{'creative_name': '(not set)', 'item_list_id'...  ...       256\n",
              "4       [{'creative_name': '(not set)', 'item_list_id'...  ...       256\n",
              "...                                                   ...  ...       ...\n",
              "836473  [{'creative_name': '(not set)', 'item_list_id'...  ...      3839\n",
              "836474  [{'creative_name': '(not set)', 'item_list_id'...  ...      3839\n",
              "836475  [{'creative_name': '(not set)', 'item_list_id'...  ...      3839\n",
              "836476  [{'creative_name': '(not set)', 'item_list_id'...  ...      3839\n",
              "836477  [{'creative_name': '(not set)', 'item_list_id'...  ...      3839\n",
              "\n",
              "[836478 rows x 4 columns]"
            ]
          },
          "metadata": {
            "tags": []
          },
          "execution_count": 12
        }
      ]
    },
    {
      "cell_type": "markdown",
      "metadata": {
        "id": "qXi0XmaJUff6"
      },
      "source": [
        "We drop the 'items' column since we don't need anything else from it."
      ]
    },
    {
      "cell_type": "code",
      "metadata": {
        "id": "7hUZGrBhErs9"
      },
      "source": [
        "analytics.rename(columns={'user_pseudo_id': 'user_id', 'event_timestamp': 'timestamp'}, inplace=True)\n",
        "analytics.drop(['items'], axis=1, inplace=True)"
      ],
      "execution_count": null,
      "outputs": []
    },
    {
      "cell_type": "markdown",
      "metadata": {
        "id": "aQW3-22MUnrH"
      },
      "source": [
        "Here is our processed dataframe containing only the data we want to use in training.\n",
        "\n",
        "The data has the following properties:\n",
        "*   UserIDs range between 1 and 6040\n",
        "*   MovieIDs range between 1 and 3952\n",
        "*   Timestamp is represented in seconds since the epoch as returned by time(2)\n",
        "*   Each user has at least 20 ratings"
      ]
    },
    {
      "cell_type": "code",
      "metadata": {
        "id": "D8S7hp8FFxg6",
        "outputId": "ce960910-4883-4664-ab2a-202d7850c6bd",
        "colab": {
          "base_uri": "https://localhost:8080/",
          "height": 415
        }
      },
      "source": [
        "analytics"
      ],
      "execution_count": null,
      "outputs": [
        {
          "output_type": "execute_result",
          "data": {
            "text/html": [
              "<div>\n",
              "<style scoped>\n",
              "    .dataframe tbody tr th:only-of-type {\n",
              "        vertical-align: middle;\n",
              "    }\n",
              "\n",
              "    .dataframe tbody tr th {\n",
              "        vertical-align: top;\n",
              "    }\n",
              "\n",
              "    .dataframe thead th {\n",
              "        text-align: right;\n",
              "    }\n",
              "</style>\n",
              "<table border=\"1\" class=\"dataframe\">\n",
              "  <thead>\n",
              "    <tr style=\"text-align: right;\">\n",
              "      <th></th>\n",
              "      <th>user_id</th>\n",
              "      <th>timestamp</th>\n",
              "      <th>movie_id</th>\n",
              "    </tr>\n",
              "  </thead>\n",
              "  <tbody>\n",
              "    <tr>\n",
              "      <th>0</th>\n",
              "      <td>3780</td>\n",
              "      <td>966032641</td>\n",
              "      <td>256</td>\n",
              "    </tr>\n",
              "    <tr>\n",
              "      <th>1</th>\n",
              "      <td>5916</td>\n",
              "      <td>957460592</td>\n",
              "      <td>256</td>\n",
              "    </tr>\n",
              "    <tr>\n",
              "      <th>2</th>\n",
              "      <td>2303</td>\n",
              "      <td>974581189</td>\n",
              "      <td>256</td>\n",
              "    </tr>\n",
              "    <tr>\n",
              "      <th>3</th>\n",
              "      <td>4041</td>\n",
              "      <td>965511362</td>\n",
              "      <td>256</td>\n",
              "    </tr>\n",
              "    <tr>\n",
              "      <th>4</th>\n",
              "      <td>1151</td>\n",
              "      <td>974870752</td>\n",
              "      <td>256</td>\n",
              "    </tr>\n",
              "    <tr>\n",
              "      <th>...</th>\n",
              "      <td>...</td>\n",
              "      <td>...</td>\n",
              "      <td>...</td>\n",
              "    </tr>\n",
              "    <tr>\n",
              "      <th>836473</th>\n",
              "      <td>3044</td>\n",
              "      <td>970211578</td>\n",
              "      <td>3839</td>\n",
              "    </tr>\n",
              "    <tr>\n",
              "      <th>836474</th>\n",
              "      <td>2852</td>\n",
              "      <td>972507950</td>\n",
              "      <td>3839</td>\n",
              "    </tr>\n",
              "    <tr>\n",
              "      <th>836475</th>\n",
              "      <td>3446</td>\n",
              "      <td>967263885</td>\n",
              "      <td>3839</td>\n",
              "    </tr>\n",
              "    <tr>\n",
              "      <th>836476</th>\n",
              "      <td>2144</td>\n",
              "      <td>974628721</td>\n",
              "      <td>3839</td>\n",
              "    </tr>\n",
              "    <tr>\n",
              "      <th>836477</th>\n",
              "      <td>1186</td>\n",
              "      <td>977291087</td>\n",
              "      <td>3839</td>\n",
              "    </tr>\n",
              "  </tbody>\n",
              "</table>\n",
              "<p>836478 rows × 3 columns</p>\n",
              "</div>"
            ],
            "text/plain": [
              "        user_id  timestamp  movie_id\n",
              "0          3780  966032641       256\n",
              "1          5916  957460592       256\n",
              "2          2303  974581189       256\n",
              "3          4041  965511362       256\n",
              "4          1151  974870752       256\n",
              "...         ...        ...       ...\n",
              "836473     3044  970211578      3839\n",
              "836474     2852  972507950      3839\n",
              "836475     3446  967263885      3839\n",
              "836476     2144  974628721      3839\n",
              "836477     1186  977291087      3839\n",
              "\n",
              "[836478 rows x 3 columns]"
            ]
          },
          "metadata": {
            "tags": []
          },
          "execution_count": 14
        }
      ]
    },
    {
      "cell_type": "markdown",
      "metadata": {
        "id": "pS2IXA2IW2Xd"
      },
      "source": [
        "## Sort and group training data to create training examples\n",
        "\n",
        "Our analytics events need to be reorganized in the format required for the model training step. We will create an object that maps key user_id to a list of movies that user has seen. We use the timestamp data to create the sequential context."
      ]
    },
    {
      "cell_type": "code",
      "metadata": {
        "id": "E2gKMD_4sN57"
      },
      "source": [
        "import collections\n",
        "def convert_to_timelines(df):\n",
        "  \"\"\"Convert ratings data to user.\"\"\"\n",
        "  timelines = collections.defaultdict(list)\n",
        "  movie_counts = collections.Counter()\n",
        "  for user_id, timestamp, movie_id in df.values:\n",
        "    timelines[user_id].append([movie_id, int(timestamp)])\n",
        "    movie_counts[movie_id] += 1\n",
        "  # Sort per-user timeline by timestamp\n",
        "  for (user_id, timeline) in timelines.items():\n",
        "    timeline.sort(key=lambda x: x[1])\n",
        "    timelines[user_id] = [movie_id for movie_id, _ in timeline]\n",
        "  return timelines, movie_counts\n",
        "timelines, counts = convert_to_timelines(analytics)"
      ],
      "execution_count": null,
      "outputs": []
    },
    {
      "cell_type": "markdown",
      "metadata": {
        "id": "f0ASLyOYZqCH"
      },
      "source": [
        "The timelines object contains a list of movie_id's keyed on user_id to indicate the sequence of movies that user has interacted with."
      ]
    },
    {
      "cell_type": "code",
      "metadata": {
        "id": "l6Zm23tgsN59",
        "outputId": "7d6ab62f-b73d-4bf0-8f87-66d7312c5d71",
        "colab": {
          "base_uri": "https://localhost:8080/",
          "height": 211
        }
      },
      "source": [
        "import itertools\n",
        "\n",
        "for key, val in sorted(timelines.items())[0:10]:\n",
        "  print(key, val)"
      ],
      "execution_count": null,
      "outputs": [
        {
          "output_type": "stream",
          "text": [
            "1 [3186, 1721, 1270, 1022, 2340, 1836, 3408, 1207, 2804, 260, 1193, 720, 919, 608, 2692, 1961, 2028, 3105, 938, 1035, 1962, 1028, 150, 2018, 1097, 914, 1287, 2797, 2762, 1246, 661, 2918, 531, 3114, 2791, 1029, 2321, 594, 1197, 2398, 1545, 527, 1, 588, 595, 2687, 745, 783, 2355, 2294, 1566, 1907, 48]\n",
            "2 [1198, 1210, 1217, 2717, 1293, 2943, 1225, 318, 1193, 2858, 3030, 1945, 1207, 3095, 593, 515, 1873, 3468, 2501, 2067, 110, 3035, 3147, 1247, 3105, 1357, 1196, 1957, 920, 1953, 1834, 1084, 1962, 3654, 3471, 3735, 1954, 1259, 1784, 2728, 1103, 3451, 3334, 2852, 3578, 3068, 265, 2312, 590, 1253, 3071, 1244, 1955, 2236, 3678, 982, 2194, 1442, 2268, 3255, 647, 235, 1096, 1124, 1246, 498, 1537, 1188, 2396, 2321, 2359, 356, 3108, 3809, 1265, 2571, 589, 457, 2028, 1610, 3418, 2916, 380, 163, 480, 349, 1408, 1527, 2353, 2006, 1370, 2278, 648, 1792, 1552, 1372, 780, 1385, 2490, 1801, 2881, 368, 165, 459, 1597, 442, 2628, 1690, 3257, 2002, 736, 292, 2126, 1544, 1917, 1687]\n",
            "3 [593, 2858, 1968, 3534, 1431, 1961, 1266, 3671, 1378, 1379, 590, 260, 2871, 1196, 3168, 1197, 1198, 1291, 2167, 1210, 1580, 480, 1615, 653, 2006, 733, 2115, 2470, 1049, 552, 648, 2735, 1136, 3114, 3421, 1394, 2997, 1304, 1270, 1079, 1259, 2355, 3552, 3868, 104, 2081]\n",
            "4 [1210, 1097, 3468, 480, 260, 1387, 1198, 2366, 2947, 2692, 1201, 2028, 3418, 3702, 1214, 1240, 1036, 2951, 1954]\n",
            "5 [908, 919, 1250, 2858, 2683, 2997, 2355, 2908, 3786, 2770, 3016, 2759, 2599, 3408, 3409, 2428, 2959, 2580, 2333, 2716, 2318, 2390, 913, 2723, 968, 299, 2013, 2560, 2692, 1513, 3081, 2395, 2762, 2700, 2337, 2721, 2987, 3624, 3799, 1243, 1617, 3083, 1046, 296, 318, 593, 608, 1213, 50, 1089, 1719, 2571, 896, 1192, 714, 1704, 1554, 1684, 994, 176, 2289, 34, 562, 1730, 1788, 1912, 162, 1649, 2282, 41, 1175, 728, 36, 581, 2291, 1449, 3163, 1171, 3267, 461, 32, 3418, 1509, 3046, 265, 39, 1529, 29, 1095, 3499, 3260, 1635, 1650, 1923, 1500, 47, 866, 1734, 3006, 215, 2323, 2890, 272, 1759, 1535, 2359, 1885, 1517, 16, 1610, 1392, 497, 1466, 2384, 1732, 1729, 2353, 1429, 224, 509, 321, 348, 515, 1715, 1643, 3476, 1794, 1580, 377, 506, 1683, 194, 1921, 1897, 2427, 1733, 1909, 1527, 551, 229, 2029, 1884, 1485]\n",
            "6 [3072, 912, 2006, 1043, 1210, 3534, 17, 377, 1441, 1296, 3685, 2081, 2100, 3699, 1674, 1959, 2802, 1088, 1101, 2406, 2469, 3501, 3524, 1188, 2396, 1806, 569, 2082, 2506, 1, 2321, 590, 2966, 34, 838, 588, 595, 1566, 48, 364, 1688, 199, 1030, 1380, 1028, 1035, 3604, 914, 1947, 3600, 3610, 2017, 266, 368, 383, 3074, 3682, 3508, 1007, 3753, 3578, 3408, 3536, 3624, 3565, 3717, 920, 1569, 597]\n",
            "7 [1270, 480, 1196, 442, 1221, 648, 3753, 1997, 3793, 3578, 2571, 1610, 589, 110, 457, 2028, 3418, 377, 6, 1580, 2916, 474, 733, 1573, 2353, 349, 861, 380, 3256, 1722, 3107]\n",
            "8 [1210, 111, 908, 3481, 1573, 480, 589, 3418, 2692, 3265, 2028, 2571, 2916, 110, 555, 377, 2427, 3267, 3107, 163, 1580, 1916, 2278, 349, 2699, 3256, 2006, 733, 288, 25, 2396, 1265, 265, 17, 39, 1059, 1735, 1277, 1639, 1393, 2291, 2858, 1213, 527, 296, 608, 2329, 1704, 3260, 3386, 36, 3252, 1730, 2908, 1466, 16, 2336, 2686, 562, 3250, 3006, 3148, 337, 58, 73, 1673, 538, 1120, 1411, 3246, 161, 508, 2324, 506, 3147, 2442, 1840, 524, 1660, 150, 1678, 3105, 476, 14, 1357, 1721, 3186, 1682, 2268, 1653, 2712, 1589, 345, 650, 2702, 253, 24, 1621, 2541, 269, 1693, 151, 454, 465, 2297, 2688, 1476, 3259, 1836, 266, 230, 1701, 3528, 282, 2023, 1711, 3425, 1488, 1801, 2314, 105, 510, 1027, 4, 3155, 42, 3500, 3213, 1274, 1, 741, 3257]\n",
            "9 [3751, 1961, 912, 1210, 3178, 1221, 3916, 3948, 527, 1233, 593, 1213, 2858, 50, 1148, 920, 1307, 2692, 3408, 3510, 3793, 3623, 3298, 3717, 3513, 3148, 318, 608, 720, 745, 2028, 1617, 1704, 1, 3114, 1089, 1223, 2571, 3160, 2762, 1310, 457, 162, 25, 150, 3006, 2355, 2324, 1265, 3147, 1393, 47, 1639, 1784, 2959, 1500, 377, 1669, 1446, 1923, 3253, 223, 2166, 1358, 3255, 1584, 778, 1721, 1466, 1060, 1343, 412, 300, 2890, 1777, 1682, 508, 994, 1912, 1921, 590, 3270, 480, 2302, 597, 838, 2268, 529, 805, 349, 428, 524, 16, 1653, 1356, 2278, 367, 2294]\n",
            "10 [597, 858, 743, 1948, 1210, 1282, 2312, 551, 3751, 2858, 2033, 3155, 480, 2791, 1544, 2135, 3675, 2657, 2399, 648, 3189, 3481, 3408, 3629, 1204, 1148, 2762, 919, 1927, 541, 1198, 1234, 1293, 3037, 2300, 912, 1291, 1954, 1270, 3114, 1302, 1079, 1214, 1080, 1215, 110, 588, 913, 2918, 954, 1278, 1294, 1387, 2716, 3868, 3035, 2997, 1028, 3702, 3296, 589, 277, 2336, 2959, 2872, 3095, 3198, 926, 3471, 1254, 2324, 3671, 1411, 1682, 150, 2000, 3194, 1271, 3358, 1580, 2501, 802, 2863, 1, 953, 3087, 2355, 1269, 1307, 1250, 1084, 364, 2100, 3451, 914, 1947, 356, 2080, 3699, 2529, 1253, 3723, 2291, 594, 3097, 1230, 368, 2804, 2040, 587, 920, 62, 653, 2496, 3100, 3359, 3255, 2948, 943, 2874, 1408, 915, 918, 539, 1653, 592, 1104, 1088, 1243, 1257, 2041, 2302, 2321, 3386, 1287, 1967, 1012, 3247, 316, 1921, 2662, 104, 971, 3086, 2371, 1357, 2294, 2078, 590, 2174, 963, 2001, 3363, 2617, 7, 1019, 2003, 2137, 2967, 1356, 3701, 1220, 2115, 1517, 2018, 2081, 3039, 1025, 2393, 2470, 2011, 1101, 3500, 596, 2012, 2622, 1375, 2161, 1372, 1923, 3928, 2746, 3174, 2628, 671, 1032, 1441, 3809, 3591, 1031, 2045, 1042, 3608, 2015, 780, 317, 3259, 1756, 1020, 3252, 586, 2082, 292, 2111, 2453, 2090, 543, 2138, 253, 333, 3501, 3072, 2423, 2046, 2043, 2109, 1676, 1124, 2094, 329, 2431, 2133, 1016, 2124, 2436, 1633, 938, 1345, 1380, 344, 1573, 370, 2054, 1135, 2005, 2047, 435, 1371, 351, 1125, 2002, 2049, 2093, 1409, 2316, 2424, 282, 830, 1091, 248, 1377, 153, 186, 3812, 1586, 2497, 3688, 2136, 48, 2375, 208, 3099, 2378, 1918, 1513, 1690, 2770, 1566, 1959, 765, 542, 203, 1583, 2826, 3254, 3869, 24, 2530, 2091, 3264, 3388, 2405, 1320, 520, 2072, 1015, 1030, 784, 3948, 2067, 898, 2396, 1197, 1265, 899, 2125, 3668, 1247, 1721, 2006, 2108, 969, 357, 1286, 902, 339, 1059, 3108, 1339, 260, 2571, 1584, 1097, 1127, 1196, 1376, 3175, 32, 1374, 2968, 1200, 924, 2407, 2640, 1129, 2009, 2, 1073, 367, 3466, 2797, 1009, 2140, 2193, 3489, 2021, 2105, 3438, 1654, 1394, 1136, 916, 1276, 1223, 1784, 2795, 745, 1259, 2946, 1256, 1304, 2599, 116, 3309, 1225, 318, 1617, 1203, 720, 2077, 2398, 904, 1961, 2096, 750, 1252, 1240, 1035, 1023, 1233, 3347, 1292, 527, 1022, 2087, 2717, 2498, 1831, 3593, 275, 3034, 3447, 595, 923, 1704, 1283, 2693, 1221, 2252]\n"
          ],
          "name": "stdout"
        }
      ]
    },
    {
      "cell_type": "markdown",
      "metadata": {
        "id": "GcxmkcOzZ7Zj"
      },
      "source": [
        "## Generate training examples\n",
        "\n",
        "We use the timelines data to generate tensorflow training examples. We discard any timeline with less than 3 context items, and we consider context lengths of 100 items. We perform the following steps:\n",
        "\n",
        "* Groups movie records by user, and orders per-user movie records by timestamp.\n",
        "* Generates Tensorflow examples with features: 1) \"context\": time-ordered sequential movie IDs 2) \"label\": next movie ID user viewed as label. \"max_history_length\" is taken in as parameter to define \"context\" feature shape, if not enough history found, right padding with out-of-vocab ID 0 will be performed.\n",
        "* Then partition the available data into a training and test set.\n",
        "\n",
        "Sample generated training example with max user history as 10:\n",
        "```\n",
        "0 : {   # (tensorflow.Example)\n",
        "  features: {   # (tensorflow.Features)\n",
        "    feature: {\n",
        "      key  : \"context\"\n",
        "      value: {\n",
        "        int64_list: {\n",
        "          value: [ 595, 2687, 745, 588, 1, 2355, 2294, 783, 1566, 1907 ]\n",
        "        }\n",
        "      }\n",
        "    }\n",
        "    feature: {\n",
        "      key  : \"label\"\n",
        "      value: {\n",
        "        int64_list: {\n",
        "          value: [ 48 ]\n",
        "        }\n",
        "      }\n",
        "    }\n",
        "  }\n",
        "}\n",
        "```"
      ]
    },
    {
      "cell_type": "code",
      "metadata": {
        "id": "hwWgd41asN5_"
      },
      "source": [
        "import tensorflow as tf\n",
        "\n",
        "# used to pad when user doesn't have enough context\n",
        "OOV_MOVIE_ID = 0\n",
        "\n",
        "def generate_examples_from_timelines(timelines,\n",
        "                                     min_timeline_len=3,\n",
        "                                     max_context_len=100):\n",
        "  \"\"\"Convert user timelines to tf examples.\n",
        "\n",
        "  Convert user timelines to tf examples by adding all possible context-label\n",
        "  pairs in the examples pool.\n",
        "\n",
        "  Args:\n",
        "    timelines: the user timelines to process.\n",
        "    min_timeline_len: minimum length of the user timeline.\n",
        "    max_context_len: maximum length of context signals.\n",
        "\n",
        "  Returns:\n",
        "    train_examples: tf example list for training.\n",
        "    test_examples: tf example list for testing.\n",
        "  \"\"\"\n",
        "  train_examples = []\n",
        "  test_examples = []\n",
        "  for timeline in timelines.values():\n",
        "    # Skip if timeline is shorter than min_timeline_len.\n",
        "    if len(timeline) < min_timeline_len:\n",
        "      continue\n",
        "    for label_idx in range(1, len(timeline)):\n",
        "      start_idx = max(0, label_idx - max_context_len)\n",
        "      context = timeline[start_idx:label_idx]\n",
        "      # Pad context with out-of-vocab movie id 0.\n",
        "      while len(context) < max_context_len:\n",
        "        context.append(OOV_MOVIE_ID)\n",
        "      label = timeline[label_idx]\n",
        "      feature = {\n",
        "          \"context\":\n",
        "              tf.train.Feature(int64_list=tf.train.Int64List(value=context)),\n",
        "          \"label\":\n",
        "              tf.train.Feature(int64_list=tf.train.Int64List(value=[label]))\n",
        "      }\n",
        "      tf_example = tf.train.Example(features=tf.train.Features(feature=feature))\n",
        "      if label_idx == len(timeline) - 1:\n",
        "        test_examples.append(tf_example.SerializeToString())\n",
        "      else:\n",
        "        train_examples.append(tf_example.SerializeToString())\n",
        "  return train_examples, test_examples\n",
        "\n"
      ],
      "execution_count": null,
      "outputs": []
    },
    {
      "cell_type": "code",
      "metadata": {
        "scrolled": false,
        "id": "3v0XcJ3OsN6A"
      },
      "source": [
        "train_examples, test_examples = generate_examples_from_timelines(timelines)"
      ],
      "execution_count": null,
      "outputs": []
    },
    {
      "cell_type": "markdown",
      "metadata": {
        "id": "3SS4ZYJCjRvO"
      },
      "source": [
        "Write examples to tfrecords, to be loaded in the model training step."
      ]
    },
    {
      "cell_type": "code",
      "metadata": {
        "id": "KVOe4EXUeyjw"
      },
      "source": [
        "def write_tfrecords(tf_examples, filename):\n",
        "  \"\"\"Write tf examples to tfrecord file.\"\"\"\n",
        "  with tf.io.TFRecordWriter(filename) as file_writer:\n",
        "    for example in tf_examples:\n",
        "      file_writer.write(example)\n",
        "\n",
        "output_dir = 'data/examples'\n",
        "OUTPUT_TRAINING_DATA_FILENAME = \"train_movielens_1m.tfrecord\"\n",
        "OUTPUT_TESTING_DATA_FILENAME = \"test_movielens_1m.tfrecord\"\n",
        "\n",
        "if not tf.io.gfile.exists(output_dir):\n",
        "  tf.io.gfile.makedirs(output_dir)\n",
        "write_tfrecords(\n",
        "    tf_examples=train_examples,\n",
        "    filename=os.path.join(output_dir, OUTPUT_TRAINING_DATA_FILENAME))\n",
        "write_tfrecords(\n",
        "    tf_examples=test_examples,\n",
        "    filename=os.path.join(output_dir, OUTPUT_TESTING_DATA_FILENAME))\n",
        "\n",
        "\n"
      ],
      "execution_count": null,
      "outputs": []
    },
    {
      "cell_type": "markdown",
      "metadata": {
        "id": "XQcQ6AssuBN8"
      },
      "source": [
        "# Train model\n",
        "\n",
        "The training launcher script uses TensorFlow keras compile/fit APIs and performs\n",
        "the following steps to kick start training and evaluation process:\n",
        "\n",
        "*   Set up both train and eval dataset input function.\n",
        "*   Construct keras model according to provided configs, please refer to sample.config file in the source code to config your model architecture, such as embedding dimension, convolutional neural network params, LSTM units etc.\n",
        "*   Setup loss function. In this code base, we leverages customized batch softmax loss function.\n",
        "*   Setup optimizer, with flag specified learning rate and gradient clip if needed.\n",
        "*   Setup evaluation metrics, we provided recall@k metrics by default.\n",
        "*   Compile model with loss function, optimizer and defined metrics.\n",
        "*   Setup callbacks for tensorboard and checkpoint manager.\n",
        "*   Run model.fit with compiled model, where you could specify number of epochs to train, number of train steps in each epoch and number of eval steps in each epoch.\n",
        "\n",
        "To start training please execute command:\n"
      ]
    },
    {
      "cell_type": "code",
      "metadata": {
        "id": "3gPKz5InxEbF",
        "outputId": "c67c047c-719c-455a-a443-8d3318323bf9",
        "colab": {
          "base_uri": "https://localhost:8080/",
          "height": 1000
        }
      },
      "source": [
        "!python -m model.recommendation_model_launcher_keras \\\n",
        "  --run_mode \"train_and_eval\" \\\n",
        "  --encoder_type \"cnn\" \\\n",
        "  --training_data_filepattern \"data/examples/train_movielens_1m.tfrecord\" \\\n",
        "  --testing_data_filepattern \"data/examples/test_movielens_1m.tfrecord\" \\\n",
        "  --model_dir \"model/model_dir\" \\\n",
        "  --params_path \"model/sample_config.json\"\\\n",
        "  --batch_size 64 \\\n",
        "  --learning_rate 0.1 \\\n",
        "  --steps_per_epoch 1000 \\\n",
        "  --num_epochs 100 \\\n",
        "  --num_eval_steps 1000 \\\n",
        "  --gradient_clip_norm 1.0 \\\n",
        "  --max_history_length 10"
      ],
      "execution_count": null,
      "outputs": [
        {
          "output_type": "stream",
          "text": [
            "2020-10-01 12:47:14.424879: I tensorflow/stream_executor/platform/default/dso_loader.cc:48] Successfully opened dynamic library libcudart.so.10.1\n",
            "INFO:tensorflow:Setting up train and eval input_fns.\n",
            "I1001 12:47:15.707299 140667743577984 app.py:251] Setting up train and eval input_fns.\n",
            "INFO:tensorflow:Build keras model for mode: train_and_eval.\n",
            "I1001 12:47:15.707654 140667743577984 app.py:251] Build keras model for mode: train_and_eval.\n",
            "2020-10-01 12:47:15.727502: I tensorflow/stream_executor/platform/default/dso_loader.cc:48] Successfully opened dynamic library libcuda.so.1\n",
            "2020-10-01 12:47:15.769101: I tensorflow/stream_executor/cuda/cuda_gpu_executor.cc:982] successful NUMA node read from SysFS had negative value (-1), but there must be at least one NUMA node, so returning NUMA node zero\n",
            "2020-10-01 12:47:15.769656: I tensorflow/core/common_runtime/gpu/gpu_device.cc:1716] Found device 0 with properties: \n",
            "pciBusID: 0000:00:04.0 name: Tesla P100-PCIE-16GB computeCapability: 6.0\n",
            "coreClock: 1.3285GHz coreCount: 56 deviceMemorySize: 15.90GiB deviceMemoryBandwidth: 681.88GiB/s\n",
            "2020-10-01 12:47:15.769707: I tensorflow/stream_executor/platform/default/dso_loader.cc:48] Successfully opened dynamic library libcudart.so.10.1\n",
            "2020-10-01 12:47:15.992731: I tensorflow/stream_executor/platform/default/dso_loader.cc:48] Successfully opened dynamic library libcublas.so.10\n",
            "2020-10-01 12:47:16.133344: I tensorflow/stream_executor/platform/default/dso_loader.cc:48] Successfully opened dynamic library libcufft.so.10\n",
            "2020-10-01 12:47:16.153525: I tensorflow/stream_executor/platform/default/dso_loader.cc:48] Successfully opened dynamic library libcurand.so.10\n",
            "2020-10-01 12:47:16.430040: I tensorflow/stream_executor/platform/default/dso_loader.cc:48] Successfully opened dynamic library libcusolver.so.10\n",
            "2020-10-01 12:47:16.456905: I tensorflow/stream_executor/platform/default/dso_loader.cc:48] Successfully opened dynamic library libcusparse.so.10\n",
            "2020-10-01 12:47:16.987363: I tensorflow/stream_executor/platform/default/dso_loader.cc:48] Successfully opened dynamic library libcudnn.so.7\n",
            "2020-10-01 12:47:16.987575: I tensorflow/stream_executor/cuda/cuda_gpu_executor.cc:982] successful NUMA node read from SysFS had negative value (-1), but there must be at least one NUMA node, so returning NUMA node zero\n",
            "2020-10-01 12:47:16.988288: I tensorflow/stream_executor/cuda/cuda_gpu_executor.cc:982] successful NUMA node read from SysFS had negative value (-1), but there must be at least one NUMA node, so returning NUMA node zero\n",
            "2020-10-01 12:47:16.988792: I tensorflow/core/common_runtime/gpu/gpu_device.cc:1858] Adding visible gpu devices: 0\n",
            "2020-10-01 12:47:17.026292: I tensorflow/core/platform/profile_utils/cpu_utils.cc:104] CPU Frequency: 2199995000 Hz\n",
            "2020-10-01 12:47:17.026500: I tensorflow/compiler/xla/service/service.cc:168] XLA service 0x12d6a00 initialized for platform Host (this does not guarantee that XLA will be used). Devices:\n",
            "2020-10-01 12:47:17.026530: I tensorflow/compiler/xla/service/service.cc:176]   StreamExecutor device (0): Host, Default Version\n",
            "2020-10-01 12:47:17.155197: I tensorflow/stream_executor/cuda/cuda_gpu_executor.cc:982] successful NUMA node read from SysFS had negative value (-1), but there must be at least one NUMA node, so returning NUMA node zero\n",
            "2020-10-01 12:47:17.155959: I tensorflow/compiler/xla/service/service.cc:168] XLA service 0x12d79c0 initialized for platform CUDA (this does not guarantee that XLA will be used). Devices:\n",
            "2020-10-01 12:47:17.155990: I tensorflow/compiler/xla/service/service.cc:176]   StreamExecutor device (0): Tesla P100-PCIE-16GB, Compute Capability 6.0\n",
            "2020-10-01 12:47:17.157338: I tensorflow/stream_executor/cuda/cuda_gpu_executor.cc:982] successful NUMA node read from SysFS had negative value (-1), but there must be at least one NUMA node, so returning NUMA node zero\n",
            "2020-10-01 12:47:17.157874: I tensorflow/core/common_runtime/gpu/gpu_device.cc:1716] Found device 0 with properties: \n",
            "pciBusID: 0000:00:04.0 name: Tesla P100-PCIE-16GB computeCapability: 6.0\n",
            "coreClock: 1.3285GHz coreCount: 56 deviceMemorySize: 15.90GiB deviceMemoryBandwidth: 681.88GiB/s\n",
            "2020-10-01 12:47:17.157922: I tensorflow/stream_executor/platform/default/dso_loader.cc:48] Successfully opened dynamic library libcudart.so.10.1\n",
            "2020-10-01 12:47:17.157970: I tensorflow/stream_executor/platform/default/dso_loader.cc:48] Successfully opened dynamic library libcublas.so.10\n",
            "2020-10-01 12:47:17.157991: I tensorflow/stream_executor/platform/default/dso_loader.cc:48] Successfully opened dynamic library libcufft.so.10\n",
            "2020-10-01 12:47:17.158013: I tensorflow/stream_executor/platform/default/dso_loader.cc:48] Successfully opened dynamic library libcurand.so.10\n",
            "2020-10-01 12:47:17.158031: I tensorflow/stream_executor/platform/default/dso_loader.cc:48] Successfully opened dynamic library libcusolver.so.10\n",
            "2020-10-01 12:47:17.158050: I tensorflow/stream_executor/platform/default/dso_loader.cc:48] Successfully opened dynamic library libcusparse.so.10\n",
            "2020-10-01 12:47:17.158071: I tensorflow/stream_executor/platform/default/dso_loader.cc:48] Successfully opened dynamic library libcudnn.so.7\n",
            "2020-10-01 12:47:17.158140: I tensorflow/stream_executor/cuda/cuda_gpu_executor.cc:982] successful NUMA node read from SysFS had negative value (-1), but there must be at least one NUMA node, so returning NUMA node zero\n",
            "2020-10-01 12:47:17.158709: I tensorflow/stream_executor/cuda/cuda_gpu_executor.cc:982] successful NUMA node read from SysFS had negative value (-1), but there must be at least one NUMA node, so returning NUMA node zero\n",
            "2020-10-01 12:47:17.159200: I tensorflow/core/common_runtime/gpu/gpu_device.cc:1858] Adding visible gpu devices: 0\n",
            "2020-10-01 12:47:17.162814: I tensorflow/stream_executor/platform/default/dso_loader.cc:48] Successfully opened dynamic library libcudart.so.10.1\n",
            "2020-10-01 12:47:21.132376: I tensorflow/core/common_runtime/gpu/gpu_device.cc:1257] Device interconnect StreamExecutor with strength 1 edge matrix:\n",
            "2020-10-01 12:47:21.132439: I tensorflow/core/common_runtime/gpu/gpu_device.cc:1263]      0 \n",
            "2020-10-01 12:47:21.132459: I tensorflow/core/common_runtime/gpu/gpu_device.cc:1276] 0:   N \n",
            "2020-10-01 12:47:21.138427: I tensorflow/stream_executor/cuda/cuda_gpu_executor.cc:982] successful NUMA node read from SysFS had negative value (-1), but there must be at least one NUMA node, so returning NUMA node zero\n",
            "2020-10-01 12:47:21.139082: I tensorflow/stream_executor/cuda/cuda_gpu_executor.cc:982] successful NUMA node read from SysFS had negative value (-1), but there must be at least one NUMA node, so returning NUMA node zero\n",
            "2020-10-01 12:47:21.139721: W tensorflow/core/common_runtime/gpu/gpu_bfc_allocator.cc:39] Overriding allow_growth setting because the TF_FORCE_GPU_ALLOW_GROWTH environment variable is set. Original config value was 0.\n",
            "2020-10-01 12:47:21.139771: I tensorflow/core/common_runtime/gpu/gpu_device.cc:1402] Created TensorFlow device (/job:localhost/replica:0/task:0/device:GPU:0 with 14968 MB memory) -> physical GPU (device: 0, name: Tesla P100-PCIE-16GB, pci bus id: 0000:00:04.0, compute capability: 6.0)\n",
            "2020-10-01 12:47:21.486230: I tensorflow/core/profiler/lib/profiler_session.cc:164] Profiler session started.\n",
            "2020-10-01 12:47:21.492389: I tensorflow/core/profiler/internal/gpu/cupti_tracer.cc:1391] Profiler found 1 GPUs\n",
            "2020-10-01 12:47:21.529962: I tensorflow/stream_executor/platform/default/dso_loader.cc:48] Successfully opened dynamic library libcupti.so.10.1\n",
            "2020-10-01 12:47:21.745482: I tensorflow/core/profiler/internal/gpu/cupti_tracer.cc:1513] CUPTI activity buffer flushed\n",
            "Epoch 1/100\n",
            "2020-10-01 12:47:24.371537: I tensorflow/stream_executor/platform/default/dso_loader.cc:48] Successfully opened dynamic library libcublas.so.10\n",
            "2020-10-01 12:47:25.851460: I tensorflow/stream_executor/platform/default/dso_loader.cc:48] Successfully opened dynamic library libcudnn.so.7\n",
            "   1/1000 [..............................] - ETA: 0s - loss: 8.2836 - Global_Recall/Recall_1: 0.0000e+00 - Global_Recall/Recall_5: 0.0000e+00 - Global_Recall/Recall_10: 0.0000e+00 - global_mean_rank: 2053.9980 - Batch_Recall/Recall_1: 0.0156 - Batch_Recall/Recall_5: 0.0938 - Batch_Recall/Recall_10: 0.1719 - batch_mean_rank: 30.43752020-10-01 12:47:30.303578: I tensorflow/core/profiler/lib/profiler_session.cc:164] Profiler session started.\n",
            "WARNING:tensorflow:From /usr/local/lib/python3.6/dist-packages/tensorflow/python/ops/summary_ops_v2.py:1277: stop (from tensorflow.python.eager.profiler) is deprecated and will be removed after 2020-07-01.\n",
            "Instructions for updating:\n",
            "use `tf.profiler.experimental.stop` instead.\n",
            "W1001 12:47:30.341189 140667743577984 deprecation.py:323] From /usr/local/lib/python3.6/dist-packages/tensorflow/python/ops/summary_ops_v2.py:1277: stop (from tensorflow.python.eager.profiler) is deprecated and will be removed after 2020-07-01.\n",
            "Instructions for updating:\n",
            "use `tf.profiler.experimental.stop` instead.\n",
            "2020-10-01 12:47:30.342209: I tensorflow/core/profiler/internal/gpu/cupti_tracer.cc:1513] CUPTI activity buffer flushed\n",
            "2020-10-01 12:47:30.346271: I tensorflow/core/profiler/internal/gpu/device_tracer.cc:223]  GpuTracer has collected 407 callback api events and 407 activity events. \n",
            "2020-10-01 12:47:30.372938: I tensorflow/core/profiler/rpc/client/save_profile.cc:176] Creating directory: model/model_dir/summaries/train/plugins/profile/2020_10_01_12_47_30\n",
            "2020-10-01 12:47:30.385187: I tensorflow/core/profiler/rpc/client/save_profile.cc:182] Dumped gzipped tool data for trace.json.gz to model/model_dir/summaries/train/plugins/profile/2020_10_01_12_47_30/1632afdce946.trace.json.gz\n",
            "2020-10-01 12:47:30.406089: I tensorflow/core/profiler/rpc/client/save_profile.cc:176] Creating directory: model/model_dir/summaries/train/plugins/profile/2020_10_01_12_47_30\n",
            "2020-10-01 12:47:30.409610: I tensorflow/core/profiler/rpc/client/save_profile.cc:182] Dumped gzipped tool data for memory_profile.json.gz to model/model_dir/summaries/train/plugins/profile/2020_10_01_12_47_30/1632afdce946.memory_profile.json.gz\n",
            "2020-10-01 12:47:30.410761: I tensorflow/python/profiler/internal/profiler_wrapper.cc:111] Creating directory: model/model_dir/summaries/train/plugins/profile/2020_10_01_12_47_30Dumped tool data for xplane.pb to model/model_dir/summaries/train/plugins/profile/2020_10_01_12_47_30/1632afdce946.xplane.pb\n",
            "Dumped tool data for overview_page.pb to model/model_dir/summaries/train/plugins/profile/2020_10_01_12_47_30/1632afdce946.overview_page.pb\n",
            "Dumped tool data for input_pipeline.pb to model/model_dir/summaries/train/plugins/profile/2020_10_01_12_47_30/1632afdce946.input_pipeline.pb\n",
            "Dumped tool data for tensorflow_stats.pb to model/model_dir/summaries/train/plugins/profile/2020_10_01_12_47_30/1632afdce946.tensorflow_stats.pb\n",
            "Dumped tool data for kernel_stats.pb to model/model_dir/summaries/train/plugins/profile/2020_10_01_12_47_30/1632afdce946.kernel_stats.pb\n",
            "\n",
            "   2/1000 [..............................] - ETA: 54s - loss: 8.2835 - Global_Recall/Recall_1: 0.0000e+00 - Global_Recall/Recall_5: 0.0000e+00 - Global_Recall/Recall_10: 0.0078 - global_mean_rank: 2061.2805 - Batch_Recall/Recall_1: 0.0234 - Batch_Recall/Recall_5: 0.0938 - Batch_Recall/Recall_10: 0.1719 - batch_mean_rank: 30.2656   WARNING:tensorflow:Callbacks method `on_train_batch_end` is slow compared to the batch time (batch time: 0.0359s vs `on_train_batch_end` time: 0.0737s). Check your callbacks.\n",
            "W1001 12:47:30.413361 140667743577984 callbacks.py:328] Callbacks method `on_train_batch_end` is slow compared to the batch time (batch time: 0.0359s vs `on_train_batch_end` time: 0.0737s). Check your callbacks.\n",
            "1000/1000 [==============================] - 64s 64ms/step - loss: 8.2656 - Global_Recall/Recall_1: 5.6250e-04 - Global_Recall/Recall_5: 0.0027 - Global_Recall/Recall_10: 0.0051 - global_mean_rank: 1815.6515 - Batch_Recall/Recall_1: 0.0157 - Batch_Recall/Recall_5: 0.0780 - Batch_Recall/Recall_10: 0.1568 - batch_mean_rank: 31.5099 - val_loss: 8.2056 - val_Global_Recall/Recall_1: 3.4375e-04 - val_Global_Recall/Recall_5: 0.0073 - val_Global_Recall/Recall_10: 0.0127 - val_global_mean_rank: 1544.1534 - val_Batch_Recall/Recall_1: 0.0155 - val_Batch_Recall/Recall_5: 0.0786 - val_Batch_Recall/Recall_10: 0.1559 - val_batch_mean_rank: 31.4950\n",
            "Epoch 2/100\n",
            "1000/1000 [==============================] - 63s 63ms/step - loss: 7.8971 - Global_Recall/Recall_1: 0.0021 - Global_Recall/Recall_5: 0.0092 - Global_Recall/Recall_10: 0.0176 - global_mean_rank: 1101.0648 - Batch_Recall/Recall_1: 0.0157 - Batch_Recall/Recall_5: 0.0783 - Batch_Recall/Recall_10: 0.1560 - batch_mean_rank: 31.4960 - val_loss: 7.8037 - val_Global_Recall/Recall_1: 0.0031 - val_Global_Recall/Recall_5: 0.0104 - val_Global_Recall/Recall_10: 0.0199 - val_global_mean_rank: 892.5040 - val_Batch_Recall/Recall_1: 0.0158 - val_Batch_Recall/Recall_5: 0.0783 - val_Batch_Recall/Recall_10: 0.1562 - val_batch_mean_rank: 31.5006\n",
            "Epoch 3/100\n",
            "1000/1000 [==============================] - 63s 63ms/step - loss: 7.5538 - Global_Recall/Recall_1: 0.0033 - Global_Recall/Recall_5: 0.0129 - Global_Recall/Recall_10: 0.0242 - global_mean_rank: 744.0009 - Batch_Recall/Recall_1: 0.0157 - Batch_Recall/Recall_5: 0.0783 - Batch_Recall/Recall_10: 0.1563 - batch_mean_rank: 31.5000 - val_loss: 7.6440 - val_Global_Recall/Recall_1: 0.0015 - val_Global_Recall/Recall_5: 0.0082 - val_Global_Recall/Recall_10: 0.0182 - val_global_mean_rank: 804.8481 - val_Batch_Recall/Recall_1: 0.0160 - val_Batch_Recall/Recall_5: 0.0781 - val_Batch_Recall/Recall_10: 0.1562 - val_batch_mean_rank: 31.5060\n",
            "Epoch 4/100\n",
            "1000/1000 [==============================] - 64s 64ms/step - loss: 7.3749 - Global_Recall/Recall_1: 0.0013 - Global_Recall/Recall_5: 0.0089 - Global_Recall/Recall_10: 0.0200 - global_mean_rank: 627.6757 - Batch_Recall/Recall_1: 0.0155 - Batch_Recall/Recall_5: 0.0787 - Batch_Recall/Recall_10: 0.1569 - batch_mean_rank: 31.4887 - val_loss: 7.7134 - val_Global_Recall/Recall_1: 0.0020 - val_Global_Recall/Recall_5: 0.0085 - val_Global_Recall/Recall_10: 0.0164 - val_global_mean_rank: 797.5206 - val_Batch_Recall/Recall_1: 0.0157 - val_Batch_Recall/Recall_5: 0.0783 - val_Batch_Recall/Recall_10: 0.1565 - val_batch_mean_rank: 31.5042\n",
            "Epoch 5/100\n",
            "1000/1000 [==============================] - 64s 64ms/step - loss: 7.4784 - Global_Recall/Recall_1: 0.0024 - Global_Recall/Recall_5: 0.0103 - Global_Recall/Recall_10: 0.0200 - global_mean_rank: 694.8303 - Batch_Recall/Recall_1: 0.0159 - Batch_Recall/Recall_5: 0.0783 - Batch_Recall/Recall_10: 0.1565 - batch_mean_rank: 31.4926 - val_loss: 7.5991 - val_Global_Recall/Recall_1: 5.1562e-04 - val_Global_Recall/Recall_5: 0.0115 - val_Global_Recall/Recall_10: 0.0242 - val_global_mean_rank: 782.9705 - val_Batch_Recall/Recall_1: 0.0154 - val_Batch_Recall/Recall_5: 0.0781 - val_Batch_Recall/Recall_10: 0.1568 - val_batch_mean_rank: 31.4932\n",
            "Epoch 6/100\n",
            "1000/1000 [==============================] - 63s 63ms/step - loss: 7.3310 - Global_Recall/Recall_1: 0.0042 - Global_Recall/Recall_5: 0.0133 - Global_Recall/Recall_10: 0.0258 - global_mean_rank: 606.1522 - Batch_Recall/Recall_1: 0.0155 - Batch_Recall/Recall_5: 0.0788 - Batch_Recall/Recall_10: 0.1565 - batch_mean_rank: 31.4924 - val_loss: 7.6657 - val_Global_Recall/Recall_1: 5.1562e-04 - val_Global_Recall/Recall_5: 0.0068 - val_Global_Recall/Recall_10: 0.0153 - val_global_mean_rank: 816.0368 - val_Batch_Recall/Recall_1: 0.0154 - val_Batch_Recall/Recall_5: 0.0780 - val_Batch_Recall/Recall_10: 0.1566 - val_batch_mean_rank: 31.4864\n",
            "Epoch 7/100\n",
            "1000/1000 [==============================] - 63s 63ms/step - loss: 7.2956 - Global_Recall/Recall_1: 0.0038 - Global_Recall/Recall_5: 0.0139 - Global_Recall/Recall_10: 0.0260 - global_mean_rank: 591.1171 - Batch_Recall/Recall_1: 0.0153 - Batch_Recall/Recall_5: 0.0784 - Batch_Recall/Recall_10: 0.1563 - batch_mean_rank: 31.4585 - val_loss: 7.6187 - val_Global_Recall/Recall_1: 0.0026 - val_Global_Recall/Recall_5: 0.0097 - val_Global_Recall/Recall_10: 0.0200 - val_global_mean_rank: 786.2021 - val_Batch_Recall/Recall_1: 0.0159 - val_Batch_Recall/Recall_5: 0.0791 - val_Batch_Recall/Recall_10: 0.1568 - val_batch_mean_rank: 31.4853\n",
            "Epoch 8/100\n",
            "1000/1000 [==============================] - 63s 63ms/step - loss: 7.2202 - Global_Recall/Recall_1: 0.0059 - Global_Recall/Recall_5: 0.0189 - Global_Recall/Recall_10: 0.0341 - global_mean_rank: 560.8652 - Batch_Recall/Recall_1: 0.0160 - Batch_Recall/Recall_5: 0.0787 - Batch_Recall/Recall_10: 0.1567 - batch_mean_rank: 31.4269 - val_loss: 7.5716 - val_Global_Recall/Recall_1: 1.7187e-04 - val_Global_Recall/Recall_5: 0.0119 - val_Global_Recall/Recall_10: 0.0226 - val_global_mean_rank: 765.4273 - val_Batch_Recall/Recall_1: 0.0164 - val_Batch_Recall/Recall_5: 0.0803 - val_Batch_Recall/Recall_10: 0.1595 - val_batch_mean_rank: 31.4202\n",
            "Epoch 9/100\n",
            "1000/1000 [==============================] - 63s 63ms/step - loss: 7.1424 - Global_Recall/Recall_1: 0.0065 - Global_Recall/Recall_5: 0.0193 - Global_Recall/Recall_10: 0.0362 - global_mean_rank: 521.0279 - Batch_Recall/Recall_1: 0.0161 - Batch_Recall/Recall_5: 0.0796 - Batch_Recall/Recall_10: 0.1590 - batch_mean_rank: 31.3284 - val_loss: 7.5450 - val_Global_Recall/Recall_1: 1.7187e-04 - val_Global_Recall/Recall_5: 0.0116 - val_Global_Recall/Recall_10: 0.0205 - val_global_mean_rank: 763.9580 - val_Batch_Recall/Recall_1: 0.0161 - val_Batch_Recall/Recall_5: 0.0816 - val_Batch_Recall/Recall_10: 0.1609 - val_batch_mean_rank: 31.3200\n",
            "Epoch 10/100\n",
            "1000/1000 [==============================] - 63s 63ms/step - loss: 7.2101 - Global_Recall/Recall_1: 0.0058 - Global_Recall/Recall_5: 0.0191 - Global_Recall/Recall_10: 0.0360 - global_mean_rank: 557.9743 - Batch_Recall/Recall_1: 0.0165 - Batch_Recall/Recall_5: 0.0811 - Batch_Recall/Recall_10: 0.1608 - batch_mean_rank: 31.2144 - val_loss: 7.5536 - val_Global_Recall/Recall_1: 0.0029 - val_Global_Recall/Recall_5: 0.0104 - val_Global_Recall/Recall_10: 0.0212 - val_global_mean_rank: 771.4714 - val_Batch_Recall/Recall_1: 0.0158 - val_Batch_Recall/Recall_5: 0.0815 - val_Batch_Recall/Recall_10: 0.1607 - val_batch_mean_rank: 31.3524\n",
            "Epoch 11/100\n",
            "1000/1000 [==============================] - 63s 63ms/step - loss: 7.2183 - Global_Recall/Recall_1: 0.0055 - Global_Recall/Recall_5: 0.0217 - Global_Recall/Recall_10: 0.0397 - global_mean_rank: 570.3261 - Batch_Recall/Recall_1: 0.0176 - Batch_Recall/Recall_5: 0.0833 - Batch_Recall/Recall_10: 0.1630 - batch_mean_rank: 31.0594 - val_loss: 7.5734 - val_Global_Recall/Recall_1: 0.0015 - val_Global_Recall/Recall_5: 0.0058 - val_Global_Recall/Recall_10: 0.0156 - val_global_mean_rank: 781.2092 - val_Batch_Recall/Recall_1: 0.0174 - val_Batch_Recall/Recall_5: 0.0842 - val_Batch_Recall/Recall_10: 0.1629 - val_batch_mean_rank: 31.1527\n",
            "Epoch 12/100\n",
            "1000/1000 [==============================] - 63s 63ms/step - loss: 6.8889 - Global_Recall/Recall_1: 0.0130 - Global_Recall/Recall_5: 0.0410 - Global_Recall/Recall_10: 0.0717 - global_mean_rank: 451.8977 - Batch_Recall/Recall_1: 0.0188 - Batch_Recall/Recall_5: 0.0903 - Batch_Recall/Recall_10: 0.1727 - batch_mean_rank: 30.5990 - val_loss: 7.5449 - val_Global_Recall/Recall_1: 1.5625e-04 - val_Global_Recall/Recall_5: 0.0067 - val_Global_Recall/Recall_10: 0.0184 - val_global_mean_rank: 773.0640 - val_Batch_Recall/Recall_1: 0.0167 - val_Batch_Recall/Recall_5: 0.0824 - val_Batch_Recall/Recall_10: 0.1624 - val_batch_mean_rank: 31.1705\n",
            "Epoch 13/100\n",
            "1000/1000 [==============================] - 63s 63ms/step - loss: 7.0770 - Global_Recall/Recall_1: 0.0104 - Global_Recall/Recall_5: 0.0364 - Global_Recall/Recall_10: 0.0625 - global_mean_rank: 543.8775 - Batch_Recall/Recall_1: 0.0196 - Batch_Recall/Recall_5: 0.0943 - Batch_Recall/Recall_10: 0.1809 - batch_mean_rank: 30.1242 - val_loss: 7.4359 - val_Global_Recall/Recall_1: 0.0052 - val_Global_Recall/Recall_5: 0.0195 - val_Global_Recall/Recall_10: 0.0347 - val_global_mean_rank: 763.3229 - val_Batch_Recall/Recall_1: 0.0203 - val_Batch_Recall/Recall_5: 0.1002 - val_Batch_Recall/Recall_10: 0.1880 - val_batch_mean_rank: 29.5866\n",
            "Epoch 14/100\n",
            "1000/1000 [==============================] - 63s 63ms/step - loss: 7.4753 - Global_Recall/Recall_1: 0.0035 - Global_Recall/Recall_5: 0.0162 - Global_Recall/Recall_10: 0.0288 - global_mean_rank: 847.3908 - Batch_Recall/Recall_1: 0.0271 - Batch_Recall/Recall_5: 0.1213 - Batch_Recall/Recall_10: 0.2231 - batch_mean_rank: 27.9530 - val_loss: 7.4556 - val_Global_Recall/Recall_1: 0.0038 - val_Global_Recall/Recall_5: 0.0151 - val_Global_Recall/Recall_10: 0.0266 - val_global_mean_rank: 806.0920 - val_Batch_Recall/Recall_1: 0.0250 - val_Batch_Recall/Recall_5: 0.1158 - val_Batch_Recall/Recall_10: 0.2152 - val_batch_mean_rank: 28.2002\n",
            "Epoch 15/100\n",
            "1000/1000 [==============================] - 63s 63ms/step - loss: 7.3209 - Global_Recall/Recall_1: 0.0038 - Global_Recall/Recall_5: 0.0174 - Global_Recall/Recall_10: 0.0318 - global_mean_rank: 766.2314 - Batch_Recall/Recall_1: 0.0279 - Batch_Recall/Recall_5: 0.1276 - Batch_Recall/Recall_10: 0.2348 - batch_mean_rank: 27.0294 - val_loss: 7.4781 - val_Global_Recall/Recall_1: 0.0015 - val_Global_Recall/Recall_5: 0.0169 - val_Global_Recall/Recall_10: 0.0324 - val_global_mean_rank: 843.9808 - val_Batch_Recall/Recall_1: 0.0227 - val_Batch_Recall/Recall_5: 0.1170 - val_Batch_Recall/Recall_10: 0.2226 - val_batch_mean_rank: 27.6997\n",
            "Epoch 16/100\n",
            "1000/1000 [==============================] - 63s 63ms/step - loss: 7.2000 - Global_Recall/Recall_1: 0.0049 - Global_Recall/Recall_5: 0.0214 - Global_Recall/Recall_10: 0.0382 - global_mean_rank: 733.8596 - Batch_Recall/Recall_1: 0.0288 - Batch_Recall/Recall_5: 0.1300 - Batch_Recall/Recall_10: 0.2447 - batch_mean_rank: 26.0748 - val_loss: 7.4152 - val_Global_Recall/Recall_1: 0.0049 - val_Global_Recall/Recall_5: 0.0182 - val_Global_Recall/Recall_10: 0.0305 - val_global_mean_rank: 866.8057 - val_Batch_Recall/Recall_1: 0.0282 - val_Batch_Recall/Recall_5: 0.1292 - val_Batch_Recall/Recall_10: 0.2436 - val_batch_mean_rank: 26.3663\n",
            "Epoch 17/100\n",
            "1000/1000 [==============================] - 62s 62ms/step - loss: 6.9763 - Global_Recall/Recall_1: 0.0055 - Global_Recall/Recall_5: 0.0272 - Global_Recall/Recall_10: 0.0516 - global_mean_rank: 725.1558 - Batch_Recall/Recall_1: 0.0364 - Batch_Recall/Recall_5: 0.1617 - Batch_Recall/Recall_10: 0.2913 - batch_mean_rank: 23.2138 - val_loss: 7.4248 - val_Global_Recall/Recall_1: 0.0047 - val_Global_Recall/Recall_5: 0.0176 - val_Global_Recall/Recall_10: 0.0332 - val_global_mean_rank: 864.7156 - val_Batch_Recall/Recall_1: 0.0296 - val_Batch_Recall/Recall_5: 0.1362 - val_Batch_Recall/Recall_10: 0.2482 - val_batch_mean_rank: 25.9897\n",
            "Epoch 18/100\n",
            "1000/1000 [==============================] - 62s 62ms/step - loss: 7.1204 - Global_Recall/Recall_1: 0.0049 - Global_Recall/Recall_5: 0.0209 - Global_Recall/Recall_10: 0.0385 - global_mean_rank: 755.1519 - Batch_Recall/Recall_1: 0.0338 - Batch_Recall/Recall_5: 0.1466 - Batch_Recall/Recall_10: 0.2700 - batch_mean_rank: 24.3886 - val_loss: 7.4072 - val_Global_Recall/Recall_1: 0.0030 - val_Global_Recall/Recall_5: 0.0134 - val_Global_Recall/Recall_10: 0.0275 - val_global_mean_rank: 867.8455 - val_Batch_Recall/Recall_1: 0.0288 - val_Batch_Recall/Recall_5: 0.1350 - val_Batch_Recall/Recall_10: 0.2473 - val_batch_mean_rank: 25.9409\n",
            "Epoch 19/100\n",
            "1000/1000 [==============================] - 62s 62ms/step - loss: 6.9768 - Global_Recall/Recall_1: 0.0059 - Global_Recall/Recall_5: 0.0243 - Global_Recall/Recall_10: 0.0460 - global_mean_rank: 687.7955 - Batch_Recall/Recall_1: 0.0338 - Batch_Recall/Recall_5: 0.1505 - Batch_Recall/Recall_10: 0.2749 - batch_mean_rank: 24.0142 - val_loss: 7.4413 - val_Global_Recall/Recall_1: 0.0023 - val_Global_Recall/Recall_5: 0.0160 - val_Global_Recall/Recall_10: 0.0287 - val_global_mean_rank: 922.7082 - val_Batch_Recall/Recall_1: 0.0316 - val_Batch_Recall/Recall_5: 0.1396 - val_Batch_Recall/Recall_10: 0.2605 - val_batch_mean_rank: 25.2081\n",
            "Epoch 20/100\n",
            "1000/1000 [==============================] - 62s 62ms/step - loss: 6.9778 - Global_Recall/Recall_1: 0.0056 - Global_Recall/Recall_5: 0.0246 - Global_Recall/Recall_10: 0.0472 - global_mean_rank: 700.4235 - Batch_Recall/Recall_1: 0.0347 - Batch_Recall/Recall_5: 0.1561 - Batch_Recall/Recall_10: 0.2809 - batch_mean_rank: 23.7920 - val_loss: 7.3826 - val_Global_Recall/Recall_1: 0.0043 - val_Global_Recall/Recall_5: 0.0172 - val_Global_Recall/Recall_10: 0.0325 - val_global_mean_rank: 899.1857 - val_Batch_Recall/Recall_1: 0.0307 - val_Batch_Recall/Recall_5: 0.1397 - val_Batch_Recall/Recall_10: 0.2600 - val_batch_mean_rank: 25.0674\n",
            "Epoch 21/100\n",
            "1000/1000 [==============================] - 62s 62ms/step - loss: 6.8486 - Global_Recall/Recall_1: 0.0082 - Global_Recall/Recall_5: 0.0325 - Global_Recall/Recall_10: 0.0590 - global_mean_rank: 665.6561 - Batch_Recall/Recall_1: 0.0344 - Batch_Recall/Recall_5: 0.1561 - Batch_Recall/Recall_10: 0.2859 - batch_mean_rank: 23.2642 - val_loss: 7.3573 - val_Global_Recall/Recall_1: 0.0041 - val_Global_Recall/Recall_5: 0.0186 - val_Global_Recall/Recall_10: 0.0302 - val_global_mean_rank: 894.2552 - val_Batch_Recall/Recall_1: 0.0329 - val_Batch_Recall/Recall_5: 0.1430 - val_Batch_Recall/Recall_10: 0.2639 - val_batch_mean_rank: 24.9699\n",
            "Epoch 22/100\n",
            "1000/1000 [==============================] - 63s 63ms/step - loss: 6.7901 - Global_Recall/Recall_1: 0.0084 - Global_Recall/Recall_5: 0.0337 - Global_Recall/Recall_10: 0.0608 - global_mean_rank: 635.8839 - Batch_Recall/Recall_1: 0.0344 - Batch_Recall/Recall_5: 0.1579 - Batch_Recall/Recall_10: 0.2899 - batch_mean_rank: 23.2148 - val_loss: 7.3318 - val_Global_Recall/Recall_1: 0.0023 - val_Global_Recall/Recall_5: 0.0182 - val_Global_Recall/Recall_10: 0.0350 - val_global_mean_rank: 913.0643 - val_Batch_Recall/Recall_1: 0.0325 - val_Batch_Recall/Recall_5: 0.1494 - val_Batch_Recall/Recall_10: 0.2759 - val_batch_mean_rank: 24.3262\n",
            "Epoch 23/100\n",
            "1000/1000 [==============================] - 63s 63ms/step - loss: 6.8649 - Global_Recall/Recall_1: 0.0084 - Global_Recall/Recall_5: 0.0335 - Global_Recall/Recall_10: 0.0593 - global_mean_rank: 678.7977 - Batch_Recall/Recall_1: 0.0357 - Batch_Recall/Recall_5: 0.1586 - Batch_Recall/Recall_10: 0.2886 - batch_mean_rank: 23.2221 - val_loss: 7.3650 - val_Global_Recall/Recall_1: 0.0045 - val_Global_Recall/Recall_5: 0.0190 - val_Global_Recall/Recall_10: 0.0367 - val_global_mean_rank: 879.7344 - val_Batch_Recall/Recall_1: 0.0298 - val_Batch_Recall/Recall_5: 0.1404 - val_Batch_Recall/Recall_10: 0.2607 - val_batch_mean_rank: 24.8728\n",
            "Epoch 24/100\n",
            "1000/1000 [==============================] - 62s 62ms/step - loss: 6.8112 - Global_Recall/Recall_1: 0.0098 - Global_Recall/Recall_5: 0.0377 - Global_Recall/Recall_10: 0.0670 - global_mean_rank: 656.4060 - Batch_Recall/Recall_1: 0.0361 - Batch_Recall/Recall_5: 0.1602 - Batch_Recall/Recall_10: 0.2869 - batch_mean_rank: 23.3700 - val_loss: 7.3414 - val_Global_Recall/Recall_1: 0.0040 - val_Global_Recall/Recall_5: 0.0185 - val_Global_Recall/Recall_10: 0.0352 - val_global_mean_rank: 911.5806 - val_Batch_Recall/Recall_1: 0.0333 - val_Batch_Recall/Recall_5: 0.1491 - val_Batch_Recall/Recall_10: 0.2693 - val_batch_mean_rank: 24.3366\n",
            "Epoch 25/100\n",
            "1000/1000 [==============================] - 62s 62ms/step - loss: 6.5125 - Global_Recall/Recall_1: 0.0167 - Global_Recall/Recall_5: 0.0623 - Global_Recall/Recall_10: 0.1066 - global_mean_rank: 575.7444 - Batch_Recall/Recall_1: 0.0373 - Batch_Recall/Recall_5: 0.1671 - Batch_Recall/Recall_10: 0.2990 - batch_mean_rank: 22.8809 - val_loss: 7.2855 - val_Global_Recall/Recall_1: 0.0041 - val_Global_Recall/Recall_5: 0.0215 - val_Global_Recall/Recall_10: 0.0379 - val_global_mean_rank: 935.9960 - val_Batch_Recall/Recall_1: 0.0353 - val_Batch_Recall/Recall_5: 0.1578 - val_Batch_Recall/Recall_10: 0.2835 - val_batch_mean_rank: 23.6502\n",
            "Epoch 26/100\n",
            "1000/1000 [==============================] - 63s 63ms/step - loss: 6.7411 - Global_Recall/Recall_1: 0.0133 - Global_Recall/Recall_5: 0.0471 - Global_Recall/Recall_10: 0.0827 - global_mean_rank: 640.6070 - Batch_Recall/Recall_1: 0.0335 - Batch_Recall/Recall_5: 0.1528 - Batch_Recall/Recall_10: 0.2813 - batch_mean_rank: 23.7875 - val_loss: 7.2609 - val_Global_Recall/Recall_1: 0.0049 - val_Global_Recall/Recall_5: 0.0210 - val_Global_Recall/Recall_10: 0.0395 - val_global_mean_rank: 916.8336 - val_Batch_Recall/Recall_1: 0.0360 - val_Batch_Recall/Recall_5: 0.1609 - val_Batch_Recall/Recall_10: 0.2849 - val_batch_mean_rank: 23.5452\n",
            "Epoch 27/100\n",
            "1000/1000 [==============================] - 62s 62ms/step - loss: 7.0769 - Global_Recall/Recall_1: 0.0056 - Global_Recall/Recall_5: 0.0252 - Global_Recall/Recall_10: 0.0461 - global_mean_rank: 939.2950 - Batch_Recall/Recall_1: 0.0437 - Batch_Recall/Recall_5: 0.1885 - Batch_Recall/Recall_10: 0.3351 - batch_mean_rank: 21.0567 - val_loss: 7.3276 - val_Global_Recall/Recall_1: 0.0037 - val_Global_Recall/Recall_5: 0.0160 - val_Global_Recall/Recall_10: 0.0352 - val_global_mean_rank: 926.7349 - val_Batch_Recall/Recall_1: 0.0335 - val_Batch_Recall/Recall_5: 0.1558 - val_Batch_Recall/Recall_10: 0.2808 - val_batch_mean_rank: 23.7044\n",
            "Epoch 28/100\n",
            "1000/1000 [==============================] - 62s 62ms/step - loss: 7.0208 - Global_Recall/Recall_1: 0.0055 - Global_Recall/Recall_5: 0.0242 - Global_Recall/Recall_10: 0.0457 - global_mean_rank: 844.6968 - Batch_Recall/Recall_1: 0.0404 - Batch_Recall/Recall_5: 0.1758 - Batch_Recall/Recall_10: 0.3162 - batch_mean_rank: 21.9657 - val_loss: 7.3142 - val_Global_Recall/Recall_1: 0.0037 - val_Global_Recall/Recall_5: 0.0172 - val_Global_Recall/Recall_10: 0.0359 - val_global_mean_rank: 971.2936 - val_Batch_Recall/Recall_1: 0.0355 - val_Batch_Recall/Recall_5: 0.1644 - val_Batch_Recall/Recall_10: 0.2987 - val_batch_mean_rank: 23.0015\n",
            "Epoch 29/100\n",
            "1000/1000 [==============================] - 62s 62ms/step - loss: 6.9065 - Global_Recall/Recall_1: 0.0059 - Global_Recall/Recall_5: 0.0301 - Global_Recall/Recall_10: 0.0561 - global_mean_rank: 830.6135 - Batch_Recall/Recall_1: 0.0436 - Batch_Recall/Recall_5: 0.1895 - Batch_Recall/Recall_10: 0.3359 - batch_mean_rank: 20.9792 - val_loss: 7.3255 - val_Global_Recall/Recall_1: 0.0056 - val_Global_Recall/Recall_5: 0.0237 - val_Global_Recall/Recall_10: 0.0400 - val_global_mean_rank: 965.2598 - val_Batch_Recall/Recall_1: 0.0402 - val_Batch_Recall/Recall_5: 0.1747 - val_Batch_Recall/Recall_10: 0.3068 - val_batch_mean_rank: 22.5950\n",
            "Epoch 30/100\n",
            "1000/1000 [==============================] - 62s 62ms/step - loss: 6.8010 - Global_Recall/Recall_1: 0.0072 - Global_Recall/Recall_5: 0.0333 - Global_Recall/Recall_10: 0.0630 - global_mean_rank: 835.0462 - Batch_Recall/Recall_1: 0.0477 - Batch_Recall/Recall_5: 0.2077 - Batch_Recall/Recall_10: 0.3623 - batch_mean_rank: 19.5807 - val_loss: 7.2519 - val_Global_Recall/Recall_1: 0.0042 - val_Global_Recall/Recall_5: 0.0206 - val_Global_Recall/Recall_10: 0.0395 - val_global_mean_rank: 952.4982 - val_Batch_Recall/Recall_1: 0.0411 - val_Batch_Recall/Recall_5: 0.1774 - val_Batch_Recall/Recall_10: 0.3138 - val_batch_mean_rank: 22.5053\n",
            "Epoch 31/100\n",
            "1000/1000 [==============================] - 62s 62ms/step - loss: 6.8843 - Global_Recall/Recall_1: 0.0068 - Global_Recall/Recall_5: 0.0308 - Global_Recall/Recall_10: 0.0576 - global_mean_rank: 824.1074 - Batch_Recall/Recall_1: 0.0480 - Batch_Recall/Recall_5: 0.2001 - Batch_Recall/Recall_10: 0.3471 - batch_mean_rank: 20.5436 - val_loss: 7.2695 - val_Global_Recall/Recall_1: 0.0049 - val_Global_Recall/Recall_5: 0.0205 - val_Global_Recall/Recall_10: 0.0351 - val_global_mean_rank: 969.0007 - val_Batch_Recall/Recall_1: 0.0417 - val_Batch_Recall/Recall_5: 0.1756 - val_Batch_Recall/Recall_10: 0.3128 - val_batch_mean_rank: 22.3297\n",
            "Epoch 32/100\n",
            "1000/1000 [==============================] - 62s 62ms/step - loss: 6.7915 - Global_Recall/Recall_1: 0.0074 - Global_Recall/Recall_5: 0.0335 - Global_Recall/Recall_10: 0.0617 - global_mean_rank: 771.5029 - Batch_Recall/Recall_1: 0.0473 - Batch_Recall/Recall_5: 0.1995 - Batch_Recall/Recall_10: 0.3464 - batch_mean_rank: 20.5295 - val_loss: 7.2855 - val_Global_Recall/Recall_1: 0.0062 - val_Global_Recall/Recall_5: 0.0202 - val_Global_Recall/Recall_10: 0.0404 - val_global_mean_rank: 955.2166 - val_Batch_Recall/Recall_1: 0.0404 - val_Batch_Recall/Recall_5: 0.1776 - val_Batch_Recall/Recall_10: 0.3099 - val_batch_mean_rank: 22.4111\n",
            "Epoch 33/100\n",
            "1000/1000 [==============================] - 62s 62ms/step - loss: 6.8142 - Global_Recall/Recall_1: 0.0077 - Global_Recall/Recall_5: 0.0341 - Global_Recall/Recall_10: 0.0627 - global_mean_rank: 764.3620 - Batch_Recall/Recall_1: 0.0465 - Batch_Recall/Recall_5: 0.1986 - Batch_Recall/Recall_10: 0.3414 - batch_mean_rank: 20.8077 - val_loss: 7.2423 - val_Global_Recall/Recall_1: 0.0061 - val_Global_Recall/Recall_5: 0.0257 - val_Global_Recall/Recall_10: 0.0456 - val_global_mean_rank: 946.2404 - val_Batch_Recall/Recall_1: 0.0425 - val_Batch_Recall/Recall_5: 0.1826 - val_Batch_Recall/Recall_10: 0.3212 - val_batch_mean_rank: 22.0678\n",
            "Epoch 34/100\n",
            "1000/1000 [==============================] - 62s 62ms/step - loss: 6.6769 - Global_Recall/Recall_1: 0.0095 - Global_Recall/Recall_5: 0.0398 - Global_Recall/Recall_10: 0.0735 - global_mean_rank: 713.7032 - Batch_Recall/Recall_1: 0.0446 - Batch_Recall/Recall_5: 0.1953 - Batch_Recall/Recall_10: 0.3449 - batch_mean_rank: 20.3953 - val_loss: 7.1860 - val_Global_Recall/Recall_1: 0.0053 - val_Global_Recall/Recall_5: 0.0226 - val_Global_Recall/Recall_10: 0.0435 - val_global_mean_rank: 936.6522 - val_Batch_Recall/Recall_1: 0.0418 - val_Batch_Recall/Recall_5: 0.1808 - val_Batch_Recall/Recall_10: 0.3187 - val_batch_mean_rank: 21.9541\n",
            "Epoch 35/100\n",
            "1000/1000 [==============================] - 62s 62ms/step - loss: 6.6448 - Global_Recall/Recall_1: 0.0094 - Global_Recall/Recall_5: 0.0416 - Global_Recall/Recall_10: 0.0754 - global_mean_rank: 686.6386 - Batch_Recall/Recall_1: 0.0457 - Batch_Recall/Recall_5: 0.1995 - Batch_Recall/Recall_10: 0.3461 - batch_mean_rank: 20.5399 - val_loss: 7.1760 - val_Global_Recall/Recall_1: 0.0057 - val_Global_Recall/Recall_5: 0.0262 - val_Global_Recall/Recall_10: 0.0442 - val_global_mean_rank: 924.8090 - val_Batch_Recall/Recall_1: 0.0401 - val_Batch_Recall/Recall_5: 0.1730 - val_Batch_Recall/Recall_10: 0.3103 - val_batch_mean_rank: 22.1164\n",
            "Epoch 36/100\n",
            "1000/1000 [==============================] - 62s 62ms/step - loss: 6.7054 - Global_Recall/Recall_1: 0.0105 - Global_Recall/Recall_5: 0.0415 - Global_Recall/Recall_10: 0.0755 - global_mean_rank: 726.6934 - Batch_Recall/Recall_1: 0.0464 - Batch_Recall/Recall_5: 0.1970 - Batch_Recall/Recall_10: 0.3426 - batch_mean_rank: 20.6468 - val_loss: 7.2505 - val_Global_Recall/Recall_1: 0.0047 - val_Global_Recall/Recall_5: 0.0216 - val_Global_Recall/Recall_10: 0.0421 - val_global_mean_rank: 921.8632 - val_Batch_Recall/Recall_1: 0.0438 - val_Batch_Recall/Recall_5: 0.1851 - val_Batch_Recall/Recall_10: 0.3200 - val_batch_mean_rank: 22.0378\n",
            "Epoch 37/100\n",
            "1000/1000 [==============================] - 62s 62ms/step - loss: 6.6389 - Global_Recall/Recall_1: 0.0109 - Global_Recall/Recall_5: 0.0462 - Global_Recall/Recall_10: 0.0818 - global_mean_rank: 690.9033 - Batch_Recall/Recall_1: 0.0453 - Batch_Recall/Recall_5: 0.1922 - Batch_Recall/Recall_10: 0.3378 - batch_mean_rank: 20.8565 - val_loss: 7.2116 - val_Global_Recall/Recall_1: 0.0052 - val_Global_Recall/Recall_5: 0.0210 - val_Global_Recall/Recall_10: 0.0416 - val_global_mean_rank: 944.6404 - val_Batch_Recall/Recall_1: 0.0428 - val_Batch_Recall/Recall_5: 0.1875 - val_Batch_Recall/Recall_10: 0.3305 - val_batch_mean_rank: 21.5791\n",
            "Epoch 38/100\n",
            "1000/1000 [==============================] - 62s 62ms/step - loss: 6.4043 - Global_Recall/Recall_1: 0.0170 - Global_Recall/Recall_5: 0.0691 - Global_Recall/Recall_10: 0.1159 - global_mean_rank: 613.0201 - Batch_Recall/Recall_1: 0.0455 - Batch_Recall/Recall_5: 0.1953 - Batch_Recall/Recall_10: 0.3412 - batch_mean_rank: 20.8149 - val_loss: 7.1854 - val_Global_Recall/Recall_1: 0.0065 - val_Global_Recall/Recall_5: 0.0305 - val_Global_Recall/Recall_10: 0.0547 - val_global_mean_rank: 956.1908 - val_Batch_Recall/Recall_1: 0.0473 - val_Batch_Recall/Recall_5: 0.1938 - val_Batch_Recall/Recall_10: 0.3380 - val_batch_mean_rank: 21.1147\n",
            "Epoch 39/100\n",
            "1000/1000 [==============================] - 62s 62ms/step - loss: 6.6618 - Global_Recall/Recall_1: 0.0130 - Global_Recall/Recall_5: 0.0504 - Global_Recall/Recall_10: 0.0859 - global_mean_rank: 720.8544 - Batch_Recall/Recall_1: 0.0436 - Batch_Recall/Recall_5: 0.1864 - Batch_Recall/Recall_10: 0.3246 - batch_mean_rank: 21.4819 - val_loss: 7.1596 - val_Global_Recall/Recall_1: 0.0057 - val_Global_Recall/Recall_5: 0.0279 - val_Global_Recall/Recall_10: 0.0502 - val_global_mean_rank: 984.5180 - val_Batch_Recall/Recall_1: 0.0452 - val_Batch_Recall/Recall_5: 0.1942 - val_Batch_Recall/Recall_10: 0.3397 - val_batch_mean_rank: 21.0440\n",
            "Epoch 40/100\n",
            "1000/1000 [==============================] - 62s 62ms/step - loss: 6.8834 - Global_Recall/Recall_1: 0.0075 - Global_Recall/Recall_5: 0.0345 - Global_Recall/Recall_10: 0.0633 - global_mean_rank: 974.7300 - Batch_Recall/Recall_1: 0.0585 - Batch_Recall/Recall_5: 0.2349 - Batch_Recall/Recall_10: 0.3949 - batch_mean_rank: 18.4430 - val_loss: 7.2296 - val_Global_Recall/Recall_1: 0.0054 - val_Global_Recall/Recall_5: 0.0246 - val_Global_Recall/Recall_10: 0.0469 - val_global_mean_rank: 991.6432 - val_Batch_Recall/Recall_1: 0.0482 - val_Batch_Recall/Recall_5: 0.2033 - val_Batch_Recall/Recall_10: 0.3487 - val_batch_mean_rank: 20.6704\n",
            "Epoch 41/100\n",
            "1000/1000 [==============================] - 62s 62ms/step - loss: 6.8793 - Global_Recall/Recall_1: 0.0070 - Global_Recall/Recall_5: 0.0306 - Global_Recall/Recall_10: 0.0567 - global_mean_rank: 848.6740 - Batch_Recall/Recall_1: 0.0497 - Batch_Recall/Recall_5: 0.2091 - Batch_Recall/Recall_10: 0.3595 - batch_mean_rank: 20.1603 - val_loss: 7.1907 - val_Global_Recall/Recall_1: 0.0057 - val_Global_Recall/Recall_5: 0.0236 - val_Global_Recall/Recall_10: 0.0446 - val_global_mean_rank: 997.1723 - val_Batch_Recall/Recall_1: 0.0449 - val_Batch_Recall/Recall_5: 0.1964 - val_Batch_Recall/Recall_10: 0.3415 - val_batch_mean_rank: 20.7801\n",
            "Epoch 42/100\n",
            "1000/1000 [==============================] - 62s 62ms/step - loss: 6.7538 - Global_Recall/Recall_1: 0.0079 - Global_Recall/Recall_5: 0.0378 - Global_Recall/Recall_10: 0.0696 - global_mean_rank: 881.0004 - Batch_Recall/Recall_1: 0.0558 - Batch_Recall/Recall_5: 0.2307 - Batch_Recall/Recall_10: 0.3913 - batch_mean_rank: 18.5507 - val_loss: 7.2036 - val_Global_Recall/Recall_1: 0.0060 - val_Global_Recall/Recall_5: 0.0258 - val_Global_Recall/Recall_10: 0.0482 - val_global_mean_rank: 969.1505 - val_Batch_Recall/Recall_1: 0.0457 - val_Batch_Recall/Recall_5: 0.1960 - val_Batch_Recall/Recall_10: 0.3413 - val_batch_mean_rank: 20.8647\n",
            "Epoch 43/100\n",
            "1000/1000 [==============================] - 62s 62ms/step - loss: 6.6846 - Global_Recall/Recall_1: 0.0086 - Global_Recall/Recall_5: 0.0392 - Global_Recall/Recall_10: 0.0738 - global_mean_rank: 875.4227 - Batch_Recall/Recall_1: 0.0604 - Batch_Recall/Recall_5: 0.2465 - Batch_Recall/Recall_10: 0.4127 - batch_mean_rank: 17.6151 - val_loss: 7.1368 - val_Global_Recall/Recall_1: 0.0052 - val_Global_Recall/Recall_5: 0.0268 - val_Global_Recall/Recall_10: 0.0526 - val_global_mean_rank: 992.7479 - val_Batch_Recall/Recall_1: 0.0520 - val_Batch_Recall/Recall_5: 0.2123 - val_Batch_Recall/Recall_10: 0.3592 - val_batch_mean_rank: 20.2294\n",
            "Epoch 44/100\n",
            "1000/1000 [==============================] - 62s 62ms/step - loss: 6.7245 - Global_Recall/Recall_1: 0.0092 - Global_Recall/Recall_5: 0.0397 - Global_Recall/Recall_10: 0.0725 - global_mean_rank: 842.9189 - Batch_Recall/Recall_1: 0.0580 - Batch_Recall/Recall_5: 0.2314 - Batch_Recall/Recall_10: 0.3900 - batch_mean_rank: 18.7461 - val_loss: 7.1657 - val_Global_Recall/Recall_1: 0.0062 - val_Global_Recall/Recall_5: 0.0252 - val_Global_Recall/Recall_10: 0.0480 - val_global_mean_rank: 983.8101 - val_Batch_Recall/Recall_1: 0.0507 - val_Batch_Recall/Recall_5: 0.2092 - val_Batch_Recall/Recall_10: 0.3577 - val_batch_mean_rank: 20.4097\n",
            "Epoch 45/100\n",
            "1000/1000 [==============================] - 62s 62ms/step - loss: 6.6891 - Global_Recall/Recall_1: 0.0089 - Global_Recall/Recall_5: 0.0395 - Global_Recall/Recall_10: 0.0740 - global_mean_rank: 813.8774 - Batch_Recall/Recall_1: 0.0568 - Batch_Recall/Recall_5: 0.2285 - Batch_Recall/Recall_10: 0.3840 - batch_mean_rank: 18.9288 - val_loss: 7.1781 - val_Global_Recall/Recall_1: 0.0058 - val_Global_Recall/Recall_5: 0.0281 - val_Global_Recall/Recall_10: 0.0485 - val_global_mean_rank: 985.4369 - val_Batch_Recall/Recall_1: 0.0512 - val_Batch_Recall/Recall_5: 0.2040 - val_Batch_Recall/Recall_10: 0.3493 - val_batch_mean_rank: 20.6243\n",
            "Epoch 46/100\n",
            "1000/1000 [==============================] - 62s 62ms/step - loss: 6.7150 - Global_Recall/Recall_1: 0.0088 - Global_Recall/Recall_5: 0.0403 - Global_Recall/Recall_10: 0.0733 - global_mean_rank: 797.3311 - Batch_Recall/Recall_1: 0.0549 - Batch_Recall/Recall_5: 0.2233 - Batch_Recall/Recall_10: 0.3744 - batch_mean_rank: 19.3732 - val_loss: 7.1457 - val_Global_Recall/Recall_1: 0.0067 - val_Global_Recall/Recall_5: 0.0330 - val_Global_Recall/Recall_10: 0.0560 - val_global_mean_rank: 971.5157 - val_Batch_Recall/Recall_1: 0.0512 - val_Batch_Recall/Recall_5: 0.2089 - val_Batch_Recall/Recall_10: 0.3525 - val_batch_mean_rank: 20.5835\n",
            "Epoch 47/100\n",
            "1000/1000 [==============================] - 62s 62ms/step - loss: 6.5840 - Global_Recall/Recall_1: 0.0107 - Global_Recall/Recall_5: 0.0460 - Global_Recall/Recall_10: 0.0836 - global_mean_rank: 737.2455 - Batch_Recall/Recall_1: 0.0527 - Batch_Recall/Recall_5: 0.2195 - Batch_Recall/Recall_10: 0.3763 - batch_mean_rank: 19.1660 - val_loss: 7.0959 - val_Global_Recall/Recall_1: 0.0064 - val_Global_Recall/Recall_5: 0.0298 - val_Global_Recall/Recall_10: 0.0564 - val_global_mean_rank: 956.1783 - val_Batch_Recall/Recall_1: 0.0515 - val_Batch_Recall/Recall_5: 0.2097 - val_Batch_Recall/Recall_10: 0.3529 - val_batch_mean_rank: 20.4992\n",
            "Epoch 48/100\n",
            "1000/1000 [==============================] - 62s 62ms/step - loss: 6.5678 - Global_Recall/Recall_1: 0.0108 - Global_Recall/Recall_5: 0.0475 - Global_Recall/Recall_10: 0.0856 - global_mean_rank: 715.5443 - Batch_Recall/Recall_1: 0.0523 - Batch_Recall/Recall_5: 0.2217 - Batch_Recall/Recall_10: 0.3752 - batch_mean_rank: 19.2841 - val_loss: 7.1145 - val_Global_Recall/Recall_1: 0.0049 - val_Global_Recall/Recall_5: 0.0281 - val_Global_Recall/Recall_10: 0.0528 - val_global_mean_rank: 968.7570 - val_Batch_Recall/Recall_1: 0.0513 - val_Batch_Recall/Recall_5: 0.2118 - val_Batch_Recall/Recall_10: 0.3624 - val_batch_mean_rank: 20.2564\n",
            "Epoch 49/100\n",
            "1000/1000 [==============================] - 62s 62ms/step - loss: 6.6233 - Global_Recall/Recall_1: 0.0119 - Global_Recall/Recall_5: 0.0470 - Global_Recall/Recall_10: 0.0849 - global_mean_rank: 752.3196 - Batch_Recall/Recall_1: 0.0534 - Batch_Recall/Recall_5: 0.2159 - Batch_Recall/Recall_10: 0.3704 - batch_mean_rank: 19.4884 - val_loss: 7.1075 - val_Global_Recall/Recall_1: 0.0067 - val_Global_Recall/Recall_5: 0.0273 - val_Global_Recall/Recall_10: 0.0530 - val_global_mean_rank: 984.4378 - val_Batch_Recall/Recall_1: 0.0527 - val_Batch_Recall/Recall_5: 0.2189 - val_Batch_Recall/Recall_10: 0.3675 - val_batch_mean_rank: 19.9586\n",
            "Epoch 50/100\n",
            "1000/1000 [==============================] - 62s 62ms/step - loss: 6.5302 - Global_Recall/Recall_1: 0.0126 - Global_Recall/Recall_5: 0.0530 - Global_Recall/Recall_10: 0.0929 - global_mean_rank: 697.4575 - Batch_Recall/Recall_1: 0.0496 - Batch_Recall/Recall_5: 0.2117 - Batch_Recall/Recall_10: 0.3610 - batch_mean_rank: 19.7973 - val_loss: 7.1400 - val_Global_Recall/Recall_1: 0.0056 - val_Global_Recall/Recall_5: 0.0295 - val_Global_Recall/Recall_10: 0.0510 - val_global_mean_rank: 980.7444 - val_Batch_Recall/Recall_1: 0.0534 - val_Batch_Recall/Recall_5: 0.2162 - val_Batch_Recall/Recall_10: 0.3635 - val_batch_mean_rank: 20.0688\n",
            "Epoch 51/100\n",
            "1000/1000 [==============================] - 62s 62ms/step - loss: 6.3889 - Global_Recall/Recall_1: 0.0173 - Global_Recall/Recall_5: 0.0689 - Global_Recall/Recall_10: 0.1173 - global_mean_rank: 649.3181 - Batch_Recall/Recall_1: 0.0501 - Batch_Recall/Recall_5: 0.2093 - Batch_Recall/Recall_10: 0.3622 - batch_mean_rank: 19.9810 - val_loss: 7.0943 - val_Global_Recall/Recall_1: 0.0060 - val_Global_Recall/Recall_5: 0.0353 - val_Global_Recall/Recall_10: 0.0584 - val_global_mean_rank: 987.4579 - val_Batch_Recall/Recall_1: 0.0554 - val_Batch_Recall/Recall_5: 0.2182 - val_Batch_Recall/Recall_10: 0.3696 - val_batch_mean_rank: 19.7877\n",
            "Epoch 52/100\n",
            "1000/1000 [==============================] - 62s 62ms/step - loss: 6.6062 - Global_Recall/Recall_1: 0.0132 - Global_Recall/Recall_5: 0.0509 - Global_Recall/Recall_10: 0.0889 - global_mean_rank: 764.4603 - Batch_Recall/Recall_1: 0.0500 - Batch_Recall/Recall_5: 0.2057 - Batch_Recall/Recall_10: 0.3573 - batch_mean_rank: 20.1902 - val_loss: 7.1056 - val_Global_Recall/Recall_1: 0.0073 - val_Global_Recall/Recall_5: 0.0341 - val_Global_Recall/Recall_10: 0.0615 - val_global_mean_rank: 1000.8870 - val_Batch_Recall/Recall_1: 0.0560 - val_Batch_Recall/Recall_5: 0.2225 - val_Batch_Recall/Recall_10: 0.3749 - val_batch_mean_rank: 19.6715\n",
            "Epoch 53/100\n",
            "1000/1000 [==============================] - 62s 62ms/step - loss: 6.7767 - Global_Recall/Recall_1: 0.0088 - Global_Recall/Recall_5: 0.0386 - Global_Recall/Recall_10: 0.0702 - global_mean_rank: 965.9661 - Batch_Recall/Recall_1: 0.0658 - Batch_Recall/Recall_5: 0.2583 - Batch_Recall/Recall_10: 0.4241 - batch_mean_rank: 17.4257 - val_loss: 7.1553 - val_Global_Recall/Recall_1: 0.0068 - val_Global_Recall/Recall_5: 0.0304 - val_Global_Recall/Recall_10: 0.0553 - val_global_mean_rank: 1045.3528 - val_Batch_Recall/Recall_1: 0.0599 - val_Batch_Recall/Recall_5: 0.2340 - val_Batch_Recall/Recall_10: 0.3859 - val_batch_mean_rank: 19.2657\n",
            "Epoch 54/100\n",
            "1000/1000 [==============================] - 63s 63ms/step - loss: 6.8015 - Global_Recall/Recall_1: 0.0077 - Global_Recall/Recall_5: 0.0340 - Global_Recall/Recall_10: 0.0636 - global_mean_rank: 841.0294 - Batch_Recall/Recall_1: 0.0547 - Batch_Recall/Recall_5: 0.2231 - Batch_Recall/Recall_10: 0.3762 - batch_mean_rank: 19.4921 - val_loss: 7.1478 - val_Global_Recall/Recall_1: 0.0070 - val_Global_Recall/Recall_5: 0.0290 - val_Global_Recall/Recall_10: 0.0517 - val_global_mean_rank: 1033.3445 - val_Batch_Recall/Recall_1: 0.0542 - val_Batch_Recall/Recall_5: 0.2246 - val_Batch_Recall/Recall_10: 0.3783 - val_batch_mean_rank: 19.4772\n",
            "Epoch 55/100\n",
            "1000/1000 [==============================] - 62s 62ms/step - loss: 6.6504 - Global_Recall/Recall_1: 0.0095 - Global_Recall/Recall_5: 0.0426 - Global_Recall/Recall_10: 0.0782 - global_mean_rank: 902.2535 - Batch_Recall/Recall_1: 0.0623 - Batch_Recall/Recall_5: 0.2559 - Batch_Recall/Recall_10: 0.4256 - batch_mean_rank: 17.2219 - val_loss: 7.0893 - val_Global_Recall/Recall_1: 0.0088 - val_Global_Recall/Recall_5: 0.0341 - val_Global_Recall/Recall_10: 0.0609 - val_global_mean_rank: 1002.2598 - val_Batch_Recall/Recall_1: 0.0567 - val_Batch_Recall/Recall_5: 0.2203 - val_Batch_Recall/Recall_10: 0.3726 - val_batch_mean_rank: 19.5534\n",
            "Epoch 56/100\n",
            "1000/1000 [==============================] - 62s 62ms/step - loss: 6.6242 - Global_Recall/Recall_1: 0.0096 - Global_Recall/Recall_5: 0.0436 - Global_Recall/Recall_10: 0.0793 - global_mean_rank: 878.8804 - Batch_Recall/Recall_1: 0.0658 - Batch_Recall/Recall_5: 0.2637 - Batch_Recall/Recall_10: 0.4316 - batch_mean_rank: 16.9691 - val_loss: 7.0863 - val_Global_Recall/Recall_1: 0.0073 - val_Global_Recall/Recall_5: 0.0328 - val_Global_Recall/Recall_10: 0.0591 - val_global_mean_rank: 1003.0383 - val_Batch_Recall/Recall_1: 0.0555 - val_Batch_Recall/Recall_5: 0.2301 - val_Batch_Recall/Recall_10: 0.3851 - val_batch_mean_rank: 19.3276\n",
            "Epoch 57/100\n",
            "1000/1000 [==============================] - 62s 62ms/step - loss: 6.6444 - Global_Recall/Recall_1: 0.0103 - Global_Recall/Recall_5: 0.0443 - Global_Recall/Recall_10: 0.0808 - global_mean_rank: 849.2510 - Batch_Recall/Recall_1: 0.0628 - Batch_Recall/Recall_5: 0.2482 - Batch_Recall/Recall_10: 0.4097 - batch_mean_rank: 17.9520 - val_loss: 7.0904 - val_Global_Recall/Recall_1: 0.0057 - val_Global_Recall/Recall_5: 0.0310 - val_Global_Recall/Recall_10: 0.0538 - val_global_mean_rank: 1008.3483 - val_Batch_Recall/Recall_1: 0.0571 - val_Batch_Recall/Recall_5: 0.2263 - val_Batch_Recall/Recall_10: 0.3820 - val_batch_mean_rank: 19.4259\n",
            "Epoch 58/100\n",
            "1000/1000 [==============================] - 62s 62ms/step - loss: 6.6305 - Global_Recall/Recall_1: 0.0096 - Global_Recall/Recall_5: 0.0427 - Global_Recall/Recall_10: 0.0791 - global_mean_rank: 820.9374 - Batch_Recall/Recall_1: 0.0610 - Batch_Recall/Recall_5: 0.2396 - Batch_Recall/Recall_10: 0.3993 - batch_mean_rank: 18.3493 - val_loss: 7.1331 - val_Global_Recall/Recall_1: 0.0062 - val_Global_Recall/Recall_5: 0.0280 - val_Global_Recall/Recall_10: 0.0510 - val_global_mean_rank: 1023.7856 - val_Batch_Recall/Recall_1: 0.0562 - val_Batch_Recall/Recall_5: 0.2222 - val_Batch_Recall/Recall_10: 0.3764 - val_batch_mean_rank: 19.5203\n",
            "Epoch 59/100\n",
            "1000/1000 [==============================] - 63s 63ms/step - loss: 6.6472 - Global_Recall/Recall_1: 0.0103 - Global_Recall/Recall_5: 0.0441 - Global_Recall/Recall_10: 0.0798 - global_mean_rank: 793.0276 - Batch_Recall/Recall_1: 0.0591 - Batch_Recall/Recall_5: 0.2334 - Batch_Recall/Recall_10: 0.3924 - batch_mean_rank: 18.7643 - val_loss: 7.0791 - val_Global_Recall/Recall_1: 0.0084 - val_Global_Recall/Recall_5: 0.0323 - val_Global_Recall/Recall_10: 0.0605 - val_global_mean_rank: 981.0479 - val_Batch_Recall/Recall_1: 0.0552 - val_Batch_Recall/Recall_5: 0.2236 - val_Batch_Recall/Recall_10: 0.3757 - val_batch_mean_rank: 19.6853\n",
            "Epoch 60/100\n",
            "1000/1000 [==============================] - 63s 63ms/step - loss: 6.5252 - Global_Recall/Recall_1: 0.0122 - Global_Recall/Recall_5: 0.0506 - Global_Recall/Recall_10: 0.0910 - global_mean_rank: 738.8494 - Batch_Recall/Recall_1: 0.0554 - Batch_Recall/Recall_5: 0.2309 - Batch_Recall/Recall_10: 0.3910 - batch_mean_rank: 18.6470 - val_loss: 7.0305 - val_Global_Recall/Recall_1: 0.0065 - val_Global_Recall/Recall_5: 0.0348 - val_Global_Recall/Recall_10: 0.0641 - val_global_mean_rank: 960.6882 - val_Batch_Recall/Recall_1: 0.0582 - val_Batch_Recall/Recall_5: 0.2270 - val_Batch_Recall/Recall_10: 0.3770 - val_batch_mean_rank: 19.7035\n",
            "Epoch 61/100\n",
            "1000/1000 [==============================] - 63s 63ms/step - loss: 6.4930 - Global_Recall/Recall_1: 0.0119 - Global_Recall/Recall_5: 0.0518 - Global_Recall/Recall_10: 0.0937 - global_mean_rank: 723.7699 - Batch_Recall/Recall_1: 0.0572 - Batch_Recall/Recall_5: 0.2375 - Batch_Recall/Recall_10: 0.3959 - batch_mean_rank: 18.4677 - val_loss: 7.0713 - val_Global_Recall/Recall_1: 0.0068 - val_Global_Recall/Recall_5: 0.0345 - val_Global_Recall/Recall_10: 0.0608 - val_global_mean_rank: 982.2458 - val_Batch_Recall/Recall_1: 0.0600 - val_Batch_Recall/Recall_5: 0.2290 - val_Batch_Recall/Recall_10: 0.3826 - val_batch_mean_rank: 19.4567\n",
            "Epoch 62/100\n",
            "1000/1000 [==============================] - 63s 63ms/step - loss: 6.5696 - Global_Recall/Recall_1: 0.0127 - Global_Recall/Recall_5: 0.0507 - Global_Recall/Recall_10: 0.0904 - global_mean_rank: 754.4487 - Batch_Recall/Recall_1: 0.0562 - Batch_Recall/Recall_5: 0.2306 - Batch_Recall/Recall_10: 0.3889 - batch_mean_rank: 18.8382 - val_loss: 7.0477 - val_Global_Recall/Recall_1: 0.0072 - val_Global_Recall/Recall_5: 0.0335 - val_Global_Recall/Recall_10: 0.0598 - val_global_mean_rank: 982.9252 - val_Batch_Recall/Recall_1: 0.0588 - val_Batch_Recall/Recall_5: 0.2323 - val_Batch_Recall/Recall_10: 0.3854 - val_batch_mean_rank: 19.3119\n",
            "Epoch 63/100\n",
            "1000/1000 [==============================] - 63s 63ms/step - loss: 6.4261 - Global_Recall/Recall_1: 0.0155 - Global_Recall/Recall_5: 0.0605 - Global_Recall/Recall_10: 0.1033 - global_mean_rank: 691.9922 - Batch_Recall/Recall_1: 0.0534 - Batch_Recall/Recall_5: 0.2252 - Batch_Recall/Recall_10: 0.3840 - batch_mean_rank: 19.0250 - val_loss: 7.0809 - val_Global_Recall/Recall_1: 0.0049 - val_Global_Recall/Recall_5: 0.0321 - val_Global_Recall/Recall_10: 0.0584 - val_global_mean_rank: 999.6304 - val_Batch_Recall/Recall_1: 0.0602 - val_Batch_Recall/Recall_5: 0.2358 - val_Batch_Recall/Recall_10: 0.3934 - val_batch_mean_rank: 19.1100\n",
            "Epoch 64/100\n",
            "1000/1000 [==============================] - 63s 63ms/step - loss: 6.3284 - Global_Recall/Recall_1: 0.0183 - Global_Recall/Recall_5: 0.0711 - Global_Recall/Recall_10: 0.1224 - global_mean_rank: 652.4669 - Batch_Recall/Recall_1: 0.0521 - Batch_Recall/Recall_5: 0.2192 - Batch_Recall/Recall_10: 0.3793 - batch_mean_rank: 19.2435 - val_loss: 7.0396 - val_Global_Recall/Recall_1: 0.0086 - val_Global_Recall/Recall_5: 0.0385 - val_Global_Recall/Recall_10: 0.0667 - val_global_mean_rank: 988.6873 - val_Batch_Recall/Recall_1: 0.0584 - val_Batch_Recall/Recall_5: 0.2281 - val_Batch_Recall/Recall_10: 0.3820 - val_batch_mean_rank: 19.2199\n",
            "Epoch 65/100\n",
            "1000/1000 [==============================] - 63s 63ms/step - loss: 6.5703 - Global_Recall/Recall_1: 0.0136 - Global_Recall/Recall_5: 0.0523 - Global_Recall/Recall_10: 0.0918 - global_mean_rank: 806.1672 - Batch_Recall/Recall_1: 0.0568 - Batch_Recall/Recall_5: 0.2254 - Batch_Recall/Recall_10: 0.3853 - batch_mean_rank: 19.0122 - val_loss: 7.0236 - val_Global_Recall/Recall_1: 0.0105 - val_Global_Recall/Recall_5: 0.0371 - val_Global_Recall/Recall_10: 0.0652 - val_global_mean_rank: 1041.3075 - val_Batch_Recall/Recall_1: 0.0649 - val_Batch_Recall/Recall_5: 0.2480 - val_Batch_Recall/Recall_10: 0.4057 - val_batch_mean_rank: 18.4199\n",
            "Epoch 66/100\n",
            "1000/1000 [==============================] - 63s 63ms/step - loss: 6.7139 - Global_Recall/Recall_1: 0.0089 - Global_Recall/Recall_5: 0.0404 - Global_Recall/Recall_10: 0.0742 - global_mean_rank: 953.4193 - Batch_Recall/Recall_1: 0.0698 - Batch_Recall/Recall_5: 0.2700 - Batch_Recall/Recall_10: 0.4414 - batch_mean_rank: 16.9211 - val_loss: 7.1387 - val_Global_Recall/Recall_1: 0.0077 - val_Global_Recall/Recall_5: 0.0366 - val_Global_Recall/Recall_10: 0.0627 - val_global_mean_rank: 1034.8678 - val_Batch_Recall/Recall_1: 0.0659 - val_Batch_Recall/Recall_5: 0.2505 - val_Batch_Recall/Recall_10: 0.4012 - val_batch_mean_rank: 18.7965\n",
            "Epoch 67/100\n",
            "1000/1000 [==============================] - 63s 63ms/step - loss: 6.7312 - Global_Recall/Recall_1: 0.0085 - Global_Recall/Recall_5: 0.0375 - Global_Recall/Recall_10: 0.0695 - global_mean_rank: 828.1879 - Batch_Recall/Recall_1: 0.0573 - Batch_Recall/Recall_5: 0.2332 - Batch_Recall/Recall_10: 0.3902 - batch_mean_rank: 19.0317 - val_loss: 7.0641 - val_Global_Recall/Recall_1: 0.0073 - val_Global_Recall/Recall_5: 0.0315 - val_Global_Recall/Recall_10: 0.0583 - val_global_mean_rank: 1034.3215 - val_Batch_Recall/Recall_1: 0.0573 - val_Batch_Recall/Recall_5: 0.2327 - val_Batch_Recall/Recall_10: 0.3946 - val_batch_mean_rank: 18.8383\n",
            "Epoch 68/100\n",
            "1000/1000 [==============================] - 63s 63ms/step - loss: 6.5449 - Global_Recall/Recall_1: 0.0101 - Global_Recall/Recall_5: 0.0485 - Global_Recall/Recall_10: 0.0884 - global_mean_rank: 901.7359 - Batch_Recall/Recall_1: 0.0699 - Batch_Recall/Recall_5: 0.2763 - Batch_Recall/Recall_10: 0.4545 - batch_mean_rank: 16.1799 - val_loss: 7.0744 - val_Global_Recall/Recall_1: 0.0080 - val_Global_Recall/Recall_5: 0.0370 - val_Global_Recall/Recall_10: 0.0669 - val_global_mean_rank: 1003.9141 - val_Batch_Recall/Recall_1: 0.0631 - val_Batch_Recall/Recall_5: 0.2415 - val_Batch_Recall/Recall_10: 0.3955 - val_batch_mean_rank: 18.8774\n",
            "Epoch 69/100\n",
            "1000/1000 [==============================] - 62s 62ms/step - loss: 6.5842 - Global_Recall/Recall_1: 0.0105 - Global_Recall/Recall_5: 0.0450 - Global_Recall/Recall_10: 0.0834 - global_mean_rank: 877.4091 - Batch_Recall/Recall_1: 0.0712 - Batch_Recall/Recall_5: 0.2730 - Batch_Recall/Recall_10: 0.4461 - batch_mean_rank: 16.5621 - val_loss: 7.0453 - val_Global_Recall/Recall_1: 0.0075 - val_Global_Recall/Recall_5: 0.0350 - val_Global_Recall/Recall_10: 0.0584 - val_global_mean_rank: 1049.1206 - val_Batch_Recall/Recall_1: 0.0638 - val_Batch_Recall/Recall_5: 0.2515 - val_Batch_Recall/Recall_10: 0.4099 - val_batch_mean_rank: 18.3649\n",
            "Epoch 70/100\n",
            "1000/1000 [==============================] - 62s 62ms/step - loss: 6.5710 - Global_Recall/Recall_1: 0.0107 - Global_Recall/Recall_5: 0.0475 - Global_Recall/Recall_10: 0.0873 - global_mean_rank: 839.3394 - Batch_Recall/Recall_1: 0.0670 - Batch_Recall/Recall_5: 0.2587 - Batch_Recall/Recall_10: 0.4260 - batch_mean_rank: 17.4176 - val_loss: 7.0463 - val_Global_Recall/Recall_1: 0.0066 - val_Global_Recall/Recall_5: 0.0322 - val_Global_Recall/Recall_10: 0.0611 - val_global_mean_rank: 1027.5208 - val_Batch_Recall/Recall_1: 0.0640 - val_Batch_Recall/Recall_5: 0.2504 - val_Batch_Recall/Recall_10: 0.4099 - val_batch_mean_rank: 18.4630\n",
            "Epoch 71/100\n",
            "1000/1000 [==============================] - 63s 63ms/step - loss: 6.6058 - Global_Recall/Recall_1: 0.0101 - Global_Recall/Recall_5: 0.0452 - Global_Recall/Recall_10: 0.0825 - global_mean_rank: 811.8464 - Batch_Recall/Recall_1: 0.0625 - Batch_Recall/Recall_5: 0.2459 - Batch_Recall/Recall_10: 0.4058 - batch_mean_rank: 18.2778 - val_loss: 7.0679 - val_Global_Recall/Recall_1: 0.0060 - val_Global_Recall/Recall_5: 0.0308 - val_Global_Recall/Recall_10: 0.0578 - val_global_mean_rank: 999.6201 - val_Batch_Recall/Recall_1: 0.0609 - val_Batch_Recall/Recall_5: 0.2342 - val_Batch_Recall/Recall_10: 0.3889 - val_batch_mean_rank: 19.2002\n",
            "Epoch 72/100\n",
            "1000/1000 [==============================] - 62s 62ms/step - loss: 6.5456 - Global_Recall/Recall_1: 0.0113 - Global_Recall/Recall_5: 0.0483 - Global_Recall/Recall_10: 0.0882 - global_mean_rank: 786.5917 - Batch_Recall/Recall_1: 0.0620 - Batch_Recall/Recall_5: 0.2500 - Batch_Recall/Recall_10: 0.4153 - batch_mean_rank: 17.8549 - val_loss: 7.0158 - val_Global_Recall/Recall_1: 0.0075 - val_Global_Recall/Recall_5: 0.0380 - val_Global_Recall/Recall_10: 0.0638 - val_global_mean_rank: 991.8649 - val_Batch_Recall/Recall_1: 0.0608 - val_Batch_Recall/Recall_5: 0.2351 - val_Batch_Recall/Recall_10: 0.3961 - val_batch_mean_rank: 18.8516\n",
            "Epoch 73/100\n",
            "1000/1000 [==============================] - 63s 63ms/step - loss: 6.4628 - Global_Recall/Recall_1: 0.0129 - Global_Recall/Recall_5: 0.0540 - Global_Recall/Recall_10: 0.0967 - global_mean_rank: 737.6021 - Batch_Recall/Recall_1: 0.0588 - Batch_Recall/Recall_5: 0.2446 - Batch_Recall/Recall_10: 0.4095 - batch_mean_rank: 18.0080 - val_loss: 6.9988 - val_Global_Recall/Recall_1: 0.0101 - val_Global_Recall/Recall_5: 0.0362 - val_Global_Recall/Recall_10: 0.0666 - val_global_mean_rank: 971.2599 - val_Batch_Recall/Recall_1: 0.0627 - val_Batch_Recall/Recall_5: 0.2348 - val_Batch_Recall/Recall_10: 0.3867 - val_batch_mean_rank: 19.1165\n",
            "Epoch 74/100\n",
            "1000/1000 [==============================] - 63s 63ms/step - loss: 6.4087 - Global_Recall/Recall_1: 0.0130 - Global_Recall/Recall_5: 0.0560 - Global_Recall/Recall_10: 0.1013 - global_mean_rank: 726.4350 - Batch_Recall/Recall_1: 0.0621 - Batch_Recall/Recall_5: 0.2521 - Batch_Recall/Recall_10: 0.4187 - batch_mean_rank: 17.6300 - val_loss: 7.0137 - val_Global_Recall/Recall_1: 0.0093 - val_Global_Recall/Recall_5: 0.0362 - val_Global_Recall/Recall_10: 0.0696 - val_global_mean_rank: 985.6306 - val_Batch_Recall/Recall_1: 0.0652 - val_Batch_Recall/Recall_5: 0.2461 - val_Batch_Recall/Recall_10: 0.4038 - val_batch_mean_rank: 18.6270\n",
            "Epoch 75/100\n",
            "1000/1000 [==============================] - 63s 63ms/step - loss: 6.5075 - Global_Recall/Recall_1: 0.0138 - Global_Recall/Recall_5: 0.0541 - Global_Recall/Recall_10: 0.0952 - global_mean_rank: 754.4026 - Batch_Recall/Recall_1: 0.0592 - Batch_Recall/Recall_5: 0.2431 - Batch_Recall/Recall_10: 0.4084 - batch_mean_rank: 18.1891 - val_loss: 6.9986 - val_Global_Recall/Recall_1: 0.0084 - val_Global_Recall/Recall_5: 0.0393 - val_Global_Recall/Recall_10: 0.0681 - val_global_mean_rank: 1008.9393 - val_Batch_Recall/Recall_1: 0.0658 - val_Batch_Recall/Recall_5: 0.2521 - val_Batch_Recall/Recall_10: 0.4142 - val_batch_mean_rank: 18.3737\n",
            "Epoch 76/100\n",
            "1000/1000 [==============================] - 63s 63ms/step - loss: 6.2798 - Global_Recall/Recall_1: 0.0183 - Global_Recall/Recall_5: 0.0708 - Global_Recall/Recall_10: 0.1202 - global_mean_rank: 671.9525 - Batch_Recall/Recall_1: 0.0581 - Batch_Recall/Recall_5: 0.2399 - Batch_Recall/Recall_10: 0.4051 - batch_mean_rank: 18.1840 - val_loss: 7.0152 - val_Global_Recall/Recall_1: 0.0047 - val_Global_Recall/Recall_5: 0.0303 - val_Global_Recall/Recall_10: 0.0617 - val_global_mean_rank: 995.4515 - val_Batch_Recall/Recall_1: 0.0619 - val_Batch_Recall/Recall_5: 0.2486 - val_Batch_Recall/Recall_10: 0.4132 - val_batch_mean_rank: 18.4815\n",
            "Epoch 77/100\n",
            "1000/1000 [==============================] - 62s 62ms/step - loss: 6.2562 - Global_Recall/Recall_1: 0.0195 - Global_Recall/Recall_5: 0.0743 - Global_Recall/Recall_10: 0.1276 - global_mean_rank: 648.3917 - Batch_Recall/Recall_1: 0.0540 - Batch_Recall/Recall_5: 0.2280 - Batch_Recall/Recall_10: 0.3917 - batch_mean_rank: 18.7058 - val_loss: 7.0063 - val_Global_Recall/Recall_1: 0.0089 - val_Global_Recall/Recall_5: 0.0405 - val_Global_Recall/Recall_10: 0.0687 - val_global_mean_rank: 999.1760 - val_Batch_Recall/Recall_1: 0.0640 - val_Batch_Recall/Recall_5: 0.2466 - val_Batch_Recall/Recall_10: 0.4067 - val_batch_mean_rank: 18.4370\n",
            "Epoch 78/100\n",
            "1000/1000 [==============================] - 62s 62ms/step - loss: 6.5585 - Global_Recall/Recall_1: 0.0129 - Global_Recall/Recall_5: 0.0528 - Global_Recall/Recall_10: 0.0936 - global_mean_rank: 861.0257 - Batch_Recall/Recall_1: 0.0653 - Batch_Recall/Recall_5: 0.2564 - Batch_Recall/Recall_10: 0.4199 - batch_mean_rank: 17.7483 - val_loss: 7.0192 - val_Global_Recall/Recall_1: 0.0095 - val_Global_Recall/Recall_5: 0.0386 - val_Global_Recall/Recall_10: 0.0697 - val_global_mean_rank: 1008.9230 - val_Batch_Recall/Recall_1: 0.0704 - val_Batch_Recall/Recall_5: 0.2621 - val_Batch_Recall/Recall_10: 0.4152 - val_batch_mean_rank: 18.3273\n",
            "Epoch 79/100\n",
            "1000/1000 [==============================] - 62s 62ms/step - loss: 6.5950 - Global_Recall/Recall_1: 0.0104 - Global_Recall/Recall_5: 0.0455 - Global_Recall/Recall_10: 0.0844 - global_mean_rank: 923.8703 - Batch_Recall/Recall_1: 0.0760 - Batch_Recall/Recall_5: 0.2897 - Batch_Recall/Recall_10: 0.4635 - batch_mean_rank: 16.2188 - val_loss: 7.0421 - val_Global_Recall/Recall_1: 0.0075 - val_Global_Recall/Recall_5: 0.0417 - val_Global_Recall/Recall_10: 0.0697 - val_global_mean_rank: 1033.2980 - val_Batch_Recall/Recall_1: 0.0693 - val_Batch_Recall/Recall_5: 0.2650 - val_Batch_Recall/Recall_10: 0.4217 - val_batch_mean_rank: 18.0614\n",
            "Epoch 80/100\n",
            "1000/1000 [==============================] - 62s 62ms/step - loss: 6.6831 - Global_Recall/Recall_1: 0.0089 - Global_Recall/Recall_5: 0.0396 - Global_Recall/Recall_10: 0.0734 - global_mean_rank: 826.1884 - Batch_Recall/Recall_1: 0.0611 - Batch_Recall/Recall_5: 0.2425 - Batch_Recall/Recall_10: 0.4020 - batch_mean_rank: 18.6221 - val_loss: 6.9906 - val_Global_Recall/Recall_1: 0.0079 - val_Global_Recall/Recall_5: 0.0387 - val_Global_Recall/Recall_10: 0.0650 - val_global_mean_rank: 1052.3450 - val_Batch_Recall/Recall_1: 0.0690 - val_Batch_Recall/Recall_5: 0.2676 - val_Batch_Recall/Recall_10: 0.4332 - val_batch_mean_rank: 17.6981\n",
            "Epoch 81/100\n",
            "1000/1000 [==============================] - 62s 62ms/step - loss: 6.4419 - Global_Recall/Recall_1: 0.0118 - Global_Recall/Recall_5: 0.0550 - Global_Recall/Recall_10: 0.0988 - global_mean_rank: 902.0402 - Batch_Recall/Recall_1: 0.0765 - Batch_Recall/Recall_5: 0.2985 - Batch_Recall/Recall_10: 0.4812 - batch_mean_rank: 15.2903 - val_loss: 6.9833 - val_Global_Recall/Recall_1: 0.0111 - val_Global_Recall/Recall_5: 0.0392 - val_Global_Recall/Recall_10: 0.0690 - val_global_mean_rank: 1016.8828 - val_Batch_Recall/Recall_1: 0.0708 - val_Batch_Recall/Recall_5: 0.2652 - val_Batch_Recall/Recall_10: 0.4247 - val_batch_mean_rank: 17.8936\n",
            "Epoch 82/100\n",
            "1000/1000 [==============================] - 64s 64ms/step - loss: 6.4936 - Global_Recall/Recall_1: 0.0120 - Global_Recall/Recall_5: 0.0531 - Global_Recall/Recall_10: 0.0963 - global_mean_rank: 875.6751 - Batch_Recall/Recall_1: 0.0774 - Batch_Recall/Recall_5: 0.2925 - Batch_Recall/Recall_10: 0.4690 - batch_mean_rank: 15.8890 - val_loss: 7.0040 - val_Global_Recall/Recall_1: 0.0105 - val_Global_Recall/Recall_5: 0.0402 - val_Global_Recall/Recall_10: 0.0694 - val_global_mean_rank: 1025.6501 - val_Batch_Recall/Recall_1: 0.0707 - val_Batch_Recall/Recall_5: 0.2700 - val_Batch_Recall/Recall_10: 0.4291 - val_batch_mean_rank: 17.8406\n",
            "Epoch 83/100\n",
            "1000/1000 [==============================] - 63s 63ms/step - loss: 6.5129 - Global_Recall/Recall_1: 0.0123 - Global_Recall/Recall_5: 0.0518 - Global_Recall/Recall_10: 0.0940 - global_mean_rank: 828.6218 - Batch_Recall/Recall_1: 0.0717 - Batch_Recall/Recall_5: 0.2712 - Batch_Recall/Recall_10: 0.4396 - batch_mean_rank: 16.9897 - val_loss: 6.9979 - val_Global_Recall/Recall_1: 0.0082 - val_Global_Recall/Recall_5: 0.0347 - val_Global_Recall/Recall_10: 0.0630 - val_global_mean_rank: 1039.4021 - val_Batch_Recall/Recall_1: 0.0717 - val_Batch_Recall/Recall_5: 0.2708 - val_Batch_Recall/Recall_10: 0.4329 - val_batch_mean_rank: 17.6950\n",
            "Epoch 84/100\n",
            "1000/1000 [==============================] - 62s 62ms/step - loss: 6.5279 - Global_Recall/Recall_1: 0.0114 - Global_Recall/Recall_5: 0.0499 - Global_Recall/Recall_10: 0.0914 - global_mean_rank: 807.9731 - Batch_Recall/Recall_1: 0.0678 - Batch_Recall/Recall_5: 0.2623 - Batch_Recall/Recall_10: 0.4269 - batch_mean_rank: 17.5826 - val_loss: 7.0417 - val_Global_Recall/Recall_1: 0.0064 - val_Global_Recall/Recall_5: 0.0360 - val_Global_Recall/Recall_10: 0.0659 - val_global_mean_rank: 1015.8729 - val_Batch_Recall/Recall_1: 0.0707 - val_Batch_Recall/Recall_5: 0.2608 - val_Batch_Recall/Recall_10: 0.4206 - val_batch_mean_rank: 18.1092\n",
            "Epoch 85/100\n",
            "1000/1000 [==============================] - 62s 62ms/step - loss: 6.4793 - Global_Recall/Recall_1: 0.0123 - Global_Recall/Recall_5: 0.0540 - Global_Recall/Recall_10: 0.0979 - global_mean_rank: 776.2254 - Batch_Recall/Recall_1: 0.0657 - Batch_Recall/Recall_5: 0.2617 - Batch_Recall/Recall_10: 0.4306 - batch_mean_rank: 17.3884 - val_loss: 6.9600 - val_Global_Recall/Recall_1: 0.0083 - val_Global_Recall/Recall_5: 0.0405 - val_Global_Recall/Recall_10: 0.0711 - val_global_mean_rank: 994.0989 - val_Batch_Recall/Recall_1: 0.0689 - val_Batch_Recall/Recall_5: 0.2560 - val_Batch_Recall/Recall_10: 0.4203 - val_batch_mean_rank: 18.0785\n",
            "Epoch 86/100\n",
            "1000/1000 [==============================] - 63s 63ms/step - loss: 6.3512 - Global_Recall/Recall_1: 0.0140 - Global_Recall/Recall_5: 0.0605 - Global_Recall/Recall_10: 0.1091 - global_mean_rank: 732.4255 - Batch_Recall/Recall_1: 0.0649 - Batch_Recall/Recall_5: 0.2645 - Batch_Recall/Recall_10: 0.4354 - batch_mean_rank: 17.0786 - val_loss: 6.9417 - val_Global_Recall/Recall_1: 0.0097 - val_Global_Recall/Recall_5: 0.0391 - val_Global_Recall/Recall_10: 0.0713 - val_global_mean_rank: 968.8125 - val_Batch_Recall/Recall_1: 0.0668 - val_Batch_Recall/Recall_5: 0.2525 - val_Batch_Recall/Recall_10: 0.4112 - val_batch_mean_rank: 18.3148\n",
            "Epoch 87/100\n",
            "1000/1000 [==============================] - 62s 62ms/step - loss: 6.3217 - Global_Recall/Recall_1: 0.0142 - Global_Recall/Recall_5: 0.0637 - Global_Recall/Recall_10: 0.1130 - global_mean_rank: 728.2089 - Batch_Recall/Recall_1: 0.0690 - Batch_Recall/Recall_5: 0.2743 - Batch_Recall/Recall_10: 0.4441 - batch_mean_rank: 16.8561 - val_loss: 6.9523 - val_Global_Recall/Recall_1: 0.0090 - val_Global_Recall/Recall_5: 0.0397 - val_Global_Recall/Recall_10: 0.0725 - val_global_mean_rank: 991.4464 - val_Batch_Recall/Recall_1: 0.0729 - val_Batch_Recall/Recall_5: 0.2699 - val_Batch_Recall/Recall_10: 0.4305 - val_batch_mean_rank: 17.8455\n",
            "Epoch 88/100\n",
            "1000/1000 [==============================] - 62s 62ms/step - loss: 6.4403 - Global_Recall/Recall_1: 0.0145 - Global_Recall/Recall_5: 0.0595 - Global_Recall/Recall_10: 0.1042 - global_mean_rank: 764.2342 - Batch_Recall/Recall_1: 0.0657 - Batch_Recall/Recall_5: 0.2608 - Batch_Recall/Recall_10: 0.4295 - batch_mean_rank: 17.4889 - val_loss: 6.9419 - val_Global_Recall/Recall_1: 0.0100 - val_Global_Recall/Recall_5: 0.0441 - val_Global_Recall/Recall_10: 0.0763 - val_global_mean_rank: 1010.2285 - val_Batch_Recall/Recall_1: 0.0771 - val_Batch_Recall/Recall_5: 0.2765 - val_Batch_Recall/Recall_10: 0.4410 - val_batch_mean_rank: 17.5831\n",
            "Epoch 89/100\n",
            "1000/1000 [==============================] - 62s 62ms/step - loss: 6.1313 - Global_Recall/Recall_1: 0.0213 - Global_Recall/Recall_5: 0.0821 - Global_Recall/Recall_10: 0.1385 - global_mean_rank: 646.1799 - Batch_Recall/Recall_1: 0.0644 - Batch_Recall/Recall_5: 0.2559 - Batch_Recall/Recall_10: 0.4292 - batch_mean_rank: 17.4150 - val_loss: 6.9656 - val_Global_Recall/Recall_1: 0.0093 - val_Global_Recall/Recall_5: 0.0392 - val_Global_Recall/Recall_10: 0.0700 - val_global_mean_rank: 991.0923 - val_Batch_Recall/Recall_1: 0.0705 - val_Batch_Recall/Recall_5: 0.2658 - val_Batch_Recall/Recall_10: 0.4312 - val_batch_mean_rank: 17.8278\n",
            "Epoch 90/100\n",
            "1000/1000 [==============================] - 62s 62ms/step - loss: 6.2035 - Global_Recall/Recall_1: 0.0204 - Global_Recall/Recall_5: 0.0786 - Global_Recall/Recall_10: 0.1354 - global_mean_rank: 650.6111 - Batch_Recall/Recall_1: 0.0560 - Batch_Recall/Recall_5: 0.2386 - Batch_Recall/Recall_10: 0.4036 - batch_mean_rank: 18.3478 - val_loss: 6.9218 - val_Global_Recall/Recall_1: 0.0102 - val_Global_Recall/Recall_5: 0.0428 - val_Global_Recall/Recall_10: 0.0760 - val_global_mean_rank: 1017.7274 - val_Batch_Recall/Recall_1: 0.0751 - val_Batch_Recall/Recall_5: 0.2745 - val_Batch_Recall/Recall_10: 0.4417 - val_batch_mean_rank: 17.4115\n",
            "Epoch 91/100\n",
            "1000/1000 [==============================] - 62s 62ms/step - loss: 6.5343 - Global_Recall/Recall_1: 0.0126 - Global_Recall/Recall_5: 0.0546 - Global_Recall/Recall_10: 0.0981 - global_mean_rank: 910.1477 - Batch_Recall/Recall_1: 0.0759 - Batch_Recall/Recall_5: 0.2858 - Batch_Recall/Recall_10: 0.4555 - batch_mean_rank: 16.6425 - val_loss: 6.9142 - val_Global_Recall/Recall_1: 0.0116 - val_Global_Recall/Recall_5: 0.0435 - val_Global_Recall/Recall_10: 0.0786 - val_global_mean_rank: 1018.7291 - val_Batch_Recall/Recall_1: 0.0788 - val_Batch_Recall/Recall_5: 0.2826 - val_Batch_Recall/Recall_10: 0.4432 - val_batch_mean_rank: 17.3454\n",
            "Epoch 92/100\n",
            "1000/1000 [==============================] - 62s 62ms/step - loss: 6.5033 - Global_Recall/Recall_1: 0.0116 - Global_Recall/Recall_5: 0.0508 - Global_Recall/Recall_10: 0.0937 - global_mean_rank: 916.4844 - Batch_Recall/Recall_1: 0.0811 - Batch_Recall/Recall_5: 0.3060 - Batch_Recall/Recall_10: 0.4828 - batch_mean_rank: 15.5378 - val_loss: 6.9157 - val_Global_Recall/Recall_1: 0.0102 - val_Global_Recall/Recall_5: 0.0433 - val_Global_Recall/Recall_10: 0.0791 - val_global_mean_rank: 1065.0074 - val_Batch_Recall/Recall_1: 0.0799 - val_Batch_Recall/Recall_5: 0.2893 - val_Batch_Recall/Recall_10: 0.4576 - val_batch_mean_rank: 16.9321\n",
            "Epoch 93/100\n",
            "1000/1000 [==============================] - 62s 62ms/step - loss: 6.5852 - Global_Recall/Recall_1: 0.0106 - Global_Recall/Recall_5: 0.0460 - Global_Recall/Recall_10: 0.0837 - global_mean_rank: 817.3831 - Batch_Recall/Recall_1: 0.0661 - Batch_Recall/Recall_5: 0.2574 - Batch_Recall/Recall_10: 0.4227 - batch_mean_rank: 17.8678 - val_loss: 6.9521 - val_Global_Recall/Recall_1: 0.0119 - val_Global_Recall/Recall_5: 0.0469 - val_Global_Recall/Recall_10: 0.0774 - val_global_mean_rank: 1043.2528 - val_Batch_Recall/Recall_1: 0.0789 - val_Batch_Recall/Recall_5: 0.2808 - val_Batch_Recall/Recall_10: 0.4434 - val_batch_mean_rank: 17.2888\n",
            "Epoch 94/100\n",
            "1000/1000 [==============================] - 62s 62ms/step - loss: 6.3199 - Global_Recall/Recall_1: 0.0140 - Global_Recall/Recall_5: 0.0634 - Global_Recall/Recall_10: 0.1131 - global_mean_rank: 889.0439 - Batch_Recall/Recall_1: 0.0846 - Batch_Recall/Recall_5: 0.3193 - Batch_Recall/Recall_10: 0.5053 - batch_mean_rank: 14.4858 - val_loss: 6.9564 - val_Global_Recall/Recall_1: 0.0112 - val_Global_Recall/Recall_5: 0.0439 - val_Global_Recall/Recall_10: 0.0762 - val_global_mean_rank: 1002.4587 - val_Batch_Recall/Recall_1: 0.0753 - val_Batch_Recall/Recall_5: 0.2760 - val_Batch_Recall/Recall_10: 0.4367 - val_batch_mean_rank: 17.5039\n",
            "Epoch 95/100\n",
            "1000/1000 [==============================] - 62s 62ms/step - loss: 6.4250 - Global_Recall/Recall_1: 0.0136 - Global_Recall/Recall_5: 0.0588 - Global_Recall/Recall_10: 0.1049 - global_mean_rank: 874.7973 - Batch_Recall/Recall_1: 0.0835 - Batch_Recall/Recall_5: 0.3092 - Batch_Recall/Recall_10: 0.4863 - batch_mean_rank: 15.4523 - val_loss: 6.9639 - val_Global_Recall/Recall_1: 0.0098 - val_Global_Recall/Recall_5: 0.0424 - val_Global_Recall/Recall_10: 0.0742 - val_global_mean_rank: 1037.5741 - val_Batch_Recall/Recall_1: 0.0786 - val_Batch_Recall/Recall_5: 0.2809 - val_Batch_Recall/Recall_10: 0.4419 - val_batch_mean_rank: 17.3126\n",
            "Epoch 96/100\n",
            "1000/1000 [==============================] - 62s 62ms/step - loss: 6.4702 - Global_Recall/Recall_1: 0.0129 - Global_Recall/Recall_5: 0.0559 - Global_Recall/Recall_10: 0.1009 - global_mean_rank: 829.4159 - Batch_Recall/Recall_1: 0.0737 - Batch_Recall/Recall_5: 0.2845 - Batch_Recall/Recall_10: 0.4548 - batch_mean_rank: 16.6299 - val_loss: 6.9325 - val_Global_Recall/Recall_1: 0.0096 - val_Global_Recall/Recall_5: 0.0397 - val_Global_Recall/Recall_10: 0.0711 - val_global_mean_rank: 1040.2328 - val_Batch_Recall/Recall_1: 0.0799 - val_Batch_Recall/Recall_5: 0.2879 - val_Batch_Recall/Recall_10: 0.4509 - val_batch_mean_rank: 17.1279\n",
            "Epoch 97/100\n",
            "1000/1000 [==============================] - 62s 62ms/step - loss: 6.4444 - Global_Recall/Recall_1: 0.0131 - Global_Recall/Recall_5: 0.0547 - Global_Recall/Recall_10: 0.0993 - global_mean_rank: 800.0660 - Batch_Recall/Recall_1: 0.0733 - Batch_Recall/Recall_5: 0.2817 - Batch_Recall/Recall_10: 0.4507 - batch_mean_rank: 16.8752 - val_loss: 6.9159 - val_Global_Recall/Recall_1: 0.0103 - val_Global_Recall/Recall_5: 0.0429 - val_Global_Recall/Recall_10: 0.0767 - val_global_mean_rank: 1032.2113 - val_Batch_Recall/Recall_1: 0.0792 - val_Batch_Recall/Recall_5: 0.2803 - val_Batch_Recall/Recall_10: 0.4467 - val_batch_mean_rank: 17.2162\n",
            "Epoch 98/100\n",
            "1000/1000 [==============================] - 62s 62ms/step - loss: 6.3783 - Global_Recall/Recall_1: 0.0143 - Global_Recall/Recall_5: 0.0609 - Global_Recall/Recall_10: 0.1093 - global_mean_rank: 766.0024 - Batch_Recall/Recall_1: 0.0720 - Batch_Recall/Recall_5: 0.2777 - Batch_Recall/Recall_10: 0.4519 - batch_mean_rank: 16.6733 - val_loss: 6.8860 - val_Global_Recall/Recall_1: 0.0089 - val_Global_Recall/Recall_5: 0.0437 - val_Global_Recall/Recall_10: 0.0761 - val_global_mean_rank: 1019.0418 - val_Batch_Recall/Recall_1: 0.0780 - val_Batch_Recall/Recall_5: 0.2849 - val_Batch_Recall/Recall_10: 0.4503 - val_batch_mean_rank: 17.0984\n",
            "Epoch 99/100\n",
            "1000/1000 [==============================] - 62s 62ms/step - loss: 6.2735 - Global_Recall/Recall_1: 0.0155 - Global_Recall/Recall_5: 0.0655 - Global_Recall/Recall_10: 0.1177 - global_mean_rank: 734.7482 - Batch_Recall/Recall_1: 0.0706 - Batch_Recall/Recall_5: 0.2810 - Batch_Recall/Recall_10: 0.4556 - batch_mean_rank: 16.4378 - val_loss: 6.9225 - val_Global_Recall/Recall_1: 0.0096 - val_Global_Recall/Recall_5: 0.0422 - val_Global_Recall/Recall_10: 0.0738 - val_global_mean_rank: 990.3825 - val_Batch_Recall/Recall_1: 0.0761 - val_Batch_Recall/Recall_5: 0.2727 - val_Batch_Recall/Recall_10: 0.4349 - val_batch_mean_rank: 17.5618\n",
            "Epoch 100/100\n",
            "1000/1000 [==============================] - 62s 62ms/step - loss: 6.3016 - Global_Recall/Recall_1: 0.0157 - Global_Recall/Recall_5: 0.0656 - Global_Recall/Recall_10: 0.1155 - global_mean_rank: 745.3684 - Batch_Recall/Recall_1: 0.0745 - Batch_Recall/Recall_5: 0.2836 - Batch_Recall/Recall_10: 0.4589 - batch_mean_rank: 16.4583 - val_loss: 6.8879 - val_Global_Recall/Recall_1: 0.0125 - val_Global_Recall/Recall_5: 0.0433 - val_Global_Recall/Recall_10: 0.0742 - val_global_mean_rank: 1030.2930 - val_Batch_Recall/Recall_1: 0.0826 - val_Batch_Recall/Recall_5: 0.2901 - val_Batch_Recall/Recall_10: 0.4527 - val_batch_mean_rank: 17.0751\n",
            "INFO:tensorflow:<tensorflow.python.keras.callbacks.History object at 0x7fef703ca470>\n",
            "I1001 14:31:37.687947 140667743577984 app.py:251] <tensorflow.python.keras.callbacks.History object at 0x7fef703ca470>\n"
          ],
          "name": "stdout"
        }
      ]
    },
    {
      "cell_type": "markdown",
      "metadata": {
        "id": "ObH_mcGcxS96"
      },
      "source": [
        "# Export model\n",
        "\n",
        "Now we export the trained model to a tflite file suitable for on-device inference on mobile devices.\n"
      ]
    },
    {
      "cell_type": "code",
      "metadata": {
        "id": "SH5r6AxHzGrS",
        "scrolled": true,
        "outputId": "e7027bea-6775-44bd-a16c-5d61c7ff767c",
        "colab": {
          "base_uri": "https://localhost:8080/",
          "height": 1000
        }
      },
      "source": [
        "!python -m model.recommendation_model_launcher_keras \\\n",
        "  --run_mode \"export\" \\\n",
        "  --encoder_type \"cnn\" \\\n",
        "  --params_path \"model/sample_config.json\"\\\n",
        "  --model_dir \"model/model_dir\" \\\n",
        "  --checkpoint_path \"model/model_dir/ckpt-100000\" \\\n",
        "  --num_predictions 100"
      ],
      "execution_count": null,
      "outputs": [
        {
          "output_type": "stream",
          "text": [
            "2020-10-01 14:52:10.927403: I tensorflow/stream_executor/platform/default/dso_loader.cc:48] Successfully opened dynamic library libcudart.so.10.1\n",
            "INFO:tensorflow:Setting up train and eval input_fns.\n",
            "I1001 14:52:12.207955 139789516760960 app.py:251] Setting up train and eval input_fns.\n",
            "INFO:tensorflow:Build keras model for mode: export.\n",
            "I1001 14:52:12.208148 139789516760960 app.py:251] Build keras model for mode: export.\n",
            "2020-10-01 14:52:12.214049: I tensorflow/stream_executor/platform/default/dso_loader.cc:48] Successfully opened dynamic library libcuda.so.1\n",
            "2020-10-01 14:52:12.216306: I tensorflow/stream_executor/cuda/cuda_gpu_executor.cc:982] successful NUMA node read from SysFS had negative value (-1), but there must be at least one NUMA node, so returning NUMA node zero\n",
            "2020-10-01 14:52:12.216846: I tensorflow/core/common_runtime/gpu/gpu_device.cc:1716] Found device 0 with properties: \n",
            "pciBusID: 0000:00:04.0 name: Tesla P100-PCIE-16GB computeCapability: 6.0\n",
            "coreClock: 1.3285GHz coreCount: 56 deviceMemorySize: 15.90GiB deviceMemoryBandwidth: 681.88GiB/s\n",
            "2020-10-01 14:52:12.216880: I tensorflow/stream_executor/platform/default/dso_loader.cc:48] Successfully opened dynamic library libcudart.so.10.1\n",
            "2020-10-01 14:52:12.218355: I tensorflow/stream_executor/platform/default/dso_loader.cc:48] Successfully opened dynamic library libcublas.so.10\n",
            "2020-10-01 14:52:12.220052: I tensorflow/stream_executor/platform/default/dso_loader.cc:48] Successfully opened dynamic library libcufft.so.10\n",
            "2020-10-01 14:52:12.220364: I tensorflow/stream_executor/platform/default/dso_loader.cc:48] Successfully opened dynamic library libcurand.so.10\n",
            "2020-10-01 14:52:12.222023: I tensorflow/stream_executor/platform/default/dso_loader.cc:48] Successfully opened dynamic library libcusolver.so.10\n",
            "2020-10-01 14:52:12.223174: I tensorflow/stream_executor/platform/default/dso_loader.cc:48] Successfully opened dynamic library libcusparse.so.10\n",
            "2020-10-01 14:52:12.226663: I tensorflow/stream_executor/platform/default/dso_loader.cc:48] Successfully opened dynamic library libcudnn.so.7\n",
            "2020-10-01 14:52:12.226776: I tensorflow/stream_executor/cuda/cuda_gpu_executor.cc:982] successful NUMA node read from SysFS had negative value (-1), but there must be at least one NUMA node, so returning NUMA node zero\n",
            "2020-10-01 14:52:12.227317: I tensorflow/stream_executor/cuda/cuda_gpu_executor.cc:982] successful NUMA node read from SysFS had negative value (-1), but there must be at least one NUMA node, so returning NUMA node zero\n",
            "2020-10-01 14:52:12.227817: I tensorflow/core/common_runtime/gpu/gpu_device.cc:1858] Adding visible gpu devices: 0\n",
            "2020-10-01 14:52:12.236880: I tensorflow/core/platform/profile_utils/cpu_utils.cc:104] CPU Frequency: 2199995000 Hz\n",
            "2020-10-01 14:52:12.237064: I tensorflow/compiler/xla/service/service.cc:168] XLA service 0x3026a00 initialized for platform Host (this does not guarantee that XLA will be used). Devices:\n",
            "2020-10-01 14:52:12.237093: I tensorflow/compiler/xla/service/service.cc:176]   StreamExecutor device (0): Host, Default Version\n",
            "2020-10-01 14:52:12.323675: I tensorflow/stream_executor/cuda/cuda_gpu_executor.cc:982] successful NUMA node read from SysFS had negative value (-1), but there must be at least one NUMA node, so returning NUMA node zero\n",
            "2020-10-01 14:52:12.324358: I tensorflow/compiler/xla/service/service.cc:168] XLA service 0x30279c0 initialized for platform CUDA (this does not guarantee that XLA will be used). Devices:\n",
            "2020-10-01 14:52:12.324388: I tensorflow/compiler/xla/service/service.cc:176]   StreamExecutor device (0): Tesla P100-PCIE-16GB, Compute Capability 6.0\n",
            "2020-10-01 14:52:12.324576: I tensorflow/stream_executor/cuda/cuda_gpu_executor.cc:982] successful NUMA node read from SysFS had negative value (-1), but there must be at least one NUMA node, so returning NUMA node zero\n",
            "2020-10-01 14:52:12.325119: I tensorflow/core/common_runtime/gpu/gpu_device.cc:1716] Found device 0 with properties: \n",
            "pciBusID: 0000:00:04.0 name: Tesla P100-PCIE-16GB computeCapability: 6.0\n",
            "coreClock: 1.3285GHz coreCount: 56 deviceMemorySize: 15.90GiB deviceMemoryBandwidth: 681.88GiB/s\n",
            "2020-10-01 14:52:12.325166: I tensorflow/stream_executor/platform/default/dso_loader.cc:48] Successfully opened dynamic library libcudart.so.10.1\n",
            "2020-10-01 14:52:12.325213: I tensorflow/stream_executor/platform/default/dso_loader.cc:48] Successfully opened dynamic library libcublas.so.10\n",
            "2020-10-01 14:52:12.325235: I tensorflow/stream_executor/platform/default/dso_loader.cc:48] Successfully opened dynamic library libcufft.so.10\n",
            "2020-10-01 14:52:12.325256: I tensorflow/stream_executor/platform/default/dso_loader.cc:48] Successfully opened dynamic library libcurand.so.10\n",
            "2020-10-01 14:52:12.325274: I tensorflow/stream_executor/platform/default/dso_loader.cc:48] Successfully opened dynamic library libcusolver.so.10\n",
            "2020-10-01 14:52:12.325293: I tensorflow/stream_executor/platform/default/dso_loader.cc:48] Successfully opened dynamic library libcusparse.so.10\n",
            "2020-10-01 14:52:12.325314: I tensorflow/stream_executor/platform/default/dso_loader.cc:48] Successfully opened dynamic library libcudnn.so.7\n",
            "2020-10-01 14:52:12.325384: I tensorflow/stream_executor/cuda/cuda_gpu_executor.cc:982] successful NUMA node read from SysFS had negative value (-1), but there must be at least one NUMA node, so returning NUMA node zero\n",
            "2020-10-01 14:52:12.325940: I tensorflow/stream_executor/cuda/cuda_gpu_executor.cc:982] successful NUMA node read from SysFS had negative value (-1), but there must be at least one NUMA node, so returning NUMA node zero\n",
            "2020-10-01 14:52:12.326411: I tensorflow/core/common_runtime/gpu/gpu_device.cc:1858] Adding visible gpu devices: 0\n",
            "2020-10-01 14:52:12.326462: I tensorflow/stream_executor/platform/default/dso_loader.cc:48] Successfully opened dynamic library libcudart.so.10.1\n",
            "2020-10-01 14:52:12.909242: I tensorflow/core/common_runtime/gpu/gpu_device.cc:1257] Device interconnect StreamExecutor with strength 1 edge matrix:\n",
            "2020-10-01 14:52:12.909300: I tensorflow/core/common_runtime/gpu/gpu_device.cc:1263]      0 \n",
            "2020-10-01 14:52:12.909312: I tensorflow/core/common_runtime/gpu/gpu_device.cc:1276] 0:   N \n",
            "2020-10-01 14:52:12.909500: I tensorflow/stream_executor/cuda/cuda_gpu_executor.cc:982] successful NUMA node read from SysFS had negative value (-1), but there must be at least one NUMA node, so returning NUMA node zero\n",
            "2020-10-01 14:52:12.910129: I tensorflow/stream_executor/cuda/cuda_gpu_executor.cc:982] successful NUMA node read from SysFS had negative value (-1), but there must be at least one NUMA node, so returning NUMA node zero\n",
            "2020-10-01 14:52:12.910628: W tensorflow/core/common_runtime/gpu/gpu_bfc_allocator.cc:39] Overriding allow_growth setting because the TF_FORCE_GPU_ALLOW_GROWTH environment variable is set. Original config value was 0.\n",
            "2020-10-01 14:52:12.910673: I tensorflow/core/common_runtime/gpu/gpu_device.cc:1402] Created TensorFlow device (/job:localhost/replica:0/task:0/device:GPU:0 with 14636 MB memory) -> physical GPU (device: 0, name: Tesla P100-PCIE-16GB, pci bus id: 0000:00:04.0, compute capability: 6.0)\n",
            "INFO:tensorflow:Exporting model to dir: model/model_dir/export\n",
            "I1001 14:52:12.980271 139789516760960 app.py:251] Exporting model to dir: model/model_dir/export\n",
            "WARNING:tensorflow:Skipping full serialization of Keras layer <model.recommendation_model.RecommendationModel object at 0x7f23459c0240>, because it is not built.\n",
            "W1001 14:52:13.561562 139789516760960 save_impl.py:78] Skipping full serialization of Keras layer <model.recommendation_model.RecommendationModel object at 0x7f23459c0240>, because it is not built.\n",
            "2020-10-01 14:52:13.582986: W tensorflow/python/util/util.cc:348] Sets are not currently considered sequences, but this may change in the future, so consider avoiding using them.\n",
            "INFO:tensorflow:Assets written to: model/model_dir/export/assets\n",
            "I1001 14:52:13.711660 139789516760960 builder_impl.py:775] Assets written to: model/model_dir/export/assets\n",
            "WARNING:tensorflow:Unresolved object in checkpoint: (root).optimizer\n",
            "W1001 14:52:13.717598 139789516760960 util.py:150] Unresolved object in checkpoint: (root).optimizer\n",
            "WARNING:tensorflow:Unresolved object in checkpoint: (root).optimizer.iter\n",
            "W1001 14:52:13.717781 139789516760960 util.py:150] Unresolved object in checkpoint: (root).optimizer.iter\n",
            "WARNING:tensorflow:Unresolved object in checkpoint: (root).optimizer.decay\n",
            "W1001 14:52:13.717872 139789516760960 util.py:150] Unresolved object in checkpoint: (root).optimizer.decay\n",
            "WARNING:tensorflow:Unresolved object in checkpoint: (root).optimizer.learning_rate\n",
            "W1001 14:52:13.717958 139789516760960 util.py:150] Unresolved object in checkpoint: (root).optimizer.learning_rate\n",
            "WARNING:tensorflow:Unresolved object in checkpoint: (root).optimizer's state 'accumulator' for (root).model._context_embedding_layer.embeddings\n",
            "W1001 14:52:13.718033 139789516760960 util.py:150] Unresolved object in checkpoint: (root).optimizer's state 'accumulator' for (root).model._context_embedding_layer.embeddings\n",
            "WARNING:tensorflow:Unresolved object in checkpoint: (root).optimizer's state 'accumulator' for (root).model._label_embedding_layer.embeddings\n",
            "W1001 14:52:13.718105 139789516760960 util.py:150] Unresolved object in checkpoint: (root).optimizer's state 'accumulator' for (root).model._label_embedding_layer.embeddings\n",
            "WARNING:tensorflow:Unresolved object in checkpoint: (root).optimizer's state 'accumulator' for (root).model._context_encoder._conv1d_layers.0.kernel\n",
            "W1001 14:52:13.718173 139789516760960 util.py:150] Unresolved object in checkpoint: (root).optimizer's state 'accumulator' for (root).model._context_encoder._conv1d_layers.0.kernel\n",
            "WARNING:tensorflow:Unresolved object in checkpoint: (root).optimizer's state 'accumulator' for (root).model._context_encoder._conv1d_layers.0.bias\n",
            "W1001 14:52:13.718243 139789516760960 util.py:150] Unresolved object in checkpoint: (root).optimizer's state 'accumulator' for (root).model._context_encoder._conv1d_layers.0.bias\n",
            "WARNING:tensorflow:Unresolved object in checkpoint: (root).optimizer's state 'accumulator' for (root).model._context_encoder._conv1d_layers.1.kernel\n",
            "W1001 14:52:13.718310 139789516760960 util.py:150] Unresolved object in checkpoint: (root).optimizer's state 'accumulator' for (root).model._context_encoder._conv1d_layers.1.kernel\n",
            "WARNING:tensorflow:Unresolved object in checkpoint: (root).optimizer's state 'accumulator' for (root).model._context_encoder._conv1d_layers.1.bias\n",
            "W1001 14:52:13.718378 139789516760960 util.py:150] Unresolved object in checkpoint: (root).optimizer's state 'accumulator' for (root).model._context_encoder._conv1d_layers.1.bias\n",
            "WARNING:tensorflow:Unresolved object in checkpoint: (root).optimizer's state 'accumulator' for (root).model._context_encoder._hidden_layers.0.kernel\n",
            "W1001 14:52:13.718445 139789516760960 util.py:150] Unresolved object in checkpoint: (root).optimizer's state 'accumulator' for (root).model._context_encoder._hidden_layers.0.kernel\n",
            "WARNING:tensorflow:Unresolved object in checkpoint: (root).optimizer's state 'accumulator' for (root).model._context_encoder._hidden_layers.0.bias\n",
            "W1001 14:52:13.718513 139789516760960 util.py:150] Unresolved object in checkpoint: (root).optimizer's state 'accumulator' for (root).model._context_encoder._hidden_layers.0.bias\n",
            "WARNING:tensorflow:Unresolved object in checkpoint: (root).optimizer's state 'accumulator' for (root).model._context_encoder._hidden_layers.1.kernel\n",
            "W1001 14:52:13.718580 139789516760960 util.py:150] Unresolved object in checkpoint: (root).optimizer's state 'accumulator' for (root).model._context_encoder._hidden_layers.1.kernel\n",
            "WARNING:tensorflow:Unresolved object in checkpoint: (root).optimizer's state 'accumulator' for (root).model._context_encoder._hidden_layers.1.bias\n",
            "W1001 14:52:13.718647 139789516760960 util.py:150] Unresolved object in checkpoint: (root).optimizer's state 'accumulator' for (root).model._context_encoder._hidden_layers.1.bias\n",
            "WARNING:tensorflow:A checkpoint was restored (e.g. tf.train.Checkpoint.restore or tf.keras.Model.load_weights) but not all checkpointed values were used. See above for specific issues. Use expect_partial() on the load status object, e.g. tf.train.Checkpoint.restore(...).expect_partial(), to silence these warnings, or use assert_consumed() to make the check explicit. See https://www.tensorflow.org/guide/checkpoint#loading_mechanics for details.\n",
            "W1001 14:52:13.718727 139789516760960 util.py:158] A checkpoint was restored (e.g. tf.train.Checkpoint.restore or tf.keras.Model.load_weights) but not all checkpointed values were used. See above for specific issues. Use expect_partial() on the load status object, e.g. tf.train.Checkpoint.restore(...).expect_partial(), to silence these warnings, or use assert_consumed() to make the check explicit. See https://www.tensorflow.org/guide/checkpoint#loading_mechanics for details.\n",
            "INFO:tensorflow:Converting model to tflite model.\n",
            "I1001 14:52:13.719298 139789516760960 app.py:251] Converting model to tflite model.\n",
            "2020-10-01 14:52:13.812729: I tensorflow/stream_executor/cuda/cuda_gpu_executor.cc:982] successful NUMA node read from SysFS had negative value (-1), but there must be at least one NUMA node, so returning NUMA node zero\n",
            "2020-10-01 14:52:13.813302: I tensorflow/core/grappler/devices.cc:69] Number of eligible GPUs (core count >= 8, compute capability >= 0.0): 1\n",
            "2020-10-01 14:52:13.813408: I tensorflow/core/grappler/clusters/single_machine.cc:356] Starting new session\n",
            "2020-10-01 14:52:13.813984: I tensorflow/stream_executor/cuda/cuda_gpu_executor.cc:982] successful NUMA node read from SysFS had negative value (-1), but there must be at least one NUMA node, so returning NUMA node zero\n",
            "2020-10-01 14:52:13.814524: I tensorflow/core/common_runtime/gpu/gpu_device.cc:1716] Found device 0 with properties: \n",
            "pciBusID: 0000:00:04.0 name: Tesla P100-PCIE-16GB computeCapability: 6.0\n",
            "coreClock: 1.3285GHz coreCount: 56 deviceMemorySize: 15.90GiB deviceMemoryBandwidth: 681.88GiB/s\n",
            "2020-10-01 14:52:13.814569: I tensorflow/stream_executor/platform/default/dso_loader.cc:48] Successfully opened dynamic library libcudart.so.10.1\n",
            "2020-10-01 14:52:13.814608: I tensorflow/stream_executor/platform/default/dso_loader.cc:48] Successfully opened dynamic library libcublas.so.10\n",
            "2020-10-01 14:52:13.814632: I tensorflow/stream_executor/platform/default/dso_loader.cc:48] Successfully opened dynamic library libcufft.so.10\n",
            "2020-10-01 14:52:13.814655: I tensorflow/stream_executor/platform/default/dso_loader.cc:48] Successfully opened dynamic library libcurand.so.10\n",
            "2020-10-01 14:52:13.814676: I tensorflow/stream_executor/platform/default/dso_loader.cc:48] Successfully opened dynamic library libcusolver.so.10\n",
            "2020-10-01 14:52:13.814711: I tensorflow/stream_executor/platform/default/dso_loader.cc:48] Successfully opened dynamic library libcusparse.so.10\n",
            "2020-10-01 14:52:13.814734: I tensorflow/stream_executor/platform/default/dso_loader.cc:48] Successfully opened dynamic library libcudnn.so.7\n",
            "2020-10-01 14:52:13.814801: I tensorflow/stream_executor/cuda/cuda_gpu_executor.cc:982] successful NUMA node read from SysFS had negative value (-1), but there must be at least one NUMA node, so returning NUMA node zero\n",
            "2020-10-01 14:52:13.815346: I tensorflow/stream_executor/cuda/cuda_gpu_executor.cc:982] successful NUMA node read from SysFS had negative value (-1), but there must be at least one NUMA node, so returning NUMA node zero\n",
            "2020-10-01 14:52:13.815852: I tensorflow/core/common_runtime/gpu/gpu_device.cc:1858] Adding visible gpu devices: 0\n",
            "2020-10-01 14:52:13.815897: I tensorflow/core/common_runtime/gpu/gpu_device.cc:1257] Device interconnect StreamExecutor with strength 1 edge matrix:\n",
            "2020-10-01 14:52:13.815915: I tensorflow/core/common_runtime/gpu/gpu_device.cc:1263]      0 \n",
            "2020-10-01 14:52:13.815938: I tensorflow/core/common_runtime/gpu/gpu_device.cc:1276] 0:   N \n",
            "2020-10-01 14:52:13.816031: I tensorflow/stream_executor/cuda/cuda_gpu_executor.cc:982] successful NUMA node read from SysFS had negative value (-1), but there must be at least one NUMA node, so returning NUMA node zero\n",
            "2020-10-01 14:52:13.816572: I tensorflow/stream_executor/cuda/cuda_gpu_executor.cc:982] successful NUMA node read from SysFS had negative value (-1), but there must be at least one NUMA node, so returning NUMA node zero\n",
            "2020-10-01 14:52:13.817169: I tensorflow/core/common_runtime/gpu/gpu_device.cc:1402] Created TensorFlow device (/job:localhost/replica:0/task:0/device:GPU:0 with 14636 MB memory) -> physical GPU (device: 0, name: Tesla P100-PCIE-16GB, pci bus id: 0000:00:04.0, compute capability: 6.0)\n",
            "2020-10-01 14:52:13.825757: I tensorflow/core/grappler/optimizers/meta_optimizer.cc:816] Optimization results for grappler item: graph_to_optimize\n",
            "2020-10-01 14:52:13.825795: I tensorflow/core/grappler/optimizers/meta_optimizer.cc:818]   function_optimizer: Graph size after: 92 nodes (78), 93 edges (78), time = 2.452ms.\n",
            "2020-10-01 14:52:13.825812: I tensorflow/core/grappler/optimizers/meta_optimizer.cc:818]   function_optimizer: function_optimizer did nothing. time = 0.056ms.\n",
            "I1001 14:52:13.894153 139789516760960 lite.py:624] Using experimental converter: If you encountered a problem please file a bug. You can opt-out by setting experimental_new_converter=False\n",
            "2020-10-01 14:52:13.896900: W tensorflow/compiler/mlir/lite/python/tf_tfl_flatbuffer_helpers.cc:313] Ignored output_format.\n",
            "2020-10-01 14:52:13.896955: W tensorflow/compiler/mlir/lite/python/tf_tfl_flatbuffer_helpers.cc:316] Ignored drop_control_dependency.\n",
            "2020-10-01 14:52:13.901792: I tensorflow/stream_executor/cuda/cuda_gpu_executor.cc:982] successful NUMA node read from SysFS had negative value (-1), but there must be at least one NUMA node, so returning NUMA node zero\n",
            "2020-10-01 14:52:13.902442: I tensorflow/core/common_runtime/gpu/gpu_device.cc:1716] Found device 0 with properties: \n",
            "pciBusID: 0000:00:04.0 name: Tesla P100-PCIE-16GB computeCapability: 6.0\n",
            "coreClock: 1.3285GHz coreCount: 56 deviceMemorySize: 15.90GiB deviceMemoryBandwidth: 681.88GiB/s\n",
            "2020-10-01 14:52:13.902492: I tensorflow/stream_executor/platform/default/dso_loader.cc:48] Successfully opened dynamic library libcudart.so.10.1\n",
            "2020-10-01 14:52:13.902539: I tensorflow/stream_executor/platform/default/dso_loader.cc:48] Successfully opened dynamic library libcublas.so.10\n",
            "2020-10-01 14:52:13.902565: I tensorflow/stream_executor/platform/default/dso_loader.cc:48] Successfully opened dynamic library libcufft.so.10\n",
            "2020-10-01 14:52:13.902585: I tensorflow/stream_executor/platform/default/dso_loader.cc:48] Successfully opened dynamic library libcurand.so.10\n",
            "2020-10-01 14:52:13.902606: I tensorflow/stream_executor/platform/default/dso_loader.cc:48] Successfully opened dynamic library libcusolver.so.10\n",
            "2020-10-01 14:52:13.902627: I tensorflow/stream_executor/platform/default/dso_loader.cc:48] Successfully opened dynamic library libcusparse.so.10\n",
            "2020-10-01 14:52:13.902649: I tensorflow/stream_executor/platform/default/dso_loader.cc:48] Successfully opened dynamic library libcudnn.so.7\n",
            "2020-10-01 14:52:13.902777: I tensorflow/stream_executor/cuda/cuda_gpu_executor.cc:982] successful NUMA node read from SysFS had negative value (-1), but there must be at least one NUMA node, so returning NUMA node zero\n",
            "2020-10-01 14:52:13.903326: I tensorflow/stream_executor/cuda/cuda_gpu_executor.cc:982] successful NUMA node read from SysFS had negative value (-1), but there must be at least one NUMA node, so returning NUMA node zero\n",
            "2020-10-01 14:52:13.903812: I tensorflow/core/common_runtime/gpu/gpu_device.cc:1858] Adding visible gpu devices: 0\n",
            "2020-10-01 14:52:13.903980: I tensorflow/core/common_runtime/gpu/gpu_device.cc:1257] Device interconnect StreamExecutor with strength 1 edge matrix:\n",
            "2020-10-01 14:52:13.904027: I tensorflow/core/common_runtime/gpu/gpu_device.cc:1263]      0 \n",
            "2020-10-01 14:52:13.904043: I tensorflow/core/common_runtime/gpu/gpu_device.cc:1276] 0:   N \n",
            "2020-10-01 14:52:13.904183: I tensorflow/stream_executor/cuda/cuda_gpu_executor.cc:982] successful NUMA node read from SysFS had negative value (-1), but there must be at least one NUMA node, so returning NUMA node zero\n",
            "2020-10-01 14:52:13.904790: I tensorflow/stream_executor/cuda/cuda_gpu_executor.cc:982] successful NUMA node read from SysFS had negative value (-1), but there must be at least one NUMA node, so returning NUMA node zero\n",
            "2020-10-01 14:52:13.905324: I tensorflow/core/common_runtime/gpu/gpu_device.cc:1402] Created TensorFlow device (/job:localhost/replica:0/task:0/device:GPU:0 with 14636 MB memory) -> physical GPU (device: 0, name: Tesla P100-PCIE-16GB, pci bus id: 0000:00:04.0, compute capability: 6.0)\n"
          ],
          "name": "stdout"
        }
      ]
    },
    {
      "cell_type": "markdown",
      "metadata": {
        "id": "qXMQ5D5JzSgv"
      },
      "source": [
        "# Model inference (Optional)\n",
        "\n",
        "You could verify your model's performance by running inference with test examples."
      ]
    },
    {
      "cell_type": "code",
      "metadata": {
        "id": "og0qkYavz3Nt",
        "scrolled": true,
        "outputId": "b514a4ec-2e14-4e92-b42b-53599dc76c12",
        "colab": {
          "base_uri": "https://localhost:8080/",
          "height": 280
        }
      },
      "source": [
        "import tensorflow as tf\n",
        "import os\n",
        "import json\n",
        "\n",
        "# Use [0, 1, ... 9] as example input to represent 10 movies that user interacted with.\n",
        "#context = [1196, 1210, 2628]\n",
        "# context = tf.range(10)\n",
        "context = tf.constant([1196, 1210, 2628, 260, 480, 2571, 589, 1240, 1, 10])\n",
        "\n",
        "# Directory to exported TensorFlow Lite model.\n",
        "export_dir = \"model/model_dir/export\"\n",
        "tflite_model_path = os.path.join(export_dir, 'model.tflite')\n",
        "f = open(tflite_model_path, 'rb')\n",
        "interpreter = tf.lite.Interpreter(model_content=f.read())\n",
        "interpreter.allocate_tensors()\n",
        "input_details = interpreter.get_input_details()\n",
        "output_details = interpreter.get_output_details()\n",
        "print(input_details)\n",
        "print(output_details)\n",
        "\n",
        "interpreter.set_tensor(input_details[0]['index'], context)\n",
        "interpreter.invoke()\n",
        "tflite_top_predictions_ids = interpreter.get_tensor(\n",
        "    output_details[0]['index'])\n",
        "tflite_top_prediction_scores = interpreter.get_tensor(\n",
        "    output_details[1]['index'])\n",
        "print(\"results >>>>>\")\n",
        "print(\"input >>>>>\")\n",
        "print(input_details[0])\n",
        "print(\"output >>>>>\")\n",
        "print(tflite_top_predictions_ids)"
      ],
      "execution_count": null,
      "outputs": [
        {
          "output_type": "stream",
          "text": [
            "[{'name': 'context', 'index': 0, 'shape': array([10], dtype=int32), 'shape_signature': array([10], dtype=int32), 'dtype': <class 'numpy.int32'>, 'quantization': (0.0, 0), 'quantization_parameters': {'scales': array([], dtype=float32), 'zero_points': array([], dtype=int32), 'quantized_dimension': 0}, 'sparsity_parameters': {}}]\n",
            "[{'name': 'Identity', 'index': 43, 'shape': array([100], dtype=int32), 'shape_signature': array([100], dtype=int32), 'dtype': <class 'numpy.int32'>, 'quantization': (0.0, 0), 'quantization_parameters': {'scales': array([], dtype=float32), 'zero_points': array([], dtype=int32), 'quantized_dimension': 0}, 'sparsity_parameters': {}}, {'name': 'Identity_1', 'index': 44, 'shape': array([100], dtype=int32), 'shape_signature': array([100], dtype=int32), 'dtype': <class 'numpy.float32'>, 'quantization': (0.0, 0), 'quantization_parameters': {'scales': array([], dtype=float32), 'zero_points': array([], dtype=int32), 'quantized_dimension': 0}, 'sparsity_parameters': {}}]\n",
            "results >>>>>\n",
            "input >>>>>\n",
            "{'name': 'context', 'index': 0, 'shape': array([10], dtype=int32), 'shape_signature': array([10], dtype=int32), 'dtype': <class 'numpy.int32'>, 'quantization': (0.0, 0), 'quantization_parameters': {'scales': array([], dtype=float32), 'zero_points': array([], dtype=int32), 'quantized_dimension': 0}, 'sparsity_parameters': {}}\n",
            "output >>>>>\n",
            "[2916 3527 1374  480 1610 1580 1396 1653 1376  592 1210 2985 2529 1584\n",
            "  377 1127 1240  474  457 1527   32 2968 3702 1356 2000    6  589 2194\n",
            "   21 2353 1408 2640 1748 1270 3418 3256 1200 2571 1573  733 3175 2058\n",
            " 1921 1291 2115 2949 1215 1275 1222 3703 1129 1965 2662 1954 3104 2947\n",
            " 1097 3267 3699  349  671  110 1220 2628 2993  555 2406 2288 1036 2278\n",
            " 1909 1370 2455 2948 1372 2140 1253 2527 1274 1175 2407 1197 3471  198\n",
            " 2427 2872  610 1912 1199 1214 1301 2028 3700 2363 3763  112 3639  741\n",
            " 1196 1077]\n"
          ],
          "name": "stdout"
        }
      ]
    },
    {
      "cell_type": "markdown",
      "metadata": {
        "id": "A_omMjoT035u"
      },
      "source": [
        "# Deploy model to the Firebase Console\n",
        "\n",
        "We now deploy the model to the Firebase Console. From there, it can be automatically downloaded to your user's devices with Firebase ML. After performing this step, please return to the codelab and complete the last steps."
      ]
    },
    {
      "cell_type": "markdown",
      "metadata": {
        "id": "awx9Q73aFyfS"
      },
      "source": [
        "Step 1. Initialize Firebase App Instance"
      ]
    },
    {
      "cell_type": "code",
      "metadata": {
        "id": "NxHAv1OaNo-X",
        "outputId": "51267f31-aab6-4088-e54b-ae77d321ade3",
        "colab": {
          "base_uri": "https://localhost:8080/",
          "height": 35
        }
      },
      "source": [
        "import firebase_admin\n",
        "\n",
        "firebase_admin.initialize_app(\n",
        "    options={'projectId': projectID, \n",
        "             'storageBucket': projectID + '.appspot.com' })"
      ],
      "execution_count": null,
      "outputs": [
        {
          "output_type": "execute_result",
          "data": {
            "text/plain": [
              "<firebase_admin.App at 0x7f31001cb400>"
            ]
          },
          "metadata": {
            "tags": []
          },
          "execution_count": 32
        }
      ]
    },
    {
      "cell_type": "markdown",
      "metadata": {
        "id": "7PxvbLcNNoxZ"
      },
      "source": [
        "Step 2. Upload the model file to Cloud Storage"
      ]
    },
    {
      "cell_type": "code",
      "metadata": {
        "id": "8WPegXrvdnth",
        "outputId": "de540b3e-cfd1-4212-a8fd-5a7a5fb0f1c6",
        "colab": {
          "base_uri": "https://localhost:8080/",
          "height": 35
        }
      },
      "source": [
        "from firebase_admin import ml\n",
        "\n",
        "# This uploads it to your bucket as recommendation.tflite\n",
        "source = ml.TFLiteGCSModelSource.from_saved_model(export_dir, 'recommendation.tflite')\n",
        "print (source.gcs_tflite_uri)"
      ],
      "execution_count": null,
      "outputs": [
        {
          "output_type": "stream",
          "text": [
            "gs://test-5244e.appspot.com/Firebase/ML/Models/recommendation.tflite\n"
          ],
          "name": "stdout"
        }
      ]
    },
    {
      "cell_type": "markdown",
      "metadata": {
        "id": "cjUgFOCCF4Ro"
      },
      "source": [
        "Step 3. Deploy the model to Firebase"
      ]
    },
    {
      "cell_type": "code",
      "metadata": {
        "id": "EbPwOU1iF75O",
        "outputId": "0ed732c7-c88c-4d35-989c-4238b611f860",
        "colab": {
          "base_uri": "https://localhost:8080/",
          "height": 55
        }
      },
      "source": [
        "# Create a Model Format\n",
        "model_format = ml.TFLiteFormat(model_source=source)\n",
        "\n",
        "# Create a Model object\n",
        "sdk_model_1 = ml.Model(display_name=\"recommendation\", model_format=model_format)\n",
        "\n",
        "# Make the Create API call to create the model in Firebase\n",
        "firebase_model_1 = ml.create_model(sdk_model_1)\n",
        "print(firebase_model_1.as_dict())\n",
        "\n",
        "# Publish the model\n",
        "model_id = firebase_model_1.model_id\n",
        "firebase_model_1 = ml.publish_model(model_id)"
      ],
      "execution_count": null,
      "outputs": [
        {
          "output_type": "stream",
          "text": [
            "{'name': 'projects/test-5244e/models/13692000', 'displayName': 'recommendation', 'createTime': '2020-10-01T14:52:33.183658Z', 'updateTime': '2020-10-01T14:52:33.183658Z', 'state': {}, 'etag': '15ee149656166a0d0e360707e1d770d2cea45a1592687c0688d5358a1409cb61', 'modelHash': '4595bd64315f2e07e8fde86f9e472cc29809a5060df40d77787c945b9a97a4cd', 'tfliteModel': {'sizeBytes': '561196', 'gcsTfliteUri': 'gs://test-5244e.appspot.com/Firebase/ML/Models/recommendation.tflite'}}\n"
          ],
          "name": "stdout"
        }
      ]
    }
  ]
}